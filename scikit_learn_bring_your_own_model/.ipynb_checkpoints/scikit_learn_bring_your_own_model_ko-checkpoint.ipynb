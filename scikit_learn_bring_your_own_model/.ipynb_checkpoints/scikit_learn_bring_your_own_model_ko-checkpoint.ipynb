{
 "cells": [
  {
   "cell_type": "markdown",
   "id": "0d1bf0a9",
   "metadata": {},
   "source": [
    "# Amazon SageMaker scikit-learn Bring Your Own Model (나만의 모델 가져오기)\n",
    "\n"
   ]
  },
  {
   "cell_type": "markdown",
   "id": "a6419ae0",
   "metadata": {},
   "source": [
    "---\n",
    "\n",
    "This notebook's CI test result for us-west-2 is as follows. CI test results in other regions can be found at the end of the notebook. \n",
    "\n",
    "![This us-west-2 badge failed to load. Check your device's internet connectivity, otherwise the service is currently unavailable](https://prod.us-west-2.tcx-beacon.docs.aws.dev/sagemaker-nb/us-west-2/advanced_functionality|scikit_learn_bring_your_own_model|scikit_learn_bring_your_own_model.ipynb)\n",
    "\n",
    "---"
   ]
  },
  {
   "cell_type": "markdown",
   "id": "43a1dded",
   "metadata": {},
   "source": [
    "_**아마존 세이지메이커 scikit-learn 컨테이너에서 사전 학습된 scikit-learn모델 호스팅하기**_\n",
    "\n",
    "---\n",
    "\n",
    "## 배경\n",
    "\n",
    "> amazon-sagemakere-examples github에 포함된 [scikit_learn_bring_your_own_model](https://github.com/aws/amazon-sagemaker-examples/tree/main/advanced_functionality/scikit_learn_bring_your_own_model)을 한글화하면서 로컬 노트북에서 모델을 수행하는 내용을 포함하였습니다.\n",
    "\n",
    "Amazon SageMaker에는 호스팅된 노트북 환경, 분산된 서버리스 학습 및 실시간 호스팅을 지원하는 기능이 포함되어 있습니다. 이 세 가지 서비스를 모두 함께 사용할 때 가장 효과적이라고 생각하지만, 독립적으로 사용할 수도 있습니다. 일부 사용 사례에는 호스팅만 필요할 수도 있습니다. 아마존 세이지메이커가 소개되기 전에 다른 서비스에서 모델을 학습시켰을 수도 있습니다.\n",
    "\n",
    "이 노트북에서는 사전 학습된 scikit-learn 모델을 (1)노트북에서 추론하는 방법과 (2) 노트북에서 SageMaker 로컬모드로 추론하는 방법, 마지막으로 (3)SageMaker로 추론하는 방법을 살펴 보겠습니다. \n",
    "\n",
    "![inference_case](img/inference.png)\n",
    "\n",
    "\n",
    "사전 학습된 scikit-learn 모델을 Amazon SageMaker scikit-learn 학습 컨테이너와 함께 사용하여 해당 모델에 대한 호스팅 엔드포인트를 빠르게 만드는 방법을 보여줍니다.\n",
    "여기서는 [Scikit-Learn](https://scikit-learn.org/stable/modules/generated/sklearn.datasets.fetch_california_housing.html)에 있는 캘리포니아 주택 데이터 집합을 사용합니다. 캘리포니아 주택 데이터 집합은 원래 다음에서 게시되었습니다:\n",
    "\n",
    "> Pace, R. Kelley, and Ronald Barry. \"Sparse spatial auto-regressions.\" Statistics & Probability Letters 33.3 (1997): 291-297.\n",
    "\n",
    "---\n",
    "\n",
    "## 설정\n",
    "\n",
    "아래를 설정하는 것으로 시작하겠습니다:\n",
    "\n",
    "* AWS 리전\n",
    "* 학습 및 호스팅에 데이터에 대한 액세스 권한을 부여하는 데 사용되는 IAM role arn\n",
    "* 학습 및 모델 데이터에 사용하는 S3 버킷"
   ]
  },
  {
   "cell_type": "code",
   "execution_count": 1,
   "id": "af0fbc88",
   "metadata": {
    "pycharm": {
     "name": "#%%\n"
    },
    "tags": []
   },
   "outputs": [],
   "source": [
    "!pip install -U sagemaker --quiet\n",
    "!pip install scikit-learn==1.2.1 --quiet"
   ]
  },
  {
   "cell_type": "code",
   "execution_count": 2,
   "id": "dc7bec22",
   "metadata": {
    "tags": []
   },
   "outputs": [
    {
     "name": "stdout",
     "output_type": "stream",
     "text": [
      "sagemaker.config INFO - Not applying SDK defaults from location: /etc/xdg/sagemaker/config.yaml\n",
      "sagemaker.config INFO - Not applying SDK defaults from location: /home/ec2-user/.config/sagemaker/config.yaml\n",
      "sagemaker.config INFO - Not applying SDK defaults from location: /etc/xdg/sagemaker/config.yaml\n",
      "sagemaker.config INFO - Not applying SDK defaults from location: /home/ec2-user/.config/sagemaker/config.yaml\n",
      "sagemaker.config INFO - Not applying SDK defaults from location: /etc/xdg/sagemaker/config.yaml\n",
      "sagemaker.config INFO - Not applying SDK defaults from location: /home/ec2-user/.config/sagemaker/config.yaml\n",
      "리전: us-east-1\n",
      "롤: arn:aws:iam::603420654815:role/sagemaker-notebook-SageMakerIamRole-sLClJTMItPE9\n",
      "버킷: sagemaker-us-east-1-603420654815\n"
     ]
    }
   ],
   "source": [
    "import os\n",
    "import boto3\n",
    "import re\n",
    "import json\n",
    "import pandas as pd\n",
    "import numpy as np\n",
    "import sagemaker\n",
    "from sagemaker import get_execution_role\n",
    "from sagemaker.sklearn.model import SKLearnModel\n",
    "from sklearn.datasets import fetch_california_housing\n",
    "from sklearn.model_selection import train_test_split\n",
    "\n",
    "# AWS 리전 확인\n",
    "region = boto3.Session().region_name\n",
    "\n",
    "# SageMaker 수행을 위한 롤 확인\n",
    "role = get_execution_role()\n",
    "\n",
    "# 학습 및 모델 데이터 저장을 위한 S3확인\n",
    "\n",
    "bucket = sagemaker.Session().default_bucket()\n",
    "prefix = \"sagemaker/DEMO-sklearn-byo-model\"\n",
    "\n",
    "print(f\"리전: {region}\")\n",
    "print(f\"롤: {role}\")\n",
    "print(f\"버킷: {bucket}\")"
   ]
  },
  {
   "cell_type": "markdown",
   "id": "61240ddf",
   "metadata": {},
   "source": [
    "## 모델 추론을 위한 데이터 준비\n",
    "\n",
    "sklearn에서 캘리포니아 주택 데이터 집합을 로드합니다.\n"
   ]
  },
  {
   "cell_type": "code",
   "execution_count": 3,
   "id": "a10d2340",
   "metadata": {
    "tags": []
   },
   "outputs": [
    {
     "name": "stdout",
     "output_type": "stream",
     "text": [
      "{'data': array([[   8.3252    ,   41.        ,    6.98412698, ...,    2.55555556,\n",
      "          37.88      , -122.23      ],\n",
      "       [   8.3014    ,   21.        ,    6.23813708, ...,    2.10984183,\n",
      "          37.86      , -122.22      ],\n",
      "       [   7.2574    ,   52.        ,    8.28813559, ...,    2.80225989,\n",
      "          37.85      , -122.24      ],\n",
      "       ...,\n",
      "       [   1.7       ,   17.        ,    5.20554273, ...,    2.3256351 ,\n",
      "          39.43      , -121.22      ],\n",
      "       [   1.8672    ,   18.        ,    5.32951289, ...,    2.12320917,\n",
      "          39.43      , -121.32      ],\n",
      "       [   2.3886    ,   16.        ,    5.25471698, ...,    2.61698113,\n",
      "          39.37      , -121.24      ]]), 'target': array([4.526, 3.585, 3.521, ..., 0.923, 0.847, 0.894]), 'frame': None, 'target_names': ['MedHouseVal'], 'feature_names': ['MedInc', 'HouseAge', 'AveRooms', 'AveBedrms', 'Population', 'AveOccup', 'Latitude', 'Longitude'], 'DESCR': '.. _california_housing_dataset:\\n\\nCalifornia Housing dataset\\n--------------------------\\n\\n**Data Set Characteristics:**\\n\\n    :Number of Instances: 20640\\n\\n    :Number of Attributes: 8 numeric, predictive attributes and the target\\n\\n    :Attribute Information:\\n        - MedInc        median income in block group\\n        - HouseAge      median house age in block group\\n        - AveRooms      average number of rooms per household\\n        - AveBedrms     average number of bedrooms per household\\n        - Population    block group population\\n        - AveOccup      average number of household members\\n        - Latitude      block group latitude\\n        - Longitude     block group longitude\\n\\n    :Missing Attribute Values: None\\n\\nThis dataset was obtained from the StatLib repository.\\nhttps://www.dcc.fc.up.pt/~ltorgo/Regression/cal_housing.html\\n\\nThe target variable is the median house value for California districts,\\nexpressed in hundreds of thousands of dollars ($100,000).\\n\\nThis dataset was derived from the 1990 U.S. census, using one row per census\\nblock group. A block group is the smallest geographical unit for which the U.S.\\nCensus Bureau publishes sample data (a block group typically has a population\\nof 600 to 3,000 people).\\n\\nAn household is a group of people residing within a home. Since the average\\nnumber of rooms and bedrooms in this dataset are provided per household, these\\ncolumns may take surpinsingly large values for block groups with few households\\nand many empty houses, such as vacation resorts.\\n\\nIt can be downloaded/loaded using the\\n:func:`sklearn.datasets.fetch_california_housing` function.\\n\\n.. topic:: References\\n\\n    - Pace, R. Kelley and Ronald Barry, Sparse Spatial Autoregressions,\\n      Statistics and Probability Letters, 33 (1997) 291-297\\n'}\n"
     ]
    }
   ],
   "source": [
    "data = fetch_california_housing()\n",
    "print(data)"
   ]
  },
  {
   "cell_type": "markdown",
   "id": "140dcd4d-dd71-42b6-82c3-c2c3c1886951",
   "metadata": {},
   "source": [
    "훈련 및 테스트 데이터셋으로 나눕니다. 모델을 학습시키지 않으므로 테스트 데이터만 필요합니다."
   ]
  },
  {
   "cell_type": "code",
   "execution_count": 4,
   "id": "2cee9c5a",
   "metadata": {
    "tags": []
   },
   "outputs": [],
   "source": [
    "X_train, X_test, y_train, y_test = train_test_split(\n",
    "    data.data, data.target, test_size=0.25, random_state=42\n",
    ")\n",
    "\n",
    "# 모델을 학습시키지 않으므로 테스트 데이터만 필요합니다.\n",
    "testX = pd.DataFrame(X_test, columns=data.feature_names)"
   ]
  },
  {
   "cell_type": "code",
   "execution_count": 5,
   "id": "ca83f5b0",
   "metadata": {
    "tags": []
   },
   "outputs": [
    {
     "data": {
      "text/html": [
       "<div>\n",
       "<style scoped>\n",
       "    .dataframe tbody tr th:only-of-type {\n",
       "        vertical-align: middle;\n",
       "    }\n",
       "\n",
       "    .dataframe tbody tr th {\n",
       "        vertical-align: top;\n",
       "    }\n",
       "\n",
       "    .dataframe thead th {\n",
       "        text-align: right;\n",
       "    }\n",
       "</style>\n",
       "<table border=\"1\" class=\"dataframe\">\n",
       "  <thead>\n",
       "    <tr style=\"text-align: right;\">\n",
       "      <th></th>\n",
       "      <th>MedInc</th>\n",
       "      <th>HouseAge</th>\n",
       "      <th>AveRooms</th>\n",
       "      <th>AveBedrms</th>\n",
       "      <th>Population</th>\n",
       "      <th>AveOccup</th>\n",
       "      <th>Latitude</th>\n",
       "      <th>Longitude</th>\n",
       "    </tr>\n",
       "  </thead>\n",
       "  <tbody>\n",
       "    <tr>\n",
       "      <th>0</th>\n",
       "      <td>1.6812</td>\n",
       "      <td>25.0</td>\n",
       "      <td>4.192201</td>\n",
       "      <td>1.022284</td>\n",
       "      <td>1392.0</td>\n",
       "      <td>3.877437</td>\n",
       "      <td>36.06</td>\n",
       "      <td>-119.01</td>\n",
       "    </tr>\n",
       "    <tr>\n",
       "      <th>1</th>\n",
       "      <td>2.5313</td>\n",
       "      <td>30.0</td>\n",
       "      <td>5.039384</td>\n",
       "      <td>1.193493</td>\n",
       "      <td>1565.0</td>\n",
       "      <td>2.679795</td>\n",
       "      <td>35.14</td>\n",
       "      <td>-119.46</td>\n",
       "    </tr>\n",
       "    <tr>\n",
       "      <th>2</th>\n",
       "      <td>3.4801</td>\n",
       "      <td>52.0</td>\n",
       "      <td>3.977155</td>\n",
       "      <td>1.185877</td>\n",
       "      <td>1310.0</td>\n",
       "      <td>1.360332</td>\n",
       "      <td>37.80</td>\n",
       "      <td>-122.44</td>\n",
       "    </tr>\n",
       "    <tr>\n",
       "      <th>3</th>\n",
       "      <td>5.7376</td>\n",
       "      <td>17.0</td>\n",
       "      <td>6.163636</td>\n",
       "      <td>1.020202</td>\n",
       "      <td>1705.0</td>\n",
       "      <td>3.444444</td>\n",
       "      <td>34.28</td>\n",
       "      <td>-118.72</td>\n",
       "    </tr>\n",
       "    <tr>\n",
       "      <th>4</th>\n",
       "      <td>3.7250</td>\n",
       "      <td>34.0</td>\n",
       "      <td>5.492991</td>\n",
       "      <td>1.028037</td>\n",
       "      <td>1063.0</td>\n",
       "      <td>2.483645</td>\n",
       "      <td>36.62</td>\n",
       "      <td>-121.93</td>\n",
       "    </tr>\n",
       "    <tr>\n",
       "      <th>5</th>\n",
       "      <td>4.7147</td>\n",
       "      <td>12.0</td>\n",
       "      <td>5.251483</td>\n",
       "      <td>0.975089</td>\n",
       "      <td>2400.0</td>\n",
       "      <td>2.846975</td>\n",
       "      <td>34.08</td>\n",
       "      <td>-117.61</td>\n",
       "    </tr>\n",
       "    <tr>\n",
       "      <th>6</th>\n",
       "      <td>5.0839</td>\n",
       "      <td>36.0</td>\n",
       "      <td>6.221719</td>\n",
       "      <td>1.095023</td>\n",
       "      <td>670.0</td>\n",
       "      <td>3.031674</td>\n",
       "      <td>33.89</td>\n",
       "      <td>-118.02</td>\n",
       "    </tr>\n",
       "    <tr>\n",
       "      <th>7</th>\n",
       "      <td>3.6908</td>\n",
       "      <td>38.0</td>\n",
       "      <td>4.962825</td>\n",
       "      <td>1.048327</td>\n",
       "      <td>1011.0</td>\n",
       "      <td>3.758364</td>\n",
       "      <td>33.92</td>\n",
       "      <td>-118.08</td>\n",
       "    </tr>\n",
       "    <tr>\n",
       "      <th>8</th>\n",
       "      <td>4.8036</td>\n",
       "      <td>4.0</td>\n",
       "      <td>3.924658</td>\n",
       "      <td>1.035959</td>\n",
       "      <td>1050.0</td>\n",
       "      <td>1.797945</td>\n",
       "      <td>37.39</td>\n",
       "      <td>-122.08</td>\n",
       "    </tr>\n",
       "    <tr>\n",
       "      <th>9</th>\n",
       "      <td>8.1132</td>\n",
       "      <td>45.0</td>\n",
       "      <td>6.879056</td>\n",
       "      <td>1.011799</td>\n",
       "      <td>943.0</td>\n",
       "      <td>2.781711</td>\n",
       "      <td>34.18</td>\n",
       "      <td>-118.23</td>\n",
       "    </tr>\n",
       "  </tbody>\n",
       "</table>\n",
       "</div>"
      ],
      "text/plain": [
       "   MedInc  HouseAge  AveRooms  AveBedrms  Population  AveOccup  Latitude  \\\n",
       "0  1.6812      25.0  4.192201   1.022284      1392.0  3.877437     36.06   \n",
       "1  2.5313      30.0  5.039384   1.193493      1565.0  2.679795     35.14   \n",
       "2  3.4801      52.0  3.977155   1.185877      1310.0  1.360332     37.80   \n",
       "3  5.7376      17.0  6.163636   1.020202      1705.0  3.444444     34.28   \n",
       "4  3.7250      34.0  5.492991   1.028037      1063.0  2.483645     36.62   \n",
       "5  4.7147      12.0  5.251483   0.975089      2400.0  2.846975     34.08   \n",
       "6  5.0839      36.0  6.221719   1.095023       670.0  3.031674     33.89   \n",
       "7  3.6908      38.0  4.962825   1.048327      1011.0  3.758364     33.92   \n",
       "8  4.8036       4.0  3.924658   1.035959      1050.0  1.797945     37.39   \n",
       "9  8.1132      45.0  6.879056   1.011799       943.0  2.781711     34.18   \n",
       "\n",
       "   Longitude  \n",
       "0    -119.01  \n",
       "1    -119.46  \n",
       "2    -122.44  \n",
       "3    -118.72  \n",
       "4    -121.93  \n",
       "5    -117.61  \n",
       "6    -118.02  \n",
       "7    -118.08  \n",
       "8    -122.08  \n",
       "9    -118.23  "
      ]
     },
     "execution_count": 5,
     "metadata": {},
     "output_type": "execute_result"
    }
   ],
   "source": [
    "testX.head(10)"
   ]
  },
  {
   "cell_type": "markdown",
   "id": "e9f9c09f",
   "metadata": {},
   "source": [
    "## 사전 학습된 모델 파일 다운로드\n",
    "\n",
    "사전 학습된 Scikit-Learn 랜덤 포레스트 모델을 다운로드합니다.\n",
    "\n",
    "모델을 훈련하기 위해 Scikit-Learn에 있는 캘리포니아 주택 데이터 세트(https://scikit-learn.org/stable/datasets/real_world.html#california-housing-dataset) 를 사용했습니다.\n",
    "\n",
    "Amazon SageMaker로 모델을 훈련하는 방법에 대한 자세한 내용은 [Develop, Train, Optimize and Deploy Scikit-Learn Random Forest notebook](https://github.com/aws/amazon-sagemaker-examples/blob/master/sagemaker-python-sdk/scikit_learn_randomforest/Sklearn_on_SageMaker_end2end.ipynb) 노트북을 참조하세요."
   ]
  },
  {
   "cell_type": "code",
   "execution_count": 6,
   "id": "5ccaece6",
   "metadata": {
    "tags": []
   },
   "outputs": [
    {
     "name": "stdout",
     "output_type": "stream",
     "text": [
      "download: s3://aws-ml-blog/artifacts/scikit_learn_bring_your_own_model/model.joblib to ./model.joblib\n"
     ]
    }
   ],
   "source": [
    "!aws s3 cp s3://aws-ml-blog/artifacts/scikit_learn_bring_your_own_model/model.joblib ."
   ]
  },
  {
   "cell_type": "markdown",
   "id": "696ff07a-864b-43a7-822e-2d900f0f15fb",
   "metadata": {},
   "source": [
    "## (1) 노트북에서 추론하기\n",
    "학습이 완료된 모델(model.joblib)을 가지고 노트북에서 추론작업을 수행합니다. 이는 SageMaker를 이용한 작업을 수행하기 전에, 노트북환경에서 문제가 없는지를 확인하는 용도로 사용하게 됩니다. \n",
    "![inference_case](img/inference1.png)\n",
    "\n"
   ]
  },
  {
   "cell_type": "markdown",
   "id": "b2ec5a8f-a66b-417d-b584-8e3e0cdda018",
   "metadata": {},
   "source": [
    "### 사전 학습된 모델 로드해서 예측하기\n",
    "사전에 학습된 모델을 로드한 다음에 미리 준비한 예측 데이터를 이용하여 추론작업을 수행합니다. "
   ]
  },
  {
   "cell_type": "code",
   "execution_count": 7,
   "id": "de94c4f0-31c1-411f-82ad-45c9586cf81f",
   "metadata": {
    "tags": []
   },
   "outputs": [
    {
     "name": "stdout",
     "output_type": "stream",
     "text": [
      "[0.51124342]\n"
     ]
    },
    {
     "name": "stderr",
     "output_type": "stream",
     "text": [
      "/home/ec2-user/anaconda3/envs/python3/lib/python3.10/site-packages/sklearn/base.py:299: UserWarning: Trying to unpickle estimator DecisionTreeRegressor from version 0.23.2 when using version 1.2.1. This might lead to breaking code or invalid results. Use at your own risk. For more info please refer to:\n",
      "https://scikit-learn.org/stable/model_persistence.html#security-maintainability-limitations\n",
      "  warnings.warn(\n",
      "/home/ec2-user/anaconda3/envs/python3/lib/python3.10/site-packages/sklearn/base.py:299: UserWarning: Trying to unpickle estimator RandomForestRegressor from version 0.23.2 when using version 1.2.1. This might lead to breaking code or invalid results. Use at your own risk. For more info please refer to:\n",
      "https://scikit-learn.org/stable/model_persistence.html#security-maintainability-limitations\n",
      "  warnings.warn(\n"
     ]
    }
   ],
   "source": [
    "import joblib\n",
    "\n",
    "# 모델 로드\n",
    "loaded_model = joblib.load(\"model.joblib\")\n",
    "\n",
    "# 예측 데이터 준비\n",
    "X_sample = [1.6812, 25.0, 4.192201,1.022284, 1392.0, 3.877437, 36.0, -119.01]  # 예제 데이터\n",
    "\n",
    "# 예측 실행\n",
    "predictions = loaded_model.predict([X_sample])\n",
    "\n",
    "# 결과 출력\n",
    "print(predictions)"
   ]
  },
  {
   "cell_type": "markdown",
   "id": "dc617906-39fc-41d0-937c-35e4f79ef28a",
   "metadata": {},
   "source": [
    "## (2) 노트북에서 SageMaker 로컬모드로 추론하기\n",
    "노트북에서 SageMaker를 이용하지 않고 추론에 성공했다면, 이번에는 노트북에서 로컬모드를 이용하여 SageMaker로 추론해봅니다. 로컬모드로 추론하기를 사용하면 엔드포인트를 로컬환경에 배포할 수 있습니다. 이 모드는 SageMaker의 매니지드 훈련이나 호스팅 환경을 만들기 전에 테스트해볼 수 있는 좋은 방법입니다. \n",
    "![inference_case](img/inference2.png)\n"
   ]
  },
  {
   "cell_type": "markdown",
   "id": "8f2c9b40",
   "metadata": {},
   "source": [
    "### 추론 스크립트 작성하기 (중요!)\n",
    "\n",
    "Amazon SageMaker가 관리하는 'Scikit Learn' 컨테이너와 함께 엔드포인트를 사용하는 경우, 저장된 모델을 **최소** 로드하는 추론을 위한 진입점 스크립트(entry point script)를 제공해야 합니다.\n",
    "\n",
    "\n",
    "SageMaker 모델 서버가 'model_fn'을 호출하여 모델을 로드한 후, SageMaker는 모델을 서빙합니다. 모델 서빙은 세이지메이커 `InvokeEndpoint` API 호출에 의해 수신된 추론 요청에 응답하는 프로세스입니다.\n",
    "\n",
    "\n",
    "역직렬화된 요청 객체를 가져와 로드된 모델에 대해 추론을 수행하는 `predict_fn()` 함수도 구현할 것입니다.\n",
    "\n",
    "\n",
    "이제 이 스크립트를 생성하여 `inference.py`로 호출하고 `code`라는 디렉터리의 루트에 저장하겠습니다.\n",
    "\n",
    "\n",
    "**참고:** 아래 스크립트를 수정하여 자신만의 추론 로직을 구현할 수 있습니다.\n",
    "\n",
    "\n",
    "세이지메이커에서 Scikit-Learn을 위한 모델 로딩 및 모델 제공에 대한 추가 정보는 [SageMaker Scikit-learn Serve a Model documentation](https://sagemaker.readthedocs.io/en/stable/frameworks/sklearn/using_sklearn.html#deploy-a-scikit-learn-model)에서 확인할 수 있습니다.\n",
    "\n",
    "\n",
    "여기서는 정의하지 않는 호스팅을 위한 몇 가지 함수도 있습니다,\n",
    " - `input_fn()` - 요청 데이터를 받아 예측을 위해 데이터를 객체로 역직렬화합니다.\n",
    " - `output_fn()` - 예측 결과를 가져와서 응답 콘텐츠 유형에 따라 직렬화합니다.\n",
    "\n",
    "\n",
    "이 함수의 기본값은 [SageMaker Scikit-learn Serve a Model documentation](https://sagemaker.readthedocs.io/en/stable/frameworks/sklearn/using_sklearn.html#serve-a-model)에 설명된 대로 사용됩니다."
   ]
  },
  {
   "cell_type": "code",
   "execution_count": 8,
   "id": "80c82352-75a1-49a4-8f1e-7114d192fad8",
   "metadata": {
    "tags": []
   },
   "outputs": [
    {
     "name": "stdout",
     "output_type": "stream",
     "text": [
      "\u001b[34mimport\u001b[39;49;00m \u001b[04m\u001b[36mos\u001b[39;49;00m\u001b[37m\u001b[39;49;00m\n",
      "\u001b[34mimport\u001b[39;49;00m \u001b[04m\u001b[36mjoblib\u001b[39;49;00m\u001b[37m\u001b[39;49;00m\n",
      "\u001b[37m\u001b[39;49;00m\n",
      "\u001b[34mdef\u001b[39;49;00m \u001b[32mpredict_fn\u001b[39;49;00m(input_object, model):\u001b[37m\u001b[39;49;00m\n",
      "    \u001b[37m###########################################\u001b[39;49;00m\u001b[37m\u001b[39;49;00m\n",
      "    \u001b[37m# Do your custom preprocessing logic here #\u001b[39;49;00m\u001b[37m\u001b[39;49;00m\n",
      "    \u001b[37m###########################################\u001b[39;49;00m\u001b[37m\u001b[39;49;00m\n",
      "\u001b[37m\u001b[39;49;00m\n",
      "    \u001b[36mprint\u001b[39;49;00m(\u001b[33m\"\u001b[39;49;00m\u001b[33mcalling model\u001b[39;49;00m\u001b[33m\"\u001b[39;49;00m)\u001b[37m\u001b[39;49;00m\n",
      "    predictions = model.predict(input_object)\u001b[37m\u001b[39;49;00m\n",
      "    \u001b[34mreturn\u001b[39;49;00m predictions\u001b[37m\u001b[39;49;00m\n",
      "\u001b[37m\u001b[39;49;00m\n",
      "\u001b[37m\u001b[39;49;00m\n",
      "\u001b[34mdef\u001b[39;49;00m \u001b[32mmodel_fn\u001b[39;49;00m(model_dir):\u001b[37m\u001b[39;49;00m\n",
      "    \u001b[36mprint\u001b[39;49;00m(\u001b[33m\"\u001b[39;49;00m\u001b[33mloading model.joblib from: \u001b[39;49;00m\u001b[33m{}\u001b[39;49;00m\u001b[33m\"\u001b[39;49;00m.format(model_dir))\u001b[37m\u001b[39;49;00m\n",
      "    loaded_model = joblib.load(os.path.join(model_dir, \u001b[33m\"\u001b[39;49;00m\u001b[33mmodel.joblib\u001b[39;49;00m\u001b[33m\"\u001b[39;49;00m))\u001b[37m\u001b[39;49;00m\n",
      "    \u001b[34mreturn\u001b[39;49;00m loaded_model\u001b[37m\u001b[39;49;00m\n"
     ]
    }
   ],
   "source": [
    "!pygmentize ./code/inference.py"
   ]
  },
  {
   "cell_type": "markdown",
   "id": "35e40654-a93f-4f11-a58b-f91056523bd6",
   "metadata": {},
   "source": [
    "### 로컬모드를 위한 Python 종속성 추가 설치하기\n",
    "\n",
    "스크립트와 함께 컨테이너에 필요한 종속성이 설치되도록 하기 위해 `requirements.txt` 파일을 제공해야 할 수도 있습니다. "
   ]
  },
  {
   "cell_type": "code",
   "execution_count": 9,
   "id": "4a049f2b-ece0-4caa-b175-0e21c10d0495",
   "metadata": {
    "tags": []
   },
   "outputs": [
    {
     "name": "stdout",
     "output_type": "stream",
     "text": [
      "numpy\n",
      "pandas\n",
      "sagemaker>=2.0.0<3.0.0\n",
      "sagemaker[local]\n"
     ]
    }
   ],
   "source": [
    "!pygmentize requirements.txt"
   ]
  },
  {
   "cell_type": "markdown",
   "id": "9f68974f-9fed-4c0b-a76e-b721e9ee249d",
   "metadata": {},
   "source": [
    "로컬모드 수행을 위한 추가 작업을 수행합니다.  "
   ]
  },
  {
   "cell_type": "code",
   "execution_count": 10,
   "id": "93570cb4-d9ec-45a2-849d-f409287a1fff",
   "metadata": {
    "tags": []
   },
   "outputs": [
    {
     "name": "stdout",
     "output_type": "stream",
     "text": [
      "Requirement already satisfied: sagemaker[local] in /home/ec2-user/anaconda3/envs/python3/lib/python3.10/site-packages (2.196.0)\n",
      "Requirement already satisfied: attrs<24,>=23.1.0 in /home/ec2-user/anaconda3/envs/python3/lib/python3.10/site-packages (from sagemaker[local]) (23.1.0)\n",
      "Requirement already satisfied: boto3<2.0,>=1.26.131 in /home/ec2-user/anaconda3/envs/python3/lib/python3.10/site-packages (from sagemaker[local]) (1.28.57)\n",
      "Requirement already satisfied: cloudpickle==2.2.1 in /home/ec2-user/anaconda3/envs/python3/lib/python3.10/site-packages (from sagemaker[local]) (2.2.1)\n",
      "Requirement already satisfied: google-pasta in /home/ec2-user/anaconda3/envs/python3/lib/python3.10/site-packages (from sagemaker[local]) (0.2.0)\n",
      "Requirement already satisfied: numpy<2.0,>=1.9.0 in /home/ec2-user/anaconda3/envs/python3/lib/python3.10/site-packages (from sagemaker[local]) (1.22.3)\n",
      "Requirement already satisfied: protobuf<5.0,>=3.12 in /home/ec2-user/anaconda3/envs/python3/lib/python3.10/site-packages (from sagemaker[local]) (4.24.3)\n",
      "Requirement already satisfied: smdebug-rulesconfig==1.0.1 in /home/ec2-user/anaconda3/envs/python3/lib/python3.10/site-packages (from sagemaker[local]) (1.0.1)\n",
      "Requirement already satisfied: importlib-metadata<7.0,>=1.4.0 in /home/ec2-user/anaconda3/envs/python3/lib/python3.10/site-packages (from sagemaker[local]) (6.8.0)\n",
      "Requirement already satisfied: packaging>=20.0 in /home/ec2-user/anaconda3/envs/python3/lib/python3.10/site-packages (from sagemaker[local]) (21.3)\n",
      "Requirement already satisfied: pandas in /home/ec2-user/anaconda3/envs/python3/lib/python3.10/site-packages (from sagemaker[local]) (2.0.3)\n",
      "Requirement already satisfied: pathos in /home/ec2-user/anaconda3/envs/python3/lib/python3.10/site-packages (from sagemaker[local]) (0.3.1)\n",
      "Requirement already satisfied: schema in /home/ec2-user/anaconda3/envs/python3/lib/python3.10/site-packages (from sagemaker[local]) (0.7.5)\n",
      "Requirement already satisfied: PyYAML~=6.0 in /home/ec2-user/anaconda3/envs/python3/lib/python3.10/site-packages (from sagemaker[local]) (6.0)\n",
      "Requirement already satisfied: jsonschema in /home/ec2-user/anaconda3/envs/python3/lib/python3.10/site-packages (from sagemaker[local]) (4.18.4)\n",
      "Requirement already satisfied: platformdirs in /home/ec2-user/anaconda3/envs/python3/lib/python3.10/site-packages (from sagemaker[local]) (3.9.1)\n",
      "Requirement already satisfied: tblib==1.7.0 in /home/ec2-user/anaconda3/envs/python3/lib/python3.10/site-packages (from sagemaker[local]) (1.7.0)\n",
      "Requirement already satisfied: urllib3<3.0.0,>=1.26.8 in /home/ec2-user/anaconda3/envs/python3/lib/python3.10/site-packages (from sagemaker[local]) (1.26.14)\n",
      "Requirement already satisfied: docker<7.0.0,>=5.0.2 in /home/ec2-user/anaconda3/envs/python3/lib/python3.10/site-packages (from sagemaker[local]) (6.1.3)\n",
      "Requirement already satisfied: botocore<1.32.0,>=1.31.57 in /home/ec2-user/anaconda3/envs/python3/lib/python3.10/site-packages (from boto3<2.0,>=1.26.131->sagemaker[local]) (1.31.57)\n",
      "Requirement already satisfied: jmespath<2.0.0,>=0.7.1 in /home/ec2-user/anaconda3/envs/python3/lib/python3.10/site-packages (from boto3<2.0,>=1.26.131->sagemaker[local]) (1.0.1)\n",
      "Requirement already satisfied: s3transfer<0.8.0,>=0.7.0 in /home/ec2-user/anaconda3/envs/python3/lib/python3.10/site-packages (from boto3<2.0,>=1.26.131->sagemaker[local]) (0.7.0)\n",
      "Requirement already satisfied: requests>=2.26.0 in /home/ec2-user/anaconda3/envs/python3/lib/python3.10/site-packages (from docker<7.0.0,>=5.0.2->sagemaker[local]) (2.31.0)\n",
      "Requirement already satisfied: websocket-client>=0.32.0 in /home/ec2-user/anaconda3/envs/python3/lib/python3.10/site-packages (from docker<7.0.0,>=5.0.2->sagemaker[local]) (1.6.1)\n",
      "Requirement already satisfied: zipp>=0.5 in /home/ec2-user/anaconda3/envs/python3/lib/python3.10/site-packages (from importlib-metadata<7.0,>=1.4.0->sagemaker[local]) (3.16.2)\n",
      "Requirement already satisfied: pyparsing!=3.0.5,>=2.0.2 in /home/ec2-user/anaconda3/envs/python3/lib/python3.10/site-packages (from packaging>=20.0->sagemaker[local]) (3.0.9)\n",
      "Requirement already satisfied: six in /home/ec2-user/anaconda3/envs/python3/lib/python3.10/site-packages (from google-pasta->sagemaker[local]) (1.16.0)\n",
      "Requirement already satisfied: jsonschema-specifications>=2023.03.6 in /home/ec2-user/anaconda3/envs/python3/lib/python3.10/site-packages (from jsonschema->sagemaker[local]) (2023.7.1)\n",
      "Requirement already satisfied: referencing>=0.28.4 in /home/ec2-user/anaconda3/envs/python3/lib/python3.10/site-packages (from jsonschema->sagemaker[local]) (0.30.0)\n",
      "Requirement already satisfied: rpds-py>=0.7.1 in /home/ec2-user/anaconda3/envs/python3/lib/python3.10/site-packages (from jsonschema->sagemaker[local]) (0.9.2)\n",
      "Requirement already satisfied: python-dateutil>=2.8.2 in /home/ec2-user/anaconda3/envs/python3/lib/python3.10/site-packages (from pandas->sagemaker[local]) (2.8.2)\n",
      "Requirement already satisfied: pytz>=2020.1 in /home/ec2-user/anaconda3/envs/python3/lib/python3.10/site-packages (from pandas->sagemaker[local]) (2023.3)\n",
      "Requirement already satisfied: tzdata>=2022.1 in /home/ec2-user/anaconda3/envs/python3/lib/python3.10/site-packages (from pandas->sagemaker[local]) (2023.3)\n",
      "Requirement already satisfied: ppft>=1.7.6.7 in /home/ec2-user/anaconda3/envs/python3/lib/python3.10/site-packages (from pathos->sagemaker[local]) (1.7.6.7)\n",
      "Requirement already satisfied: dill>=0.3.7 in /home/ec2-user/anaconda3/envs/python3/lib/python3.10/site-packages (from pathos->sagemaker[local]) (0.3.7)\n",
      "Requirement already satisfied: pox>=0.3.3 in /home/ec2-user/anaconda3/envs/python3/lib/python3.10/site-packages (from pathos->sagemaker[local]) (0.3.3)\n",
      "Requirement already satisfied: multiprocess>=0.70.15 in /home/ec2-user/anaconda3/envs/python3/lib/python3.10/site-packages (from pathos->sagemaker[local]) (0.70.15)\n",
      "Requirement already satisfied: contextlib2>=0.5.5 in /home/ec2-user/anaconda3/envs/python3/lib/python3.10/site-packages (from schema->sagemaker[local]) (21.6.0)\n",
      "Requirement already satisfied: charset-normalizer<4,>=2 in /home/ec2-user/anaconda3/envs/python3/lib/python3.10/site-packages (from requests>=2.26.0->docker<7.0.0,>=5.0.2->sagemaker[local]) (3.2.0)\n",
      "Requirement already satisfied: idna<4,>=2.5 in /home/ec2-user/anaconda3/envs/python3/lib/python3.10/site-packages (from requests>=2.26.0->docker<7.0.0,>=5.0.2->sagemaker[local]) (3.4)\n",
      "Requirement already satisfied: certifi>=2017.4.17 in /home/ec2-user/anaconda3/envs/python3/lib/python3.10/site-packages (from requests>=2.26.0->docker<7.0.0,>=5.0.2->sagemaker[local]) (2023.5.7)\n",
      "  % Total    % Received % Xferd  Average Speed   Time    Time     Time  Current\n",
      "                                 Dload  Upload   Total   Spent    Left  Speed\n",
      "  0     0    0     0    0     0      0      0 --:--:-- --:--:-- --:--:--     0\n",
      "100 24.5M  100 24.5M    0     0   132M      0 --:--:-- --:--:-- --:--:--  406M\n",
      "Docker Compose version v2.7.0\n"
     ]
    }
   ],
   "source": [
    "!pip install 'sagemaker[local]' --upgrade\n",
    "!sudo curl -L \"https://github.com/docker/compose/releases/download/v2.7.0/docker-compose-$(uname -s)-$(uname -m)\" -o /usr/local/bin/docker-compose\n",
    "!sudo chmod +x /usr/local/bin/docker-compose\n",
    "!PATH=/usr/local/bin:$PATH\n",
    "!docker-compose version"
   ]
  },
  {
   "cell_type": "code",
   "execution_count": 11,
   "id": "806d1963-84f2-43ae-a6e7-3b257fd1954a",
   "metadata": {
    "tags": []
   },
   "outputs": [
    {
     "name": "stdout",
     "output_type": "stream",
     "text": [
      "Docker Compose version v2.7.0\n"
     ]
    }
   ],
   "source": [
    "#설치 잘됐는지 테스트: 에러 발생 안하면 됨 > 에러 발생시 아래 수행\n",
    "#!sudo ln -s /usr/local/bin/docker-compose /usr/bin/docker-compose\n",
    "\n",
    "!docker-compose --version"
   ]
  },
  {
   "cell_type": "code",
   "execution_count": 33,
   "id": "ea8a9735-5612-4919-9d73-35cffdbfad1a",
   "metadata": {
    "tags": []
   },
   "outputs": [],
   "source": [
    "#import os\n",
    "#os.environ['USE_SHORT_LIVED_CREDENTIALS']=\"1\"\n",
    "#this works if the local execution of the training job finishes before credentials expires."
   ]
  },
  {
   "cell_type": "code",
   "execution_count": 12,
   "id": "6ad12b62-949c-4850-b7c7-4ea61c65fc4f",
   "metadata": {
    "tags": []
   },
   "outputs": [
    {
     "name": "stdout",
     "output_type": "stream",
     "text": [
      "sagemaker.config INFO - Not applying SDK defaults from location: /etc/xdg/sagemaker/config.yaml\n",
      "sagemaker.config INFO - Not applying SDK defaults from location: /home/ec2-user/.config/sagemaker/config.yaml\n",
      "sagemaker.config INFO - Not applying SDK defaults from location: /etc/xdg/sagemaker/config.yaml\n",
      "sagemaker.config INFO - Not applying SDK defaults from location: /home/ec2-user/.config/sagemaker/config.yaml\n",
      "sagemaker.config INFO - Not applying SDK defaults from location: /etc/xdg/sagemaker/config.yaml\n",
      "sagemaker.config INFO - Not applying SDK defaults from location: /home/ec2-user/.config/sagemaker/config.yaml\n",
      "sagemaker.config INFO - Not applying SDK defaults from location: /etc/xdg/sagemaker/config.yaml\n",
      "sagemaker.config INFO - Not applying SDK defaults from location: /home/ec2-user/.config/sagemaker/config.yaml\n"
     ]
    }
   ],
   "source": [
    "# import os\n",
    "# import sagemaker\n",
    "# from sagemaker import get_execution_role\n",
    "# from sagemaker.sklearn.model import SKLearnModel\n",
    "#from sklearn import datasets\n",
    "\n",
    "from sagemaker.local import LocalSession\n",
    "\n",
    "sagemaker_session = LocalSession()\n",
    "sagemaker_session.config = {'local': {'local_code': True}}\n",
    "\n",
    "# SageMaker Execution Role 가져오기\n",
    "role = get_execution_role()\n",
    "\n",
    "# 로컬 모드 사용을 위한 모델 준비\n",
    "model_data = 'file://./model.tar.gz' # 로컬 경로를 모델 데이터 위치로 지정합니다.\n",
    "sklearn_model = SKLearnModel(model_data=model_data,\n",
    "                             role=role,\n",
    "                             entry_point='code/inference.py', # 추론을 위한 스크립트 파일\n",
    "                             framework_version='0.23-1', # 사용할 Scikit-learn 버전\n",
    "                             )\n",
    "\n"
   ]
  },
  {
   "cell_type": "markdown",
   "id": "74fbf82d-b891-4a0b-aa52-ecd249d8da3b",
   "metadata": {},
   "source": [
    "### 로컬 엔드포인트를 배포합니다."
   ]
  },
  {
   "cell_type": "code",
   "execution_count": 13,
   "id": "7f9d9a2f-7e63-429e-8818-4dbafa371ce1",
   "metadata": {
    "tags": []
   },
   "outputs": [
    {
     "name": "stdout",
     "output_type": "stream",
     "text": [
      "sagemaker.config INFO - Not applying SDK defaults from location: /etc/xdg/sagemaker/config.yaml\n",
      "sagemaker.config INFO - Not applying SDK defaults from location: /home/ec2-user/.config/sagemaker/config.yaml\n",
      "sagemaker.config INFO - Not applying SDK defaults from location: /etc/xdg/sagemaker/config.yaml\n",
      "sagemaker.config INFO - Not applying SDK defaults from location: /home/ec2-user/.config/sagemaker/config.yaml\n",
      "Attaching to wsq39azegu-algo-1-0wikg\n",
      "wsq39azegu-algo-1-0wikg  | 2023-11-03 03:28:20,409 INFO - sagemaker-containers - No GPUs detected (normal if no gpus installed)\n",
      "wsq39azegu-algo-1-0wikg  | 2023-11-03 03:28:20,411 INFO - sagemaker-containers - No GPUs detected (normal if no gpus installed)\n",
      "wsq39azegu-algo-1-0wikg  | 2023-11-03 03:28:20,411 INFO - sagemaker-containers - nginx config: \n",
      "wsq39azegu-algo-1-0wikg  | worker_processes auto;\n",
      "wsq39azegu-algo-1-0wikg  | daemon off;\n",
      "wsq39azegu-algo-1-0wikg  | pid /tmp/nginx.pid;\n",
      "wsq39azegu-algo-1-0wikg  | error_log  /dev/stderr;\n",
      "wsq39azegu-algo-1-0wikg  | \n",
      "wsq39azegu-algo-1-0wikg  | worker_rlimit_nofile 4096;\n",
      "wsq39azegu-algo-1-0wikg  | \n",
      "wsq39azegu-algo-1-0wikg  | events {\n",
      "wsq39azegu-algo-1-0wikg  |   worker_connections 2048;\n",
      "wsq39azegu-algo-1-0wikg  | }\n",
      "wsq39azegu-algo-1-0wikg  | \n",
      "wsq39azegu-algo-1-0wikg  | http {\n",
      "wsq39azegu-algo-1-0wikg  |   include /etc/nginx/mime.types;\n",
      "wsq39azegu-algo-1-0wikg  |   default_type application/octet-stream;\n",
      "wsq39azegu-algo-1-0wikg  |   access_log /dev/stdout combined;\n",
      "wsq39azegu-algo-1-0wikg  | \n",
      "wsq39azegu-algo-1-0wikg  |   upstream gunicorn {\n",
      "wsq39azegu-algo-1-0wikg  |     server unix:/tmp/gunicorn.sock;\n",
      "wsq39azegu-algo-1-0wikg  |   }\n",
      "wsq39azegu-algo-1-0wikg  | \n",
      "wsq39azegu-algo-1-0wikg  |   server {\n",
      "wsq39azegu-algo-1-0wikg  |     listen 8080 deferred;\n",
      "wsq39azegu-algo-1-0wikg  |     client_max_body_size 0;\n",
      "wsq39azegu-algo-1-0wikg  | \n",
      "wsq39azegu-algo-1-0wikg  |     keepalive_timeout 3;\n",
      "wsq39azegu-algo-1-0wikg  | \n",
      "wsq39azegu-algo-1-0wikg  |     location ~ ^/(ping|invocations|execution-parameters) {\n",
      "wsq39azegu-algo-1-0wikg  |       proxy_set_header X-Forwarded-For $proxy_add_x_forwarded_for;\n",
      "wsq39azegu-algo-1-0wikg  |       proxy_set_header Host $http_host;\n",
      "wsq39azegu-algo-1-0wikg  |       proxy_redirect off;\n",
      "wsq39azegu-algo-1-0wikg  |       proxy_read_timeout 60s;\n",
      "wsq39azegu-algo-1-0wikg  |       proxy_pass http://gunicorn;\n",
      "wsq39azegu-algo-1-0wikg  |     }\n",
      "wsq39azegu-algo-1-0wikg  | \n",
      "wsq39azegu-algo-1-0wikg  |     location / {\n",
      "wsq39azegu-algo-1-0wikg  |       return 404 \"{}\";\n",
      "wsq39azegu-algo-1-0wikg  |     }\n",
      "wsq39azegu-algo-1-0wikg  | \n",
      "wsq39azegu-algo-1-0wikg  |   }\n",
      "wsq39azegu-algo-1-0wikg  | }\n",
      "wsq39azegu-algo-1-0wikg  | \n",
      "wsq39azegu-algo-1-0wikg  | \n",
      "wsq39azegu-algo-1-0wikg  | 2023-11-03 03:28:20,624 INFO - sagemaker-containers - Module inference does not provide a setup.py. \n",
      "wsq39azegu-algo-1-0wikg  | Generating setup.py\n",
      "wsq39azegu-algo-1-0wikg  | 2023-11-03 03:28:20,625 INFO - sagemaker-containers - Generating setup.cfg\n",
      "wsq39azegu-algo-1-0wikg  | 2023-11-03 03:28:20,625 INFO - sagemaker-containers - Generating MANIFEST.in\n",
      "wsq39azegu-algo-1-0wikg  | 2023-11-03 03:28:20,625 INFO - sagemaker-containers - Installing module with the following command:\n",
      "wsq39azegu-algo-1-0wikg  | /miniconda3/bin/python3 -m pip install . \n",
      "wsq39azegu-algo-1-0wikg  | Processing /opt/ml/code\n",
      "wsq39azegu-algo-1-0wikg  |   Preparing metadata (setup.py) ... \u001b[?25ldone\n",
      "wsq39azegu-algo-1-0wikg  | \u001b[?25hBuilding wheels for collected packages: inference\n",
      "wsq39azegu-algo-1-0wikg  |   Building wheel for inference (setup.py) ... \u001b[?25ldone\n",
      "wsq39azegu-algo-1-0wikg  | \u001b[?25h  Created wheel for inference: filename=inference-1.0.0-py2.py3-none-any.whl size=3116 sha256=27b9f557fe21a20c695d7898452896a2367197fb34ad3a1525b5a365e0ea9ae8\n",
      "wsq39azegu-algo-1-0wikg  |   Stored in directory: /home/model-server/tmp/pip-ephem-wheel-cache-wtqp7dzp/wheels/3e/0f/51/2f1df833dd0412c1bc2f5ee56baac195b5be563353d111dca6\n",
      "wsq39azegu-algo-1-0wikg  | Successfully built inference\n",
      "wsq39azegu-algo-1-0wikg  | 2023/11/03 03:28:23 [crit] 20#20: *1 connect() to unix:/tmp/gunicorn.sock failed (2: No such file or directory) while connecting to upstream, client: 172.18.0.1, server: , request: \"GET /ping HTTP/1.1\", upstream: \"http://unix:/tmp/gunicorn.sock:/ping\", host: \"localhost:8080\"\n",
      "wsq39azegu-algo-1-0wikg  | 172.18.0.1 - - [03/Nov/2023:03:28:23 +0000] \"GET /ping HTTP/1.1\" 502 182 \"-\" \"python-urllib3/1.26.14\"\n",
      "wsq39azegu-algo-1-0wikg  | Installing collected packages: inference\n",
      "wsq39azegu-algo-1-0wikg  | Successfully installed inference-1.0.0\n",
      "wsq39azegu-algo-1-0wikg  | \u001b[33mWARNING: Running pip as the 'root' user can result in broken permissions and conflicting behaviour with the system package manager. It is recommended to use a virtual environment instead: https://pip.pypa.io/warnings/venv\u001b[0m\u001b[33m\n",
      "wsq39azegu-algo-1-0wikg  | \u001b[0m\n",
      "wsq39azegu-algo-1-0wikg  | \u001b[1m[\u001b[0m\u001b[34;49mnotice\u001b[0m\u001b[1;39;49m]\u001b[0m\u001b[39;49m A new release of pip is available: \u001b[0m\u001b[31;49m23.0\u001b[0m\u001b[39;49m -> \u001b[0m\u001b[32;49m23.3.1\u001b[0m\n",
      "wsq39azegu-algo-1-0wikg  | \u001b[1m[\u001b[0m\u001b[34;49mnotice\u001b[0m\u001b[1;39;49m]\u001b[0m\u001b[39;49m To update, run: \u001b[0m\u001b[32;49mpip install --upgrade pip\u001b[0m\n",
      "wsq39azegu-algo-1-0wikg  | [2023-11-03 03:28:24 +0000] [42] [INFO] Starting gunicorn 20.0.4\n",
      "wsq39azegu-algo-1-0wikg  | [2023-11-03 03:28:24 +0000] [42] [INFO] Listening at: unix:/tmp/gunicorn.sock (42)\n",
      "wsq39azegu-algo-1-0wikg  | [2023-11-03 03:28:24 +0000] [42] [INFO] Using worker: gevent\n",
      "wsq39azegu-algo-1-0wikg  | [2023-11-03 03:28:24 +0000] [45] [INFO] Booting worker with pid: 45\n",
      "wsq39azegu-algo-1-0wikg  | [2023-11-03 03:28:24 +0000] [46] [INFO] Booting worker with pid: 46\n",
      "wsq39azegu-algo-1-0wikg  | [2023-11-03 03:28:24 +0000] [47] [INFO] Booting worker with pid: 47\n",
      "wsq39azegu-algo-1-0wikg  | [2023-11-03 03:28:24 +0000] [62] [INFO] Booting worker with pid: 62\n",
      "wsq39azegu-algo-1-0wikg  | [2023-11-03 03:28:24 +0000] [63] [INFO] Booting worker with pid: 63\n",
      "wsq39azegu-algo-1-0wikg  | [2023-11-03 03:28:24 +0000] [71] [INFO] Booting worker with pid: 71\n",
      "wsq39azegu-algo-1-0wikg  | [2023-11-03 03:28:24 +0000] [79] [INFO] Booting worker with pid: 79\n",
      "wsq39azegu-algo-1-0wikg  | [2023-11-03 03:28:24 +0000] [87] [INFO] Booting worker with pid: 87\n",
      "wsq39azegu-algo-1-0wikg  | 2023-11-03 03:28:28,326 INFO - sagemaker-containers - No GPUs detected (normal if no gpus installed)\n",
      "wsq39azegu-algo-1-0wikg  | loading model.joblib from: /opt/ml/model\n",
      "wsq39azegu-algo-1-0wikg  | 172.18.0.1 - - [03/Nov/2023:03:28:29 +0000] \"GET /ping HTTP/1.1\" 200 0 \"-\" \"python-urllib3/1.26.14\"\n",
      "!"
     ]
    }
   ],
   "source": [
    "# 로컬 엔드포인트 배포\n",
    "predictor = sklearn_model.deploy(instance_type='local', initial_instance_count=1)"
   ]
  },
  {
   "cell_type": "code",
   "execution_count": 14,
   "id": "724cd0ce-63d2-40f6-bcd1-b7d643b09e06",
   "metadata": {
    "tags": []
   },
   "outputs": [
    {
     "name": "stdout",
     "output_type": "stream",
     "text": [
      "[0.51124342]\n",
      "[0.51124342]\n"
     ]
    }
   ],
   "source": [
    "# 예측 데이터 준비\n",
    "X_sample = [1.6812, 25.0, 4.192201,1.022284, 1392.0, 3.877437, 36.0, -119.01]  # 예제 데이터\n",
    "\n",
    "# 예측 실행\n",
    "predictions = loaded_model.predict([X_sample])\n",
    "\n",
    "# 결과 출력\n",
    "print(predictions)\n",
    "\n",
    "# 예측 결과 출력\n",
    "print(predictions)\n",
    "\n",
    "# 배포한 엔드포인트 삭제\n",
    "#predictor.delete_endpoint()"
   ]
  },
  {
   "cell_type": "markdown",
   "id": "970ccca5-45a1-4702-bcc9-12962341dc1f",
   "metadata": {},
   "source": [
    "## (3) SageMaker 추론하기\n",
    "노트북에서 로컬모드로 추론하기를 성공했다면, 이번에는 추론을 위한 별도의 엔드포인트를 생성합니다. 워크로드의 성격에 맞게 인스턴스 타입을 적절하게 선택하여 엔드포인트를 구성합니다. \n",
    "![inference_case](img/inference3.png)\n"
   ]
  },
  {
   "cell_type": "markdown",
   "id": "26defc98-8d7b-4d2f-906d-c2e3a2572b91",
   "metadata": {},
   "source": [
    "### 모델 파일을 GZIP tar 아카이브로 압축합니다. \n",
    "\n",
    "모델 파일 이름은 정규식 패턴인 `^[a-zA-Z0-9](-*[a-zA-Z0-9])*;`를 만족해야 합니다. 모델 파일은 tar로 압축해야 합니다. "
   ]
  },
  {
   "cell_type": "code",
   "execution_count": 16,
   "id": "74a7cb42-3df4-40f7-924e-fe20aaa39797",
   "metadata": {
    "tags": []
   },
   "outputs": [],
   "source": [
    "model_file_name = \"model.joblib\""
   ]
  },
  {
   "cell_type": "code",
   "execution_count": 17,
   "id": "0e7bed7c-505c-4cde-948b-7df9b0b20e2d",
   "metadata": {},
   "outputs": [
    {
     "name": "stdout",
     "output_type": "stream",
     "text": [
      "model.joblib\n"
     ]
    }
   ],
   "source": [
    "!tar czvf model.tar.gz $model_file_name"
   ]
  },
  {
   "cell_type": "markdown",
   "id": "3365efc8-4041-4cdb-bdc7-01a6900313a0",
   "metadata": {
    "tags": []
   },
   "source": [
    "### 사전 학습된 모델 `model.tar.gz` 파일로 S3 업로드"
   ]
  },
  {
   "cell_type": "code",
   "execution_count": 18,
   "id": "28f0fabf-b365-4941-8775-123a0d576910",
   "metadata": {
    "tags": []
   },
   "outputs": [],
   "source": [
    "fObj = open(\"model.tar.gz\", \"rb\")\n",
    "key = os.path.join(prefix, \"model.tar.gz\")\n",
    "boto3.Session().resource(\"s3\").Bucket(bucket).Object(key).upload_fileobj(fObj)"
   ]
  },
  {
   "cell_type": "markdown",
   "id": "771e07d0-e45a-41d2-9e1b-7b95f8e7cbd2",
   "metadata": {},
   "source": [
    "### 모델에 대한 호스팅 설정"
   ]
  },
  {
   "cell_type": "markdown",
   "id": "7e469aba-1c4e-4d81-9ccd-2438b7f36fb8",
   "metadata": {},
   "source": [
    "여기에는 이전에 S3에 업로드한 모델 파일에서 SageMaker 모델을 만드는 작업이 포함됩니다."
   ]
  },
  {
   "cell_type": "code",
   "execution_count": 19,
   "id": "73ef88f4-ddc1-4c33-ab5b-8c1c73ff1a84",
   "metadata": {
    "tags": []
   },
   "outputs": [
    {
     "name": "stdout",
     "output_type": "stream",
     "text": [
      "model data: s3://sagemaker-us-east-1-603420654815/sagemaker/DEMO-sklearn-byo-model/model.tar.gz\n"
     ]
    }
   ],
   "source": [
    "model_data = \"s3://{}/{}\".format(bucket, key)\n",
    "print(f\"model data: {model_data}\")"
   ]
  },
  {
   "cell_type": "markdown",
   "id": "6a5312b8-0aaf-4852-9445-68aea0b71246",
   "metadata": {},
   "source": [
    "### Python 종속성 추가 설치\n",
    "\n",
    "스크립트와 함께 컨테이너에 필요한 종속성이 설치되도록 하기 위해 requirements.txt 파일을 제공해야 할 수도 있습니다. 이 스크립트에서는 Python 표준 라이브러리 외에 boto3 requests, nltk 라이브러리를 설치하는 방법을 보여드립니다."
   ]
  },
  {
   "cell_type": "code",
   "execution_count": 20,
   "id": "98372621",
   "metadata": {
    "tags": []
   },
   "outputs": [
    {
     "name": "stdout",
     "output_type": "stream",
     "text": [
      "boto3\n",
      "requests\n",
      "nltk\n"
     ]
    }
   ],
   "source": [
    "!pygmentize ./code/requirements.txt"
   ]
  },
  {
   "cell_type": "markdown",
   "id": "93217e26",
   "metadata": {},
   "source": [
    "### Python SDK로 배포\n",
    "\n",
    "여기에서는 다른 세션에서 학습된 모델을 배포하는 데 사용할 수 있는 s3 아티팩트에서 모델을 생성하는 프로세스를 보여드리겠습니다."
   ]
  },
  {
   "cell_type": "code",
   "execution_count": 21,
   "id": "0c408083",
   "metadata": {
    "pycharm": {
     "name": "#%%\n"
    },
    "tags": []
   },
   "outputs": [
    {
     "name": "stdout",
     "output_type": "stream",
     "text": [
      "sagemaker.config INFO - Not applying SDK defaults from location: /etc/xdg/sagemaker/config.yaml\n",
      "sagemaker.config INFO - Not applying SDK defaults from location: /home/ec2-user/.config/sagemaker/config.yaml\n"
     ]
    }
   ],
   "source": [
    "model = SKLearnModel(\n",
    "    role=role,\n",
    "    model_data=model_data,\n",
    "    framework_version=\"1.2-1\",\n",
    "    py_version=\"py3\",\n",
    "    source_dir=\"code\",\n",
    "    entry_point=\"inference.py\",\n",
    ")"
   ]
  },
  {
   "cell_type": "markdown",
   "id": "5e05fe2b",
   "metadata": {},
   "source": [
    "### 엔드포인트 생성\n",
    "마지막으로, 위에서 정의한 이름과 구성을 지정하여 모델을 제공하는 엔드포인트를 생성합니다. 최종 결과물은 유효성을 검사하고 프로덕션 애플리케이션에 통합할 수 있는 엔드포인트입니다. 이 작업은 5~10분 정도 소요됩니다."
   ]
  },
  {
   "cell_type": "code",
   "execution_count": 22,
   "id": "b06fb61a",
   "metadata": {
    "tags": []
   },
   "outputs": [
    {
     "name": "stdout",
     "output_type": "stream",
     "text": [
      "sagemaker.config INFO - Not applying SDK defaults from location: /etc/xdg/sagemaker/config.yaml\n",
      "sagemaker.config INFO - Not applying SDK defaults from location: /home/ec2-user/.config/sagemaker/config.yaml\n",
      "-----------!CPU times: user 397 ms, sys: 38.3 ms, total: 435 ms\n",
      "Wall time: 6min 3s\n"
     ]
    }
   ],
   "source": [
    "%%time\n",
    "\n",
    "predictor = model.deploy(instance_type=\"ml.t2.medium\", initial_instance_count=1)"
   ]
  },
  {
   "cell_type": "markdown",
   "id": "e7d0c01a",
   "metadata": {},
   "source": [
    "### 사용할 모델 유효성 검사\n",
    "이제 이전 작업의 결과를 사용하여 클라이언트 라이브러리에서 엔드포인트를 가져오고 해당 엔드포인트를 사용하여 모델에서 분류를 생성할 수 있습니다."
   ]
  },
  {
   "cell_type": "markdown",
   "id": "9407488f",
   "metadata": {},
   "source": [
    "### 파이썬 SDK를 사용하여 호출"
   ]
  },
  {
   "cell_type": "markdown",
   "id": "2b263bbf",
   "metadata": {},
   "source": [
    "단일 데이터 포인트에 대한 예측을 생성해 보겠습니다. 앞서 생성한 테스트 데이터에서 하나를 선택하겠습니다."
   ]
  },
  {
   "cell_type": "code",
   "execution_count": 21,
   "id": "79227345",
   "metadata": {
    "tags": []
   },
   "outputs": [
    {
     "name": "stdout",
     "output_type": "stream",
     "text": [
      "[0.50522553 0.72785495 4.84144143 ... 1.25968039 3.00728161 4.20405599]\n"
     ]
    }
   ],
   "source": [
    "# the SKLearnPredictor does the serialization from pandas for us\n",
    "predictions = predictor.predict(testX[data.feature_names])\n",
    "print(predictions)"
   ]
  },
  {
   "cell_type": "markdown",
   "id": "5a30e6af",
   "metadata": {},
   "source": [
    "### Alternative: `boto3`로 호출\n",
    "\n",
    "람다 함수 또는 기타 마이크로 서비스와 같은 외부 클라이언트에서 모델을 호출할 때 유용합니다."
   ]
  },
  {
   "cell_type": "code",
   "execution_count": 22,
   "id": "775c1b18",
   "metadata": {
    "tags": []
   },
   "outputs": [],
   "source": [
    "runtime = boto3.client(\"sagemaker-runtime\")"
   ]
  },
  {
   "cell_type": "markdown",
   "id": "2f34e183",
   "metadata": {},
   "source": [
    "#### 옵션 1: `csv` 직렬화"
   ]
  },
  {
   "cell_type": "code",
   "execution_count": 23,
   "id": "783a343d",
   "metadata": {
    "collapsed": true,
    "jupyter": {
     "outputs_hidden": true
    },
    "tags": []
   },
   "outputs": [
    {
     "name": "stderr",
     "output_type": "stream",
     "text": [
      "The endpoint attribute has been renamed in sagemaker>=2.\n",
      "See: https://sagemaker.readthedocs.io/en/stable/v2.html for details.\n"
     ]
    },
    {
     "name": "stdout",
     "output_type": "stream",
     "text": [
      "b'[0.5052255264069264, 0.7278549527417028, 4.84144142727633, 2.630331391414141, 2.3375484145021646, 1.6975502158730171, 2.309398987518038, 1.6731999047619046, 2.7045755227489177, 4.930513784971132, 1.1271293660228663, 2.0442698814754694, 1.6697642449494945, 1.7882627182539679, 2.5009227194444437, 1.6289314004328999, 2.055694136111111, 1.875261085497836, 1.4760065079365077, 0.9333275314407823, 3.9369377091774913, 3.8171829994444444, 1.4406590634920633, 4.013373858102452, 1.7455627074314577, 0.562323240870241, 1.8282618834776323, 1.0577095952380953, 1.660110602453102, 3.8490506235775324, 1.0615580701243201, 1.358711761904762, 2.06265991228022, 3.988934916388888, 2.8239332580266963, 2.5209073774170268, 3.1538034446092804, 1.5710327608225108, 1.2995099047619048, 1.5089222023809525, 2.940774731962483, 0.9317203690476191, 0.9088048474025976, 2.1008054353571426, 1.4879388221500718, 2.1453408145743142, 1.3607639170274166, 1.7118349130591626, 2.421039767911255, 1.0653366214896216, 2.5088582212987016, 2.0782431868686873, 1.6757674747474758, 0.7488248546731044, 1.3949206450216454, 1.8110343051948048, 0.8067815880230877, 2.1826677857142855, 2.0397968005050506, 2.4079274049963924, 3.984077799877344, 2.4004407050432897, 1.02133768997669, 1.0142874314574315, 3.0654688797114, 1.8544219007936504, 1.4983596933621925, 1.4233607463924967, 1.8539305130158719, 1.5084231119769114, 1.174286304473304, 2.1518316605339103, 0.8776333705738706, 1.8331578192640694, 1.8337916133838383, 2.189383604617604, 3.9050484992352095, 2.4168476576082254, 1.7590924746919736, 2.9508592690043276, 0.8980880622710619, 1.7051658972693968, 1.9101996316738816, 1.928330624909812, 3.9469467165476186, 2.2644999960317453, 0.8717688531746028, 0.7585327182539687, 2.3708615024603175, 2.223288441825397, 1.114984218253968, 2.7274458665223658, 0.9374045569985567, 0.4955627676767678, 1.0066584188311691, 1.2595171150793651, 3.7996760623304495, 1.76498385436508, 1.5334912232323241, 1.7236955508658005, 1.4377247860750364, 4.475698318177654, 3.1868315504598166, 2.656928545454546, 2.1260650685425695, 1.5704368740981247, 2.1410545834632035, 2.815379253459596, 2.6826203765401266, 0.8682511415806412, 1.4203895277777778, 2.3282863853968254, 2.7930627113888886, 3.7612823301334752, 1.495486855921856, 1.9478290032611836, 1.7132449213564214, 2.910909200483406, 2.4311396480663783, 2.266101834415584, 1.7041509065934062, 1.8343833962759462, 3.127734827380952, 1.8464809007936516, 1.3990028791486293, 0.9145775310245315, 1.0851491369047621, 2.248618346320347, 2.751187759740259, 2.0513433015259745, 3.198339941980521, 4.94203616154761, 2.829890541486291, 0.7570303567821067, 2.0939049727772225, 1.1846216507936504, 2.3021615559163062, 2.7039325746753247, 2.1309602792207785, 3.022702797705626, 2.6943639435725384, 1.2163104072871573, 1.4209975266955264, 2.287395062077922, 4.319822260862194, 1.5899116677489176, 4.443468817175324, 2.1741482941558443, 1.075972021284271, 1.5679330126440225, 1.9178259954256842, 1.3490795102120106, 1.5912605245310243, 1.4281757572982574, 2.9438701698917753, 2.80726757478355, 2.316124967763348, 2.401034287157287, 0.8966933860028858, 1.0402550555555556, 2.147003406565656, 2.113559316378065, 4.141622684971142, 1.4420410039249638, 0.878681264874015, 2.6603469720202013, 2.031255616522367, 0.9338316154678659, 2.23712286038961, 2.433801202539683, 3.2727870869227984, 3.0894602226082246, 2.7505867171428577, 2.918407834404762, 0.6116942269119768, 0.6757082619047619, 1.1058149332611829, 1.0442595104617607, 1.6487631983016984, 0.7431878492063494, 3.4821752549400586, 3.410645450702076, 1.7257685411255403, 2.780754870129871, 0.5582562474747474, 1.1396461314574318, 1.5387532171717169, 2.48167621025974, 4.325763056563159, 2.9278613944444443, 1.5725994350649353, 2.7254222241269837, 1.5196590595238098, 1.7593965358374957, 1.6124143362193362, 0.915171451354202, 1.9515804826406928, 0.8870260642135641, 5.000009999999989, 1.17688413997114, 3.0419129073809525, 4.550648785436504, 3.121571457438672, 2.028842605699855, 1.7749588611111113, 2.2252990428656316, 1.6598025922619044, 1.1982802857864352, 1.8899346349206352, 2.0687928174603174, 1.094893786075036, 4.955210145277768, 1.8568706163003665, 2.9226122897546896, 1.2976241684704188, 1.4341460560966808, 1.9556038784271275, 0.5993952579365078, 2.6859866945887436, 1.0894156677489173, 1.26609325, 1.8409550357142865, 3.2983079736080594, 1.9573726079365081, 1.0147936315195911, 1.6672080923520922, 3.2281086842729483, 0.9061795328282826, 2.0955996468253972, 3.185222287424242, 2.9454066222222224, 2.4132676507936517, 1.2290850595238099, 3.694541718272007, 1.350815163737374, 0.7934962806637809, 4.319592182925685, 4.947612373333324, 1.3403297121212125, 2.7299811305158728, 2.149382876731603, 1.1305550354617606, 1.7351502171717166, 1.5525030389610388, 1.5941138748015873, 2.5966569897546896, 2.524246057222222, 2.435130189062049, 3.332799787222222, 1.5924736854256851, 1.103202163614164, 2.0849672860472857, 1.597497190947941, 1.385312377344877, 0.7879724613997116, 2.2317980857753366, 1.7574406673881668, 1.2045628831168833, 1.1120592097041848, 1.52706376948052, 2.0043909117826617, 2.6546169302344875, 3.910648471345599, 1.8094031854256856, 0.8687302144444451, 3.8234532387626263, 1.2539319769119763, 1.917038436829004, 3.8519476026587323, 1.3192356787301585, 5.000009999999989, 2.014514446334777, 1.5849660256132765, 1.807753568070818, 1.2853517786102788, 0.9118009155844158, 2.2099649859307355, 1.3447623333333332, 1.1917734084526592, 2.37854582406205, 1.5601284942279938, 2.4172235488816747, 1.183399073593074, 1.274228906060606, 3.6429969017399264, 4.0773872295129845, 3.212431763881672, 1.5512545494228005, 2.457354597202798, 4.6987287371428526, 1.5958827806637808, 1.045117391580642, 1.631382205266955, 2.452639864070374, 1.7680838383838375, 0.9306780739538236, 4.346323704692805, 0.5850148601953602, 2.248458892857143, 1.8817928784271287, 1.1789590594683093, 0.71966086011211, 4.967143926666658, 1.1469112473359973, 1.1442997406204907, 4.595299750501441, 2.4885173653463197, 0.6071645919913419, 3.6536825188275617, 1.544943001443002, 1.675774575036074, 2.3559688762914863, 1.9997876072438674, 2.468201784758297, 5.000009999999989, 1.5253884206349202, 0.757300141414141, 2.021033415613277, 1.712324199494949, 3.7591096778174613, 2.5554002898809514, 2.174112854218005, 2.0877816929437234, 4.8296607960714235, 2.034536604978355, 1.5299735966810966, 2.0113010696248206, 0.9867454206349205, 1.5345709484126988, 1.586734384920636, 1.2390488096348096, 2.286651561247086, 3.395858159909812, 1.9198082539682548, 0.7007619348151846, 2.860514666666668, 1.2263766450216451, 0.7245818513708513, 1.0174065119624822, 4.058231314942279, 2.4406679020146527, 0.6616996129148626, 0.7334148383838387, 2.1047992835497826, 2.3244442871572866, 1.0158211460761457, 3.8695748181349194, 3.2078192009379514, 4.9822165970237995, 2.4902474711111124, 2.0031031489899003, 1.9293297582312134, 1.0459922990620492, 1.1999229072871573, 2.1914224714774106, 1.915238073593074, 0.8477147883838384, 2.093481351678877, 2.8935630114898987, 3.3308243867568526, 4.391867481262626, 2.2449084873737366, 2.3924320580808076, 1.6134900385725386, 1.5046316699134201, 1.6978619040404042, 1.8313005488095242, 4.492440261031746, 2.8107133940781455, 2.2303935594047624, 1.9499020494227992, 1.3969089880952383, 0.659079265873016, 0.8832832989232987, 2.950578430430958, 1.9408852799422789, 1.5236764660894655, 1.574290483766234, 0.8237742875180372, 1.7504818304473293, 3.1911260707548013, 4.821513241547616, 1.7390189466089467, 1.153360477272728, 3.543710761309522, 4.177338827687591, 0.8120216554834054, 1.63046401984127, 1.2325871760461764, 2.0577369989177487, 2.1444710155122655, 0.9423598690476189, 1.1421026048118548, 1.059378985347985, 1.753117167388167, 1.6059422702020207, 4.954395633690465, 3.3199089101623396, 1.8120249320956825, 2.1743467306560116, 4.054142266305914, 2.5202504175091587, 1.6704151302308798, 1.9207878659451658, 2.4443414804761905, 0.994430038613021, 4.823055894823228, 1.6064139707792202, 1.458362993614719, 2.2267372038888884, 1.1125497965367963, 4.98168703857142, 2.152875236652236, 1.1433400386002888, 1.1400433609168608, 2.1090392426739926, 4.249742690797257, 1.205343420995671, 3.89862543139971, 1.5801455906593416, 1.4563848062770561, 1.502436654040403, 2.0456358870851377, 1.1844309842657341, 3.7023025305952353, 2.0674927344877356, 3.014885945721501, 1.7536090887445885, 2.8898103137012963, 2.2017474737806646, 0.9994287424242423, 2.2352786879509376, 2.6595564404761904, 1.2968462092352095, 1.7504151349206345, 2.9872493442171706, 3.0567661478354973, 1.2767217673160176, 2.3064099072871573, 2.4752803134920636, 2.2949632130158744, 1.2797677460317465, 3.858631291497112, 3.3689327269408373, 1.0814144531024532, 1.6733159130591624, 3.1539175302100686, 1.7502391584343426, 1.3020183849206344, 2.377901286868686, 3.4684054887914884, 2.104926932539682, 4.697669691807355, 0.9011092777777777, 1.8092551295093795, 3.6043007605921855, 2.8789961913095237, 2.1700434083694087, 2.08107067030192, 0.7006432792485289, 1.358826615310245, 4.123968451857864, 1.6176613427128437, 1.3626459559884565, 1.2801931107503606, 1.5630228365800858, 2.0448511670274163, 2.218841848845599, 1.1702024181318684, 1.0670425158730157, 1.9604514379509388, 1.3855677604617604, 0.9255159206349205, 1.113121297979798, 4.2377115459923385, 1.4044673827561323, 1.1974591518831168, 0.9015678131313135, 1.936378464646464, 0.8330214379797978, 1.6797892257187257, 1.5566114740259736, 2.161889802712842, 2.8820651760028846, 1.1757537388167394, 1.6735587142024644, 1.6807764823232325, 2.631107101659451, 1.5159386075036074, 3.287827856686925, 0.8446037175324673, 0.9192491608669109, 1.3041599844877343, 0.5331765854978354, 3.6825203330061607, 0.6637351414141414, 3.004175558387447, 3.1589891347546892, 2.064262781940837, 2.5022450862193373, 2.118872894155844, 2.82384592579365, 2.2939084601226543, 0.7779640822510827, 2.417014750360751, 2.917261359523809, 2.2955865039682544, 2.7288478620468424, 4.6003292891991325, 2.5657911342785, 1.5330458906926407, 1.7659809025974023, 2.742239972716172, 4.599659726150791, 2.1244307678932177, 3.9379526320129883, 1.805881892857144, 2.9559828926082248, 0.6785171962481964, 2.4033270457431457, 3.024374489339826, 1.31041758946609, 2.789139569523808, 1.4728554812409809, 1.8577962384559883, 2.2378255873015873, 1.4739082631673888, 0.6335466309523808, 1.2311526880158727, 2.27276403135642, 1.5038027092352098, 0.9711547357142856, 2.7549149498232315, 1.851544329682539, 1.6664155402375405, 2.1551156269841267, 2.8090834321789333, 1.0995712698412696, 2.4175864523953834, 0.6484199769119771, 2.5635339375901878, 3.303264670555556, 2.5305058284559894, 1.822169716089466, 1.8906193433233427, 4.42231831207792, 1.9133815934343434, 5.000009999999989, 2.6109087884892888, 1.2231720830280832, 1.2494435793650793, 2.59063779076479, 1.400966735930736, 1.00153670970696, 1.376306308441559, 2.902297033730158, 1.5645049178571433, 1.1775377312409814, 0.8626697620435118, 1.2488908253968256, 3.722223472456712, 3.607404793861416, 2.6037672569305697, 2.865083587835497, 1.4550941626984129, 4.074287133524531, 3.444409467772506, 2.9185925133189046, 2.660072536158287, 1.7538264447113994, 3.642659556507933, 0.5085729116161616, 2.136781211455211, 1.6376118391053394, 1.1864435198412697, 1.4481439015207014, 0.8828278587801088, 1.7172291743534243, 2.3644978894841264, 2.709663297979798, 3.094189118045843, 4.97586670749999, 4.81336487863636, 1.5559503931623928, 2.2145412543290046, 4.2053288037373715, 1.8975433345543344, 1.613781454545454, 0.9318844137806637, 1.9146092510822503, 0.8195733502886, 1.1466649116161611, 2.402886531616161, 1.3592238727106227, 0.546731292929293, 2.4689743429292945, 1.599677316822067, 1.0347594319291817, 1.430816233405483, 3.7783410592857147, 1.2806055219780217, 2.5413500761183263, 2.3086793357142854, 1.338094761183261, 0.813533091035354, 2.2258888258297262, 1.8770990822510836, 3.5391569051376375, 3.304905937258297, 0.6325498315295814, 1.8912845203463204, 1.912523365079365, 0.8192235109812411, 2.940843876746031, 3.0361280721384163, 2.486699524531025, 2.29868151984127, 2.238251494105339, 2.073276394910644, 1.3302118012265505, 2.988760332051281, 3.1553153061953565, 2.8810762757936503, 2.8436211855158713, 4.99741869142856, 2.248992338383839, 1.84694500974026, 2.3350851713131324, 4.611307216111108, 3.114165090212842, 3.6814791188347766, 1.9267955797258294, 1.9957840816378067, 0.7209313074703074, 1.204367879148629, 3.458644638055554, 1.8020461388888895, 2.911681295844157, 1.6253902777777773, 0.7317547377344877, 2.157855726190476, 1.7531134040404042, 1.978804578282828, 0.7041117738095234, 3.9420965205555545, 2.3499189166666663, 1.0687532289377295, 0.9385669895382397, 2.657227082256632, 2.353841911616161, 0.9361887297979797, 2.6482654410101008, 0.9472566413863912, 1.1776927777777773, 1.1267558575036078, 3.5182900208080796, 1.170112893772894, 0.9631931736874239, 2.169674783333333, 2.155388870634921, 2.253979009637584, 1.8481420165945164, 3.4874950423260054, 0.9000188492063494, 2.2899262452824947, 1.3873163839216347, 0.6820284971139969, 1.4663182238455985, 0.9064374852092353, 1.7964943985458985, 2.085798281746032, 2.1295115200554995, 4.894405640530299, 1.2925844505217001, 1.2241552380952383, 1.9351469207936502, 1.0397696017316018, 1.2420971118326114, 3.4625546536075023, 4.899143715448712, 1.5644544177489177, 0.8108138272005774, 1.6344998522005767, 3.3672847043217895, 3.407533095580807, 2.8180897333333323, 4.400775689564602, 1.8642561825396822, 2.1983233579365087, 0.7397255670995674, 0.5155185866633365, 1.931754032222222, 2.190169001400267, 1.4088788026695525, 2.0705051874458884, 1.0152267380952376, 0.641921448051948, 1.713636186017316, 1.6580006298701295, 4.645807565396823, 1.2978023597236095, 2.5997260134559883, 2.438719514166666, 1.9157155663780663, 1.6852463726551228, 3.7204793541774883, 1.9654933542568531, 2.037566392727273, 2.119039861111111, 2.2416820941558435, 4.270923363571428, 1.8682315158730152, 3.7932278166233755, 2.6324287150072148, 0.970885569347319, 1.5143824287656784, 3.0384530351803756, 0.9623864292929292, 3.301970394444445, 0.9628685176767678, 3.943729300313852, 1.7400900422077925, 0.8612677002164504, 3.0020407978427137, 2.2244310596392496, 1.1443646709956707, 2.996532603095239, 0.8399908578643581, 0.8007771836219338, 3.6335577593181814, 1.6394445833333333, 1.4471186832611826, 2.277573364357866, 2.138754348734599, 4.580646039563489, 0.7374662222222222, 1.245671910894661, 1.8264303528138532, 1.4279258041125538, 2.488591496031746, 1.4889676266233767, 1.5335626688311683, 1.136596273809524, 4.564873787113996, 1.711862267676768, 3.2885293105494493, 1.4640084938672435, 1.0999438235930739, 2.249922023376622, 1.412396583694084, 1.011660333694083, 3.8421876994047612, 2.43708080185287, 2.1890675583455437, 3.019949575727606, 3.5569806034090914, 1.495920572843823, 2.2446296161779893, 1.6870904531024538, 2.2620953548484843, 1.3797824999999997, 2.395168928077199, 1.4514722869841268, 3.7801713596284277, 2.9091217164502168, 0.8546484148629147, 2.653789274170275, 2.887015376984128, 3.1508596725432896, 0.9741012031024529, 1.717996700216451, 4.7937566740445625, 0.7331564642857145, 2.313217722994228, 2.240837702380952, 2.2282927248307254, 0.9381322456709955, 1.3102614246031743, 1.8239664575757573, 1.2606796688311686, 1.1913045375180376, 1.4952712534132542, 1.9554898116883117, 4.057340409664501, 1.6649490919913412, 2.527316478708513, 2.8320933979076472, 1.2850077908757915, 0.8169861996470196, 2.3949755678571427, 1.2039749325396825, 1.0822032835497837, 1.6415114484126976, 1.1559283527250528, 4.569890434285712, 2.341728169314574, 4.215910385634644, 2.3141002776623383, 3.6638002732359314, 2.0367973380230873, 1.2334884943795092, 0.886411008297258, 2.6352815655916304, 2.457166072150073, 2.0311175696248203, 0.5276080833333332, 2.007844123376623, 0.6906254264069263, 1.7631555338272842, 2.5779950554545445, 1.5419139642857145, 1.8594346035930744, 1.6985115378787874, 2.107090744949495, 1.0553397301587304, 2.3749371791125538, 2.185081208989899, 2.2273510012210007, 1.4797272144799647, 1.7060768095093803, 3.620300201443559, 1.573085019480519, 1.6549797506105008, 2.5661364335101, 2.523883776262626, 4.83146309880952, 3.750234971500721, 1.8400411731601738, 1.891417170995671, 1.3422748336940833, 0.617253888888889, 1.7144692934343437, 1.6097017261904762, 2.890694652720059, 2.722949238229548, 0.9626213700743702, 1.695180850396825, 4.998989966666655, 1.8921384877344871, 2.616051587662339, 1.878858933730159, 1.4553183217893217, 2.9592277776334788, 0.823359753968254, 1.188721816933067, 0.9639806356421358, 0.516472338023088, 1.6514286388888884, 2.115722263506494, 2.954967818037518, 2.01075857925297, 2.0859439974747476, 3.3295537272943703, 1.1624297655122657, 1.6102199902597405, 2.202868807936509, 2.8388725893398266, 2.524719083809524, 2.063913682362638, 2.510430438419913, 2.4689094599134207, 2.1814651507359306, 2.888818681746033, 0.7884047590187591, 2.1465459163059166, 0.6631894852647355, 1.913493642857142, 3.215017519480519, 2.551612246265401, 3.936254751269841, 2.0598384365079356, 2.0693612045454537, 2.1340700107323225, 1.929545972222222, 2.1309212658730163, 0.6943907925685423, 3.0764123124320126, 2.6208522332944826, 2.382520717809967, 1.5249704920634917, 2.622609446031745, 2.0396404671717177, 2.7129530491702742, 1.5885437365689865, 1.5856847384559885, 2.053645777056277, 0.7690473805916305, 1.927566724386725, 2.1387371996464646, 2.2140414981962477, 1.5884939613997116, 1.1765513373015872, 0.9326434498557, 3.8286010077777775, 2.6999861049603173, 0.7532552005772003, 2.2610618370490614, 1.6505958440392936, 2.0688105563492067, 2.116047571948053, 2.285651470418471, 1.3110043294733043, 0.9506016688311693, 1.6773640766788767, 1.565062252608503, 2.005351599206349, 4.644985785119042, 2.1287145172222224, 1.1215483970196467, 2.8057209840781434, 2.1632808589033186, 3.353388956713565, 1.2136793250360751, 1.71749623088023, 4.816161993385223, 0.7545381875901874, 2.202721287157287, 0.6645543262570763, 1.040347027777777, 3.156147128044731, 0.7695607074314574, 3.523547397554114, 1.4654749330808081, 0.7664589715562218, 0.9402262157287162, 0.8545972987012983, 1.553938742063492, 3.336779276785714, 1.8599122142857138, 4.345812682496391, 1.821391009379509, 3.6687726409956714, 2.4134442554112554, 1.200869264790765, 1.9108443560606065, 2.1696866250000006, 3.5257809460028864, 2.6723509617882115, 0.9724028008658004, 0.9242924080086583, 2.7729783255663785, 2.4929485958333335, 3.3913941847077917, 1.948402490620491, 3.1273719279906205, 0.7821953661616162, 0.6931335061327561, 1.654273897186147, 1.3002203624153623, 3.2812863927380964, 4.124047474772726, 1.9439082582972589, 1.8822868452380956, 1.1334082044011546, 1.3983385793650789, 3.2361343836355303, 1.565781010767011, 1.4498065108225109, 2.025894356060606, 1.363436242063492, 1.2513086145243648, 4.997979966666655, 1.4845844918137425, 4.975748928968243, 2.8804242222222225, 1.0451674751082252, 2.98096136945166, 2.2565839188311694, 1.7428937251082244, 0.5009110595238094, 1.9288181792929293, 2.4052903253968254, 1.8923186502455878, 2.3450930749062056, 1.86080527959596, 2.20171918001443, 2.2452800750360744, 2.7705274967532465, 1.1352250039682539, 1.1494064253246752, 0.9329896626984129, 3.3919043384704186, 2.40355106004329, 2.1031212460317468, 2.951454610840549, 1.3576878762626259, 2.2656698811688316, 4.953175737142847, 1.6626443607503603, 3.6945824281385278, 1.7585418867243854, 3.1312781744480525, 0.9836521623376625, 1.0195407366522367, 2.6892223867676774, 2.643411513044731, 0.8413447070707067, 1.5377679516594513, 5.000009999999989, 2.5149070612842706, 1.7399278134920642, 1.0181246666666668, 3.020246668286436, 3.5667484793217885, 1.4000198239538235, 2.4032656742063483, 1.754526413383838, 2.258815638528138, 1.6933396392496394, 3.045486660252525, 1.3788425151515156, 2.2542474173881666, 2.8670611812631805, 2.2981236134343432, 4.770917913701294, 1.3140264956709955, 2.2832737738095235, 2.9840477599114767, 1.0103013774558776, 1.8745617658730163, 1.2749481201298702, 4.997979966666655, 1.4136603517871016, 2.03752501984127, 1.4829353666666665, 1.6397339495781993, 1.6744361666666672, 1.6856694579864577, 2.886601071208515, 2.242000445959596, 4.159391654072871, 3.815787527857142, 1.8485628611111118, 3.833472626792931, 1.280134106060606, 1.2705506042568542, 0.6434810971250968, 1.9429835536907536, 1.9646070295815294, 4.1605166734523795, 3.242557485909369, 1.0137030036352535, 1.612709368470418, 0.624179829004329, 2.1628577775280267, 2.0934848916916415, 1.2192039859307355, 2.2290402308802313, 1.0403005674603178, 2.9111600581060606, 1.406058619047619, 1.790169162229438, 1.6214380425962924, 2.2978635526370845, 1.0507722077089574, 1.0819381713564211, 0.7064879863747362, 4.316426550873014, 1.0932538268398269, 0.8061254693362193, 2.11120109916306, 1.685743063492063, 1.1146016242368741, 3.628273394642858, 1.1141288550338548, 1.8930177297258295, 0.9557058524531028, 1.5168628661257049, 1.3801634967532472, 1.520245616984127, 1.5798451951659451, 1.0690512396214897, 1.4434623581418584, 3.70139293767316, 1.6296228001442998, 3.143926493982684, 0.8249990992063491, 0.6635202086802088, 3.2943869755175386, 1.2522432766955263, 4.989003346031735, 3.476487723636363, 1.9625668993506502, 1.7701256659451656, 1.8750619105339115, 0.9705685732600728, 2.7991404029581526, 1.5711727507215008, 1.8845919509379505, 2.2337424862914856, 1.6356336031746026, 1.2295665992063494, 1.198261538508713, 3.538245393690478, 2.5851900228715725, 2.1680470487012986, 2.4218880515318006, 2.056862927142857, 2.3501287106782103, 1.310644235930736, 0.9164076197691198, 1.4903427420634912, 4.316716705679315, 0.8460830978715727, 1.1405705, 1.242324959372294, 1.4923664404761912, 2.7944735406746037, 0.6986245317460318, 1.8885377355699862, 1.981400987741703, 4.071950866944445, 3.9041061027164488, 2.41187804004329, 2.6052098535825285, 1.913716491341991, 4.092009843813133, 2.9281256567496383, 1.4600310266955265, 1.3510440761183262, 1.9888734246031745, 1.172830085497835, 2.0124061314574315, 1.0617726010425688, 3.1700039413972134, 1.5766574805194815, 1.8058754264069268, 2.248153560461761, 3.213665049309024, 4.012261537539681, 1.402735817460317, 2.1469104075596626, 0.943462630647131, 1.1327728769841274, 1.366105395743146, 2.58335372929293, 1.9268649408369414, 0.740931462121212, 2.8103251004184693, 1.2626430176767673, 2.131023257857143, 2.0501706439255196, 0.8150018210678212, 1.3695765450382944, 1.1467100317460317, 2.3017073426800976, 0.7395119484126981, 0.8168745797258292, 0.8923465245310244, 1.7587072222222222, 5.000009999999989, 1.0163514469696968, 3.1000499726060053, 0.9844188055555554, 0.7182965537518038, 1.3819493564213565, 1.0487098697691197, 1.8738219885447878, 1.5591035595238087, 3.6905208250793646, 2.436716308564213, 1.870966921875902, 0.8279787908480407, 2.004309762835498, 1.288726618326118, 1.1008184852092353, 2.472493222308803, 2.474497361832612, 1.8675517755555553, 0.749786827994228, 0.7993215821123318, 0.5214680891053388, 2.2944659453601957, 3.649458624444445, 1.4156978690476187, 1.5844870212842712, 0.8795220587806638, 1.9143410607170608, 1.6559809521284277, 2.8694761491378076, 1.1663167745238092, 1.0120464404761904, 2.0266192852994225, 1.6681061724386723, 3.6859178994907853, 2.8965814030952397, 2.5777848653679656, 1.5396420887445894, 1.0854157085137086, 2.686346129920635, 2.757735830818071, 2.120772735930736, 1.9549187302686215, 1.602293198135198, 2.6355512111255415, 1.25171626984127, 1.2770773691308688, 2.932980398129648, 2.0199468463203463, 3.509714553035853, 1.995845282331557, 2.4304986892857157, 1.0461493924963927, 0.7433636976911977, 4.975817248333324, 2.1743107140331897, 4.615837441691918, 2.428630093452382, 2.6694554188311694, 3.8430936955952366, 2.448739692063491, 1.1024285238095242, 0.8065659380286376, 2.0293306366955277, 3.7019347623809513, 2.488365405844156, 1.034657484126984, 3.740092623780664, 1.7843249678932178, 3.021444864747475, 2.6955708742857127, 1.4790470214285718, 4.016188918595569, 2.1594632979797987, 1.9754518463203465, 2.943247733571429, 1.0325722629870129, 2.3850244696969694, 1.4385338578643578, 2.7463578743101333, 4.995508682857132, 1.3896545293040288, 0.7537302005772005, 1.1235813517316016, 1.732685922077922, 0.7991209603174602, 1.7996454868742375, 1.9509308790043292, 1.405853510822511, 3.424240154177489, 0.8562028409379506, 2.698450117943722, 1.8365209513708516, 4.990874469999989, 3.3410038912151743, 1.6562174129481633, 0.878817812659563, 1.1733019801587297, 5.000009999999989, 1.3141846186868689, 3.731199394484126, 2.3343043261183265, 2.8144368236152735, 2.290739192691198, 1.8881383769841262, 2.6910639758991004, 3.0340420673620816, 1.1836271800144302, 2.37039084478355, 2.4929552831612836, 1.909742834054835, 2.1087846168253974, 0.9725374906204906, 2.5735300021212115, 2.622820487476413, 0.848390205266955, 1.6560186897546898, 1.9024948244200246, 1.8305714244011542, 2.0473798542568535, 1.375781007936508, 2.1138454590964595, 2.058411895557776, 1.275127095238095, 2.0471960869408377, 0.884730583333333, 3.025627766024532, 2.090670647796648, 4.9012804874999905, 2.3012073903318897, 0.9092590640470638, 0.9741679924242429, 2.3935764992785, 2.9421442330844165, 1.9803905126262622, 1.5373920411255415, 3.5366559763708523, 1.275900566738817, 2.2593026252380954, 2.3679205401587304, 1.8925522591269834, 4.027982209682538, 2.4842970082972586, 2.6986546555555564, 0.5572543405205904, 1.4542910414862913, 0.7124673542568545, 1.5003859235209236, 2.370745821428572, 2.4497044007936513, 3.507154658019482, 2.2473897021284266, 1.6223622705627705, 4.810161424670323, 1.1111736533189032, 1.301404513297258, 0.9238361316919194, 2.238928597474747, 1.8012378463203458, 2.354373748268398, 2.771654746536796, 2.3681834502164496, 3.1865106707936515, 1.6391206673881669, 0.8270734603174603, 3.759431554081197, 2.0268272077922074, 3.445693623328616, 1.9301202141747147, 0.9443431374458874, 2.14285936482684, 3.148253387911255, 1.054393806998557, 2.978686954090909, 0.7917695427350432, 2.1068207438672437, 0.5938970105450108, 3.2270630643759017, 3.7404958622738365, 2.6292219314574314, 0.681817798090798, 1.9324415768398269, 2.3681216202380955, 1.6131801465201472, 1.0251131706349204, 4.986625467499989, 3.0068225772519157, 0.571335249000999, 3.03108513955267, 3.6297447344047606, 2.0362933922438677, 1.8945244572799413, 2.242042488167388, 0.644634581168831, 2.7766087792568546, 1.5410478623015882, 2.665578820876624, 1.5561925049278498, 2.65137407910867, 0.9976087803030302, 1.8032620311832626, 1.5008698847763349, 1.43073107936508, 3.1768096380230895, 2.585895844927849, 4.065001229317625, 1.93668638497114, 1.6042909693362197, 1.487592791956655, 2.061381509523809, 3.121642141970531, 1.1873241158896664, 2.6323950516600063, 1.4675830357142854, 2.4818591274891784, 3.3199899586652237, 0.7512066702741701, 2.0724941675324673, 1.176713943223443, 0.9058365649350653, 3.7983491167676773, 4.363927800912698, 2.22820692027417, 0.9588760515873015, 1.796642166305916, 1.6762756818181825, 2.5144367290764786, 2.0349005436785443, 0.8109241551226547, 1.3323027858080803, 0.744137963564213, 1.0656728874181378, 4.676404591269838, 2.1813454189466093, 1.0234066537337663, 1.4699573116883127, 1.5195250378787881, 3.313204543742369, 2.402271348286435, 4.1091274828030295, 5.000009999999989, 1.631781514430014, 2.8253229829365085, 3.006140977817461, 1.8086724639393943, 3.2199478339077587, 1.4897639116161614, 1.8453409000000005, 0.7255046925296925, 1.6107465064102555, 2.2739697998701285, 2.9088607008477636, 0.6032866212121211, 0.780414368686869, 3.2365551178571432, 1.689727136724386, 2.6401595704906207, 2.3654483997113998, 3.7429072171753246, 2.0600502710039965, 0.7979470625485626, 2.525175039238539, 1.552364113982685, 0.9709534437229437, 1.3722820898268402, 0.9354606029803533, 3.760026640620491, 1.1281708625541125, 3.08630196969697, 2.212231794871795, 1.5966141165223664, 1.2429559652014655, 1.2594511161616162, 3.14331701306166, 1.9121630616883127, 2.2329418437950936, 1.007312200937951, 0.9382345710678212, 1.6846200520263066, 3.5837577630586064, 1.0979570432900436, 2.52078214920635, 2.1793307917027405, 2.3481749880952383, 4.439832471482405, 1.582954857142857, 0.8977868812576313, 1.222046615440115, 0.9324139310966809, 0.5293259653957153, 1.561679547619047, 2.9431045980663786, 3.301250843148519, 1.6097502110389614, 2.3868672864357867, 2.1713849199800195, 1.5049729160561653, 0.7505740686258183, 3.6294135587698406, 2.5305105006660007, 1.0907342038239538, 0.6981982023809521, 3.2431252135317465, 1.4720294751082244, 3.589493999873736, 2.74872847099567, 1.1908762510822515, 0.7771298743867245, 1.4031979822510814, 0.6987301904761906, 1.7173180797258294, 2.712440239877345, 3.1560430530808077, 1.317486698873349, 0.5510989541847043, 1.2000298232323234, 1.6067938975468978, 1.4060132824819624, 1.9422080084848483, 3.1807563407936503, 1.4219069469696968, 2.8002519365079364, 1.3597470634920628, 3.5487255258910544, 2.6737213430735935, 1.5374439462481966, 2.4057740617063494, 1.4467759574314576, 1.27897471031746, 1.0219407225829729, 0.8627900385725382, 1.9622918749250748, 2.0021220252802756, 1.5590167521645022, 4.444193021810966, 0.676643736291486, 3.43700739284188, 3.3987631596867023, 1.6187259158730165, 2.508898633647186, 1.0775178888888892, 1.35929993001443, 1.1009044787157287, 0.5948110303030302, 3.50908879333472, 1.880723455266955, 0.7588219763358862, 1.0148902539682538, 1.9028026428571427, 1.2921314279581535, 2.249032041464646, 0.7837162157287159, 2.6179003226190476, 1.7145644588744586, 2.0381094112554106, 1.6069752413419907, 2.0455353469008783, 0.9472110115440114, 2.0540172487481962, 2.1920864150244195, 1.8950008671606167, 1.288272314574315, 2.5402539185814184, 2.541239823065823, 1.203567323953824, 3.679989944206351, 2.9296699646825397, 1.6092011469047622, 2.242672339416139, 1.4457955952380954, 1.281528073593074, 2.962056284444443, 2.333321037301586, 1.3364457760678212, 0.8366068062493061, 1.3359541854256853, 2.134031597474747, 1.137337234126984, 1.2011880833333335, 0.6854248582251078, 3.211529559379508, 1.4051406507936508, 1.5705972200577196, 1.5851911367243872, 2.491499052380953, 2.279848737301587, 0.921199393523144, 1.4483983879906206, 1.4459333197080695, 0.5920845808080807, 1.800997058910534, 2.066798101010101, 1.093149295343546, 1.1155101230158733, 1.740893401265401, 1.3987371833444338, 1.9321164424242414, 1.8138491250757576, 2.1257954444444453, 1.9547286771805972, 1.6316400465090461, 1.6804778106060605, 2.5141643432972582, 2.2265935541125534, 2.2402467995310245, 2.4776940439982242, 1.374483987734488, 1.0404467142857146, 2.034390273809524, 2.1098611699134198, 3.866302870663781, 0.7142039634920636, 1.8651629183594187, 2.5812751695804197, 2.4468835306637793, 1.2947644325396825, 3.5757991825824167, 1.5100427275502266, 1.7630710271572863, 2.702783190032468, 2.347367697936508, 3.19630348525974, 0.8320423526473527, 1.9067809105339102, 1.0287706865079367, 3.0636923272150085, 1.3129727896825394, 2.265189360714287, 4.353505115699023, 2.3330911648629153, 1.4506168964646462, 0.6683504143689641, 1.0824050152625149, 2.3164325151082243, 2.1852963982961486, 1.7705959426406936, 1.2302312153679658, 0.9731375895743145, 0.7292855569985567, 2.5087715227272733, 2.646266590007215, 1.3403954126984132, 3.8569733931493517, 3.226450141868133, 4.989535657142846, 1.3303950402930405, 0.836229410783661, 1.5947117723665227, 1.6671205216450216, 1.19292111991342, 4.1653571179329, 1.5950211569264077, 2.363993422910424, 1.8792986607281614, 2.1928169043179038, 2.804468138908315, 0.8790830967365967, 2.400097822510823, 3.7214859762445864, 1.140967647907648, 3.4496876896753266, 1.4891721515151517, 2.1852474087301585, 2.4979604141810956, 0.6593452148684651, 1.7974801309090904, 1.3998769321789317, 1.1057518730158729, 1.4014072236652249, 2.848824744108946, 1.3031092247474751, 0.8645262521645023, 1.140280775252525, 4.114668325595239, 0.6322242487789989, 2.0895053329004334, 4.2297883972222206, 2.245280856060605, 1.3677020202020205, 2.238827136002885, 2.2537575595238097, 1.5832180912698401, 1.5458233253968245, 0.7448553463203466, 0.6283486194083693, 2.0520914386724396, 1.620301895743146, 1.5555172824675325, 2.258726530457321, 0.7863647368326119, 1.5929221435786436, 1.2359408088023087, 1.4310169226190481, 1.4954257243867244, 3.29910940063492, 0.9452109725274725, 2.019550459595959, 3.431615200050506, 0.8824131150793648, 1.87051828948052, 3.4041740845013315, 1.1269257973845597, 1.4609791908369412, 1.4915342240259748, 3.480933118484847, 3.572563272045455, 2.6941676084054844, 3.3323239864790777, 1.544068293290043, 3.0687153827958156, 3.3131037621225996, 1.2527800158730162, 2.4542306565656573, 1.0329363320346325, 4.63968630380952, 1.7448476702741704, 2.9591860631313143, 3.0005968744733047, 2.0285583246753247, 2.8381237490842506, 1.700879992063492, 3.4737502767671216, 2.3444707410678207, 0.8457248769841267, 1.553083442424243, 1.7143645732323223, 2.185493559412809, 1.1349762471139966, 3.6004583330086586, 3.179127506918359, 3.231513611583693, 2.984186401645023, 2.5084580791303153, 2.418818469119769, 1.9520291163780668, 3.8771804102380933, 1.1465026154401152, 1.0163543717671215, 1.4666602398989896, 4.78204397757936, 3.22574142190476, 2.160452178571429, 3.1965282889713067, 2.2080961994841264, 1.6180483928571432, 2.6121000540293045, 1.7363567746753248, 1.2467646433843935, 1.5162895551948052, 1.1687846349206352, 2.5024558969363966, 1.1835880887445889, 3.3788222507936503, 4.930586735274716, 1.9352397063492066, 1.0455683185425684, 0.9496086587301587, 3.504635923225109, 1.852007433982684, 1.8707472182206681, 1.0899835357142857, 4.682398635624096, 2.488032553517316, 3.1700559678779556, 1.445521770923521, 2.1149841428266187, 1.1826780543345543, 1.513850117965368, 2.177166431255411, 2.2266363769746906, 1.2965233174603177, 0.8340863564213565, 3.2524453382106775, 2.3007945580974583, 1.8380576129148616, 0.8372539632034632, 1.6790092146464644, 1.2004304841269844, 1.6648033939393942, 0.7188914082029081, 2.115257627344878, 2.2094230582972583, 1.371073575396826, 1.3540705368797867, 1.7518074655899654, 0.930787014790765, 2.4758540562770563, 2.5775089511507936, 3.4372605689141413, 0.7247522490564989, 0.8812932492784991, 0.7212989524919524, 1.9970483455988468, 3.6693785403932186, 2.671253877972581, 1.4399527316017318, 4.999949957142847, 1.037276718614719, 2.3406645338827845, 1.453731492945943, 2.8523074020146515, 1.6119866230158737, 3.1130097252725064, 2.95876784611111, 2.8293587450396824, 3.0978801380952388, 2.7685434976695533, 1.161900579059829, 2.1034317669552665, 0.49046652300144283, 1.611840084415585, 1.6994237164502168, 2.7596035591486303, 2.7537154007034634, 1.3992219441391938, 2.3621904052059044, 0.9281893452380953, 1.0701201150793644, 3.113419751269841, 2.2371696489898985, 2.0130207795815296, 1.7220575645743157, 1.1111146702741705, 2.0266334886724393, 1.1170875557142854, 2.2400782342857144, 3.609419569682538, 2.3190468964646467, 2.486400848873349, 1.9858041612554103, 4.235280795836939, 1.8104960674603179, 2.259656373015872, 4.791326844945882, 1.9701276801587304, 2.4998749047619047, 4.158107847222219, 1.8988741254023753, 2.560612901381674, 1.527622368326118, 0.9862067783050285, 1.0257180494227993, 0.6683457359096459, 0.8743344722222227, 1.6654515601370852, 2.007135303751803, 3.697512192998667, 0.5048338762626262, 1.9196569084249089, 1.3062718388278391, 2.3481185674603173, 0.954628981962482, 2.419173082157287, 4.865575838846149, 1.3262266345598843, 1.1329093474025977, 2.382788878282828, 2.1804124559884555, 0.7842305306637808, 2.4372168198690205, 3.023747613921356, 1.9255456905844153, 1.427715763528138, 3.712728046407483, 0.9670470147907645, 1.9640429963924961, 1.31838988023088, 1.1934659222410915, 2.627055093177656, 2.2614375986652226, 1.1285052727633482, 1.8785995325507832, 2.328690684537685, 3.0000427235714295, 0.6055014440836942, 1.9340302460317458, 2.4905843908080803, 0.9848286334776337, 2.252946868109668, 2.3120320307575746, 1.1375887142496388, 2.1403445254112556, 1.6918849684523807, 1.8255824145021646, 1.0517143713924961, 3.218992201709403, 2.394311819082307, 1.5502072124819626, 3.9284559245310233, 3.9170412258333345, 1.7886010075396819, 1.3431280645743144, 3.9218045987060157, 1.226209612054612, 4.06188904449134, 0.999488675241425, 3.2541106561363637, 1.6989990082417574, 4.102549161296482, 0.6317140606060607, 1.9780521147186148, 2.3316133412698417, 2.1120994686147188, 1.3601147799422801, 0.9924518636363632, 1.6255033280885778, 1.2221235873015872, 2.5049494337409812, 4.975749818333323, 3.9318729224603186, 2.5318849801587304, 1.3154898730158733, 2.5401472103174596, 3.5013833722402605, 2.5629700218253983, 2.441638807287156, 2.7437350300252525, 2.1700472312753916, 2.6926383294372283, 2.541375096428572, 2.8773140596392506, 2.1712593152342103, 4.956369901190469, 2.4235675317460315, 1.9232334260461768, 1.5728619888167392, 1.6905673746031746, 3.4274842903354994, 1.853614657398157, 1.1503225227272729, 2.541646664862915, 1.4964267824675324, 1.387824736075036, 2.3600106348520935, 1.4694986428571435, 1.3509542906660008, 1.3250296904761911, 0.9818845476190475, 1.0868746226551225, 1.9916203371572863, 2.8115071547619057, 2.6789569933261195, 2.328102130952381, 1.0549503650793648, 1.6895656025641017, 1.892732964646465, 1.0592021984681983, 1.734411762626262, 1.4852111008158504, 1.5356365461760464, 2.7276899173082474, 1.4805883010878012, 0.8069276444083698, 0.6795006547619047, 2.123402257215007, 1.009302317155067, 2.2517998412698415, 1.874037576118326, 2.3108552263347764, 1.2215377613220115, 1.733835291111111, 4.095871578845599, 2.0203940051451332, 1.9043008994949489, 1.704584223304473, 1.5210692965367962, 1.634398554834055, 0.7593887929292934, 2.490537111111111, 1.298884017510268, 1.9504673586002892, 1.7716237463924969, 1.450861146825397, 1.7071918840048839, 1.3975719787157284, 2.2150909879842384, 4.013576935912699, 4.633602632075703, 2.3628592142857143, 1.935077975468976, 2.6834751155122674, 2.4255740251082254, 1.5395406202380952, 1.1338573474025975, 3.401793213095236, 0.9426804433910533, 1.2791734191919193, 1.7561443578643574, 0.642467244069264, 1.723835716089466, 1.1747389467476963, 1.0638047687590189, 2.3113944065656566, 2.1117950224206354, 1.0772819722777225, 1.7830254523809532, 4.1502782795093776, 1.0331215744255748, 2.19013522994228, 2.506220893362192, 2.322327814733044, 0.955605405233655, 0.8960253859307363, 2.1375875079820177, 2.8503781050396824, 1.8044430758730163, 1.6879148396048398, 1.2944654343434345, 1.8014593639971144, 4.78867712695526, 2.7956858775946274, 0.5200967274531025, 2.380626802225552, 0.8103953297258293, 1.6088772098457087, 0.8994506549839051, 3.2667348400210914, 1.5531272889610384, 3.882449984033188, 0.7444335067155065, 2.209849016911976, 4.066286682103174, 0.8320310822510824, 3.351604223552004, 1.8809956031746022, 2.477541565483405, 2.859534102666779, 2.209455359560995, 1.9645753690476195, 1.5507314150216458, 4.0400615189610365, 2.053567215873015, 1.8392764567876565, 0.8202778069985567, 2.0133998550893546, 1.450119118326119, 2.172514718001442, 4.675376549484123, 1.5568703113275613, 1.0586723388888888, 1.7056482653638028, 1.969958774170274, 0.7277810849783549, 1.1411321017316014, 0.75031890007215, 1.757736536075036, 3.4731553282251064, 3.593405876031192, 2.6717236631060617, 1.3730308152958153, 1.6867359637987016, 1.0827066608669111, 1.7823922772505272, 1.7124047662337651, 1.3734379383116886, 5.000009999999989, 1.9516059444444445, 1.8377379461760455, 1.9669073492063496, 1.8983353818681326, 3.1517985490079368, 0.9310290906870907, 4.767351491053389, 4.409268234613995, 1.3307514917027417, 2.031571402902653, 1.7301884166666668, 2.1647895025252524, 1.195492971230159, 1.545055418192919, 2.026302602164501, 1.729434678932179, 2.439901423656899, 1.8915658524531025, 0.6444124345931845, 1.7957004722222216, 2.4540108777472516, 1.1226941381673878, 1.55556596031746, 1.7755763103174598, 1.1859775357142857, 1.3001432037129534, 1.814044613636364, 1.6296093026695533, 1.9007850050505053, 1.4153102669552668, 3.3944690745454538, 2.047207720591631, 0.5165028131313131, 1.870861603199022, 2.1240745775613274, 1.8923732759740273, 0.9625502616594518, 2.3999197539682537, 2.877117595396825, 1.97044077020202, 2.0193897936507956, 2.50624840012987, 2.967360489855699, 1.991068614357865, 3.8424033103113557, 5.000009999999989, 2.4074918943001453, 3.985157644029583, 1.7485037335137081, 1.3341803419913416, 3.001440173276886, 1.2181770936285938, 0.6373069502317129, 1.202364138167388, 1.7782745325230325, 2.3702993850793646, 1.7232605584415586, 1.3795293624431124, 1.7699837406204915, 4.725032434191915, 2.9764621349206357, 1.4146613809523811, 1.2226059252136752, 0.7350524855699857, 3.605383045631315, 3.008794044490232, 2.78932963541847, 4.999549949999989, 3.7101778302633464, 1.8968100825396825, 2.9756090422979806, 1.719970044011543, 2.040490227272728, 3.767297298531746, 2.072128268037518, 1.794089676573427, 2.306707128260629, 1.7230690952380954, 0.6844495436507936, 1.5068218838383844, 3.250443428755412, 1.875626161976912, 1.163874321428571, 1.8910386305916307, 0.920450375223665, 1.0138074289599288, 1.6954345515873022, 1.7825720883838383, 1.636831968475968, 1.2653164535353538, 2.1758507813852805, 2.872947725768398, 3.6241545371348094, 4.446056063333329, 1.8208208040404037, 2.8639642948773445, 2.2038347575108226, 2.230131781746031, 4.999922437499989, 1.8427745226640027, 2.459290628134921, 2.037656107647907, 1.1177258946608943, 1.4375670967532463, 2.2187212487234986, 3.903548511955267, 1.8523980165945166, 0.714453012265512, 3.477774144357864, 1.7431313419913417, 2.0109388279853477, 1.632343955988456, 2.1115756717171723, 2.26361457972583, 1.9274126309523822, 2.4084979766067267, 1.7542813174603176, 3.160253939792037, 1.647786367243867, 2.815890332597403, 2.6944406830391823, 1.6395355332212227, 2.5209588679653687, 0.7983575916305916, 1.6826163476245979, 2.145838431457432, 1.6451319783827278, 1.2194130905483405, 2.7104790303030306, 1.5469568744588753, 2.0098065775613274, 1.4434120704545454, 1.3580845000000001, 2.1569700945165953, 1.5869302128427127, 1.1749055988455985, 2.195477032023532, 2.2045690934343436, 2.4608354015750917, 2.8332886520634912, 0.9397169819624822, 1.8963848818403815, 1.9643872344877342, 1.8841469007936507, 0.6834794660894662, 1.5545856002886007, 2.972616253838383, 3.3726300029220795, 1.244586985930736, 2.182919647301588, 2.203388799125319, 2.4159068368795102, 1.1857158237873238, 1.561608470418471, 1.2538482549117551, 0.8929692987012987, 1.803412715728716, 1.9959848953823953, 0.6926541559290383, 1.4488323626984123, 1.0709642261904764, 2.3590045466233764, 3.9931331157972574, 1.3084784206349207, 1.5841983293650792, 2.4672806928932185, 1.0914823726551226, 2.090166355089356, 3.1081063676046172, 1.4580553055555552, 1.4852735386557883, 2.9614129668614715, 0.9011110097402601, 4.98839016749999, 3.965599592167276, 1.0288798896103897, 1.4168123095238092, 0.7214007803030303, 1.0172552153679655, 1.3309092478354985, 2.622783010043291, 4.693656277579362, 1.134430743756244, 1.30593798015873, 2.55373367094017, 1.2281434157287159, 2.307837998556999, 0.8174562979797977, 2.8134603038383834, 2.569226766785714, 2.078963745772283, 1.7492244652014646, 2.4188031329797983, 0.8338982781385282, 2.133599075396825, 2.6774643625721497, 1.4909160616883121, 0.9124696969696973, 1.6350511365856366, 1.3818892626262629, 1.489484013625264, 1.2184443870851371, 2.1990365494227997, 2.626496642034632, 0.9076442331529584, 4.5084561482142815, 1.7964514675324674, 0.6023274395604398, 1.619914832833834, 3.1196661619264057, 1.3871101062271058, 4.8376442509523745, 3.7953413258585873, 4.999689974999989, 1.7186133888888893, 2.3741987070707067, 3.085357217251638, 1.2309597467532467, 1.4988364343434346, 3.4211147707359304, 1.1477145714285717, 1.3460592474747477, 3.1404714228574204, 3.4941062449975018, 1.5036618851703856, 3.5795123439826853, 3.116098579427239, 1.9477703867243874, 3.062070314390331, 1.7395844000721508, 2.9766333740981237, 1.407773215229215, 0.8572211107503606, 0.726822511183261, 2.7859490046950284, 2.2670036810966803, 1.2647770180375177, 3.4915846357936506, 2.0582242932900434, 1.8827955833333327, 3.9486635097230542, 1.852226334776334, 1.0425179584304587, 1.3508097817460316, 2.384165868073593, 2.0897121843378854, 2.126783593073593, 1.6771534823232321, 3.3989949410714284, 2.014864204906205, 1.0368326833721837, 2.1597542857142864, 2.7679852256854263, 1.919449384920635, 2.4237119179365076, 2.692254678787878, 1.018171271284271, 1.4818620048840043, 1.386886537518038, 2.6559274444444454, 1.3936918345043847, 2.6006464511904763, 2.5803907097041843, 0.6871040396825399, 1.9383378924963932, 3.285882506940839, 3.880593144945889, 0.9758511994949498, 2.331278902756132, 2.5900910562770565, 4.277590971904761, 1.2436914518537021, 4.2320565089105315, 0.5091832619047619, 1.2513507539682538, 2.1085041190476193, 4.138415680468972, 1.2050423390775893, 1.4878504795815295, 2.706006987777777, 4.87891798663919, 1.0702860061327568, 3.664236229264068, 1.6549377091797088, 2.4089531071428567, 2.4117000202020207, 0.5426928974358973, 1.11794879967255, 1.1727144209679206, 3.6411951563275595, 1.417052687229437, 2.417430031363082, 1.1051415396825395, 2.7322086753246753, 1.5250586879509367, 2.276699576118326, 1.6445765840548336, 1.9838682722222227, 1.095454953823954, 0.8077419220779223, 2.647637743811743, 2.576082028249528, 1.271068950937951, 1.9033581948051943, 1.8016215000000002, 1.9637555804242988, 1.651217444444445, 1.318226882756133, 2.7744503794191915, 1.3005526017316016, 1.5649185389610387, 3.030605390396827, 1.4791216814574315, 3.302288207911256, 2.352719269272116, 1.6810586240259746, 1.5995361883116883, 3.176802604242979, 2.0801518460317463, 2.3989333662698415, 0.7125813662726164, 2.8477931839285713, 2.7573826597763347, 1.989912752337663, 2.6887282500000014, 2.3834929015151527, 1.6911032038239546, 1.8370067214452215, 1.8965248221500732, 1.5888514490909091, 1.9497059603174598, 0.5253421085858586, 3.429113681526252, 3.8561232855158702, 1.2451325634920634, 1.1571494231601733, 1.6599792979797985, 2.463442402874902, 0.986366550865801, 0.9166066233766239, 0.9318934862914859, 2.0218953174603174, 3.2860487149278494, 1.6049340108502603, 2.8774123869408363, 2.63188521531746, 1.6917467658730154, 1.9367358065079372, 2.231551721239872, 1.0501081634199136, 2.6144400516516813, 0.5023894240620492, 2.5370037285714284, 0.8567298055555557, 0.49669784217171725, 2.715369346168832, 2.1890944456709955, 0.6321495627705626, 2.7121750241508487, 2.203812501587301, 1.8040318458333329, 4.489411326399709, 0.6724836150793654, 1.4161615844155846, 3.8446632697799434, 2.831712161782661, 1.2234016525974025, 1.4136761064213557, 0.9072071159396161, 1.5876932811355309, 1.5176578242035743, 2.066938269913419, 1.3174355840548342, 1.2481768928571426, 2.597726835461758, 0.7565492661327563, 1.3325619137806635, 2.1881478707215014, 3.6196151272619064, 2.604641574365078, 2.388348441630592, 1.8900923676046175, 2.268590056309524, 2.219132865079366, 2.716513497106781, 1.031632959401709, 2.5353235634307363, 1.1417685080591633, 1.2531915447330446, 0.8999271439116441, 1.3283646078643572, 1.9696521291486297, 1.0046406922244422, 1.9837725429292936, 1.162781120851371, 3.0552586023809507, 2.528618062240537, 1.6626200869408359, 2.6558261597763346, 4.6779333507647864, 1.4095584715562208, 4.667545346468249, 1.640878634920635, 1.8830618483782888, 1.6589070555555556, 1.526819315565546, 1.275015150623886, 2.495208334776335, 0.6626323119047618, 1.3930605371572875, 3.0553171778571437, 2.3904095794516595, 1.8463759920634915, 0.7419732784992784, 1.0384977853535355, 2.4697907791375293, 2.638114034776335, 2.6259901551010096, 1.7245351237373743, 4.805131157904036, 1.7347504978354973, 0.8085601976911972, 1.1154158563492058, 0.69809022025974, 1.5420888391053393, 3.218783958253968, 1.8243250826118322, 2.3516625004995, 1.1884210180375185, 1.831918375097125, 1.8814613874458874, 1.8494678238705748, 1.3928732063492066, 0.5506382623210125, 3.7666189458333337, 4.576978153722939, 2.7158053179942288, 3.2201574287229437, 2.2932511888888896, 1.309351732683983, 1.2702892088744595, 0.7668652200577202, 1.9021772667388168, 1.2570735277777774, 2.447740222655121, 2.0635314917027414, 0.8915790873015871, 1.8039057988455987, 2.5919250670995666, 4.652213475753964, 1.0251019012376517, 1.3861625104617608, 1.0319984084804084, 0.9755519127128429, 1.5108046168831166, 1.8678454184704179, 1.6211069841269838, 1.4076445587592972, 0.830595553030303, 2.000031046334775, 1.4882391338383834, 3.1504460855699854, 1.3557211277056276, 1.6146147839105338, 3.7552045542460326, 1.639520393578644, 1.169412862914863, 0.8407229094516593, 1.854301115523366, 4.188046053964646, 2.0579645214896214, 1.451711748917748, 1.468309742063492, 1.4612898253968263, 1.742753459595959, 3.034501033150184, 1.9583421590909103, 1.333523147878788, 4.491284237586579, 1.9899807173160178, 1.3569858336940837, 2.422479272680098, 2.9723823391089454, 1.9999636053391052, 0.8357267017149513, 1.4834190215895218, 1.7767283253968251, 2.6410827255339115, 1.405552441919192, 2.2937700949494944, 3.794739788893052, 2.7029704804176373, 1.5406892261904763, 3.273939694682541, 0.8277083582251084, 1.484578266233767, 1.0730161746031748, 2.013288406492396, 3.6595347558549793, 1.8428871981529584, 1.3970959062049066, 2.4867212893290045, 2.6055317418831168, 1.0006924715007217, 4.810222037499991, 4.847517355735923, 0.5983380934343433, 3.0514487377489172, 2.304004012987013, 2.035712895916306, 1.5768131118650797, 2.9816757373015874, 4.003955931334773, 2.7504393252958157, 1.0508411839826837, 2.002743448412698, 2.129839365689866, 1.9648877002164502, 1.1606121040903539, 1.460332376984127, 1.5611278534920638, 2.77028473452381, 2.191668173005051, 2.9599953051046186, 1.5409914725829725, 2.883123826836219, 2.445651615057721, 1.490646195887446, 2.4039812666977465, 1.4835500644078146, 4.827465045425679, 1.9301428625541124, 2.9903347689285704, 1.5615406557331557, 3.143347744081473, 1.0363427925685427, 4.799885488690469, 1.3341803813131314, 2.0727365068542567, 3.3299589626839836, 3.4341200382431465, 0.526213062770563, 3.763375568015873, 2.457826270829725, 1.8179887887667892, 2.0698798676046173, 1.538360897405372, 0.7819745472582973, 1.0773818389388388, 3.6092035385912693, 1.1389319567099572, 4.399589717622098, 3.951184921735209, 2.064412252802752, 1.9543928863636355, 2.1684733119191906, 1.3164425912698412, 1.5665663701298704, 1.781170075757576, 1.189070217893218, 3.9990445032106776, 1.5471513730158721, 1.5686112209595953, 1.1568352211399706, 1.2822487029637029, 1.4755888631646135, 1.5296870805305804, 1.0038653113275615, 3.461667474541016, 1.7939501317848816, 3.5564196243650814, 1.6227329592352095, 3.986319287658729, 1.0738745082972583, 2.7988674567099583, 2.4556068555555557, 2.7135977479131985, 2.8316797387204473, 0.9952162388167385, 1.6526425905483404, 1.6747578416305913, 1.5357258495670996, 2.8551505686147194, 1.3444527304834053, 1.897709945887446, 0.5098416522366521, 1.4358024611471862, 1.0183028589466092, 2.523287802114553, 1.254116690836941, 1.1779919253246756, 1.7783819612887117, 2.8054989223809526, 0.7794631287878788, 2.5615366587301587, 1.9124586976911977, 3.255618364068155, 1.5247910738705748, 1.2866126626984131, 1.7711873780663774, 2.413996932178932, 0.8640432905982905, 2.5400423797258282, 3.2642729020346333, 3.6704598270851365, 1.6573666002886, 1.3648555126984128, 1.0947453762348758, 2.273395682539684, 2.7066452345598844, 1.7415680238095232, 0.9743648759018759, 1.4534756523809522, 1.4317989195093797, 1.3391650259740262, 2.0144560364357873, 1.7131788950216458, 1.7105562737301585, 2.6375349021811525, 0.7445988526515154, 2.228146854920635, 3.3540463531396387, 1.4637260728715733, 1.527253408730159, 4.37361904234127, 1.6304846422222206, 0.5469292607947608, 4.833507409722213, 1.96778940007215, 1.2848855227272729, 2.365374645634921, 2.59162031484127, 1.9360585315656564, 2.1912874642857143, 4.887542677420629, 1.1658898488455984, 1.9186717839105347, 2.0042760165945164, 1.0051226190476188, 1.757912169108669, 1.1575267667610172, 2.523839800995671, 1.0969996117216119, 1.2065028785103784, 1.7825040133477623, 2.015858363023088, 1.2321089404761907, 3.088137555158728, 3.081445263665225, 2.9424007480555563, 1.9981298849206348, 3.430058475209235, 1.634503329761904, 1.8070917254689758, 3.2191702021789323, 1.8947889376984128, 3.9915797730555567, 4.580875964456654, 2.0433467662337663, 4.749798663650786, 1.4659068965223665, 1.0400378510101012, 4.262736310119047, 2.2224800165945164, 1.645470083333334, 4.566880525277776, 1.8656447514430012, 3.983361864574316, 2.927233885970418, 1.5133493607503608, 2.1158599855699864, 1.3444623950216452, 2.1470144004329, 0.8575323336940838, 1.0696055501442996, 2.1322432857142855, 1.6889511807359312, 1.8034426991341987, 1.8744484611291476, 3.1591855131024533, 2.3811950407647906, 0.5896137182539682, 1.0145970793650796, 1.8965597115151513, 2.056583241341991, 1.500821088383838, 3.04645689617244, 1.370746205266956, 1.6910021484848485, 0.5189322777777778, 3.5042277750396824, 2.410963855642137, 0.774509841269841, 1.197396417388167, 4.867752425396818, 0.6133006388888887, 3.783306884101731, 2.4138099228174594, 2.480925013200688, 4.105406292629869, 0.7568396260128759, 2.3398280841353096, 1.541270806998557, 2.4845223174603177, 1.8975986608669109, 2.2431828302808303, 0.922109416666667, 1.1606951587301586, 3.9195475395490633, 2.2937475509768013, 1.7594023237484735, 1.5477620147907647, 1.8476978699328444, 1.620649461760462, 1.6020881475468978, 1.258822785769786, 0.9127891450216454, 1.8784809801587299, 0.8337906865079368, 1.2619296208513708, 2.891247282460318, 0.9313771085858582, 2.5239123119769116, 1.343428769064269, 1.4386311230158733, 1.4413098427128426, 0.7405623683261185, 3.534723704971139, 1.3441500873015872, 2.0190881689449456, 3.8754779442063487, 2.397817212229438, 0.8145221298556996, 3.3962741688156304, 3.3116333368026414, 1.588391089466089, 1.518202012987013, 1.765627983766233, 2.9100670148515366, 2.60662920111111, 2.083218686507937, 2.4943714188311685, 1.4966132442279936, 1.6061473099206354, 2.0348367036075037, 2.5945934080230875, 1.9645985286102785, 2.298141158730159, 2.546440168531746, 1.0944810165945165, 1.0532128831168834, 3.693747765404041, 1.5978423611111108, 1.7291399404761905, 4.986109334999989, 3.459050313003941, 1.0680333113997111, 1.2227188371753253, 1.443359706349206, 1.5000451875901877, 2.179599325396825, 1.8322348268148512, 1.286313900152625, 1.9204800710678205, 1.3721532564935064, 3.1847432102777775, 2.0918309123665235, 2.0888364505217, 0.6860738602453103, 2.424508021645021, 1.385545793761794, 1.4966194365079366, 2.80382078073593, 1.4238129024309023, 2.5951309177333775, 0.592341662864913, 2.103372699242424, 1.3447487142857142, 1.466242835497836, 2.6636077698412692, 1.4467125744588742, 2.8602423828682424, 1.3796881717171714, 2.949033403849205, 3.549469206507936, 2.8995230101659444, 0.5312815277500279, 3.6120065596825413, 3.366461816306471, 3.4310052364826835, 2.0635989520202016, 1.7619215472582974, 2.2621500285714276, 1.2614361190476193, 2.411873908369409, 2.0352433334776334, 3.1528758850793657, 0.6749954054834053, 0.5859752577533578, 0.9526897997557999, 1.9147614098124104, 0.5989733690476189, 2.872745815833334, 1.975862253968254, 2.054617968253968, 2.8085462401984125, 3.805236212752525, 2.0005819052669556, 1.1920670284992783, 3.183978690732878, 1.0271469874847374, 1.3032126186868689, 0.569469076007326, 1.6349848102453097, 1.7625243948828941, 2.916368171916694, 1.626608934704185, 0.9872211969141966, 3.5851560017063493, 2.959917146031746, 1.379707217171717, 3.541800854452492, 1.8513089837662335, 4.325031943718778, 4.776327966486283, 2.853808106511545, 3.277474965674605, 2.0977927773304477, 2.368587817626817, 0.8764462597402598, 1.8780356367243858, 2.819770910173159, 1.7679298243145747, 2.1484768625541126, 1.7751487976190479, 2.238829587662338, 2.2683346341486295, 1.2099193674983348, 1.1782761843253966, 1.1133311238816739, 0.7758229048729048, 1.0345272216117218, 2.2783163600288607, 1.2764204426406927, 1.6946171666666654, 2.3053040212842704, 4.22272557284632, 0.701233347041847, 1.109186070485071, 4.126156351187143, 0.7059768175435674, 1.05144675013875, 2.4255151644993895, 3.759749094375901, 2.884095123694085, 1.7910140429292931, 0.7088553701853705, 2.0601504730519484, 1.6361900582215005, 1.8585297930125426, 2.240279404639805, 1.3449387630147631, 3.1611854712373746, 3.5263033290872996, 1.5916004296681097, 2.47516770021645, 2.025808388888889, 2.833813438877789, 3.3988242037409804, 1.5100027350149845, 2.704302325793651, 0.7105567229437226, 2.2754657141208794, 2.376519505508657, 3.5671642849206346, 1.4279942587662342, 1.8359026031746026, 3.539982491132756, 3.6879616717532473, 2.161142127878788, 1.102718215367966, 4.931318184642852, 0.8648022121212126, 1.6452847424242423, 0.5905838531746032, 3.1333306949206365, 3.72577486, 2.312094709621212, 1.4469332222222218, 2.3789189194128086, 1.6826126447655119, 1.615693321428571, 0.8864012222222227, 2.295318656331169, 2.6395035365079385, 0.8487401212121212, 0.9912008232323238, 3.456758185518927, 5.000009999999989, 1.1440684105339105, 2.2217353088023084, 4.980128985714276, 2.3451149940836937, 3.573172683845597, 2.032741487330447, 1.5268543531746033, 1.3821293167388164, 3.5004584060317443, 1.5291803228160734, 0.7984703743478745, 0.8893103585858588, 3.0175387518073595, 2.0232290256132752, 2.721156202142858, 0.9933826803751803, 2.5013840659340656, 2.2826753860028863, 0.8387387341269842, 3.526544481727994, 1.6887526966089466, 2.3022658699633696, 3.1938985799927844, 2.0207945139682533, 0.983858897907648, 4.10276763356782, 0.9323028687423691, 4.004654281197691, 4.712384829880953, 0.5950003781496279, 4.610376571576475, 2.1620063771428573, 2.6620541474791874, 1.616584140692641, 3.1699063534598726, 1.7620137023809526, 2.4009874007936514, 1.5614296349206354, 3.1827683415007226, 1.1893881850649353, 2.8749769823210136, 2.8492167624963924, 1.2516138730158726, 3.9951600286474633, 0.9264534080086583, 2.1408855584415587, 1.4588288481240983, 3.048546190823621, 1.2701879776334781, 1.824370844877345, 1.6922176168831158, 3.7744781896031725, 2.0551677402597406, 1.2549084047619046, 2.962010359118104, 1.8192082615440097, 2.0898996259199136, 2.864551546906427, 1.199909997835498, 1.558895990079365, 1.7085200591630596, 2.0594126488600297, 2.223752515151516, 3.1229585470562777, 2.738197904626486, 1.3903711690476188, 1.6902238437395938, 0.9821556544011546, 1.7395392063492054, 1.5678110840548343, 1.4893661085858592, 3.903891884657286, 0.7652610955988454, 3.6570190720634916, 1.9459007712842706, 1.270502084249085, 1.9222611876623381, 1.5541247989371738, 1.128561778138528, 2.3240402583139086, 2.595149551587302, 0.701415167277167, 4.96935929999999, 1.8156003618326122, 1.3628695689033188, 1.2576896389749144, 2.3246487114718617, 3.032961025090188, 0.7813360979853479, 2.673575939087302, 2.492443952409812, 1.4116824101731604, 0.8204785822510822, 2.6661757955627707, 2.837497017696192, 1.7453222626262628, 3.806711297651515, 1.5417810656565658, 1.581024915223665, 1.209628784493284, 2.2463236031313127, 1.136731178571428, 1.5437547225274728, 1.6892384664502165, 2.229322984848485, 0.8105594101731604, 0.5574903770673771, 1.7656704166666666, 0.9352380810300817, 1.0233044567932068, 1.3612953686868692, 1.5106119404761913, 1.714480246031746, 1.1079242041569544, 0.4893759613025863, 0.9584008668831165, 1.5990507489177488, 1.3303602579365077, 2.637701073827561, 2.068699669191919, 1.0529932485569986, 2.075528996911977, 2.0509993167124536, 1.9114090551948044, 2.4641277205230883, 1.6329611129148622, 1.7514851327561325, 1.2527755533910534, 2.1795196014862914, 2.3887395602453108, 1.9626652063492065, 1.6584958899711402, 1.938615677448107, 1.4517542422510823, 1.423972882034632, 1.5509620257936512, 1.0316077402597406, 0.6206833458208457, 2.563210014346764, 4.036840692857143, 1.4521547790404048, 1.5429050551948054, 1.8486489012409808, 1.819960878968254, 2.8792550859618156, 1.5287441659451662, 4.99958747499999, 2.498563136141637, 2.4758477225829734, 2.300109837409812, 2.6374457267343763, 1.646201158073593, 1.6806718470418465, 1.2314403549783548, 3.575098664246031, 1.4602219715007212, 2.041069861471861, 2.3539978847330443, 3.5225849147510813, 2.263871753852813, 0.6696738975468972, 1.7492239646464645, 2.2494271304989453, 1.5471526809856817, 3.4995656788109106, 0.8709778455988457, 1.0596237518037512, 1.6470290363247866, 1.5785643722943723, 1.4889073452380943, 1.511047287740037, 3.9876985973845596, 3.804366620468976, 3.818811391746031, 3.3995409223232325, 4.971372974999991, 4.519643452596568, 1.7749655418470416, 0.5448189314574315, 2.0939941702741702, 2.8917275257720068, 1.357171737734487, 2.9566514458333324, 1.4691966338383837, 3.0641169349206354, 1.8699575522255527, 1.328695608744589, 1.2577595119047615, 2.0821647982142846, 2.3040219944777443, 1.6099184931457433, 2.099037019105338, 2.245402417893218, 1.2389792204184702, 0.8393125952380952, 1.827297427849927, 3.8582383058730145, 2.022948826007327, 3.3400003270879126, 1.3613769574314576, 2.0278659726334767, 2.0032250367965374, 1.0868409112554114, 2.2601781424963927, 0.7265207011183263, 2.161170990259739, 1.264664275613276, 0.5369153859751361, 1.1210025073260077, 3.3374463233089138, 1.3525524743867245, 1.3509711267388167, 2.2612297051587302, 1.6341344415584413, 1.8449866031746038, 1.1698280833333337, 3.17302374411977, 1.9679392175602177, 1.8885865522893779, 3.4132625455230867, 0.7479135808080807, 1.8108827824675329, 2.2800871940836944, 0.9876323016594519, 1.870185189754691, 3.0250198544660885, 1.437729666305916, 2.5039744801587305, 1.1968906514041517, 2.421730585281385, 1.9055345162337658, 1.1594885476190475, 3.5535131821572876, 2.5293942790764787, 0.7712926401551228, 1.7811839797979798, 0.9915794953102456, 1.0648522026862028, 1.9547055898268406, 3.496107581323955, 1.126129185714286, 2.794325235584415, 1.7516584789932288, 5.000009999999989, 2.06503686976912, 0.8826584617604621, 2.4037197431457433, 3.1788103966233763, 0.9440889670329669, 1.1712447702020206, 0.7934398979076478, 0.5898266966089468, 2.4830758704906204, 2.0770845667388174, 3.4295079359127003, 1.5376840685425686, 2.8754717176587303, 2.2348219646464647, 2.450063161111111, 3.041995619047618, 1.7769351403318903, 1.1122320873015874, 1.3201263516483512, 1.830437228306138, 1.5703634325396834, 0.9979097976190472, 1.0580972686202683, 1.6728720478021986, 0.6117122000396827, 2.447939292929293, 0.8557517738095242, 1.682011372294373, 3.2306129523015863, 2.8338392809487725, 0.6504012294372293, 1.258421257936507, 1.7720910751443009, 1.1092757619047617, 3.0554103756349207, 4.005890366839825, 2.174948555194805, 0.8155486410533911, 2.5009330962481964, 1.0674080396825398, 0.9624021666666664, 2.640930321428572, 2.271745558549784, 1.103557882337662, 1.4716052142857148, 1.6429070357936515, 1.5919989018759022, 3.8522096397835504, 1.6472926452020207, 1.1690076161616165, 1.4794037857142857, 1.9862020119047616, 1.6339414235209242, 3.811258616897548, 1.6131277812742812, 1.0969177853535357, 0.8613184857087357, 2.3418685962898214, 4.066228993174599, 2.275968796536796, 1.1058600811688313, 3.634533041735208, 1.1139679848484847, 3.082750532573261, 2.996341192341269, 1.9157633762626265, 3.8002962243642457, 2.6320034343434338, 0.8478619821567323, 2.829248445295816, 1.4570781868686873, 1.9809274975357973, 1.1082988513708514, 2.8752633960389615, 0.7089164722222221, 2.496972161647241, 3.1474283649406147, 0.6710990351037849, 1.933841096262072, 0.8393144512987014, 2.2205331634920635, 1.308512860750361, 2.863089458373015, 1.169572444338994, 2.3762129036796527, 1.4670928694083691, 3.4139864851515154, 1.2731538008658012, 1.0322957182539678, 1.3715480873015868, 2.0702100092496383, 1.5177760406709953, 0.6059674603174602, 1.7739331933621936, 1.9004414132034628, 1.7756870479076485, 2.2095769660137083, 2.4147955252525257, 2.4353592579545453, 1.367718358225108, 2.53600237234238, 1.7242070472582973, 3.068256866857866, 1.0782350321067826, 0.8187139007936508, 2.3366241878996012, 0.7685552225541125, 3.0975621610317456, 1.4286091065079365, 1.6960990010822514, 1.0414724754689757, 1.9278272384559885, 3.5125047344841267, 1.6542121219336219, 1.1445480039682538, 4.479157693095236, 3.405512941018149, 2.1875632976190484, 0.7256200649350647, 1.6201539929942284, 3.572517610702076, 4.2023922230158695, 0.6899745202020198, 3.8195726320382404, 2.5601039637229444, 1.5732378470418467, 1.8510634668215127, 0.8618253535950157, 1.682302317063492, 2.336319262698413, 3.7632582262698424, 1.424787074603175, 0.5939550667388167, 1.3812538629148634, 2.8341747388095233, 2.1872164970707066, 0.6533570782828281, 1.4028837988400493, 2.5655909931457437, 1.1086704296536796, 2.054932142857142, 0.6460095919913422, 1.1424599852092354, 2.231833157647907, 3.412827314787157, 1.2296765904373403, 1.5926967774170273, 0.8499060501298702, 2.3554147019092015, 2.9830553593434352, 1.151066010786436, 2.1023124498557, 2.3293034391774894, 1.4644979215151517, 2.4346261666666664, 1.4861237218614716, 2.411126574199134, 1.7238512896825393, 1.6644094650072159, 1.4068521947496948, 2.0073122843795095, 1.922511231962482, 1.8197863905844158, 2.1543038319985564, 3.3287124778049737, 3.409171997770564, 1.75790086904762, 2.4349409007936504, 2.3022269419191925, 4.305221750158729, 2.1655970082700633, 2.442770774603175, 0.6185110003330004, 1.8478084130591637, 1.7443823124098135, 1.2392698838383842, 1.5208569908702407, 2.1339317313852817, 1.4944795209235207, 3.278504200137085, 2.1537149134199147, 2.383530268759019, 1.5167665952380947, 1.5727399042901544, 4.838148316666657, 2.5946441204906203, 2.334783502164502, 2.1276846581751596, 1.7988313412698416, 2.2078497958152967, 1.3711603282828284, 3.424364936825397, 3.1637949949567092, 1.506515503968255, 3.6395103872943726, 1.9237389147041843, 1.5678063253968255, 3.742780257723665, 2.6921876457819955, 1.4744610274170271, 0.8395518625541127, 2.9157350966378073, 2.8183769499783557, 3.444392168351371, 0.9669312067890439, 2.033203137085137, 1.4297609276556775, 1.4770391847041844, 1.4188744347041848, 0.6240033387445887, 1.4148350598845603, 2.932857518924964, 1.7444758650793646, 2.0872574742479726, 1.115663725552226, 1.9824127272727259, 2.627590071067821, 1.6220655665367965, 1.768096533549783, 2.4382557190115435, 0.7435137301892552, 1.4850760230880224, 1.9840318168650801, 3.9046303223412697, 1.7219473924963933, 2.0477114942099566, 3.45042816569264, 1.7558402497619048, 1.3001178809523806, 2.0045424759962263, 2.795864723665224, 3.5755714548629167, 2.154915943046675, 1.4936237788600286, 1.251932320346321, 2.9001469185569992, 3.0670094789682536, 4.306327405277777, 1.8262015768398272, 1.856167916666667, 0.8585391719391722, 1.3596857049062052, 2.6941595155122657, 1.904447585497835, 2.696215532265512, 3.359603573097458, 2.3313899628427124, 0.7333276212676215, 1.8507927106782107, 1.2104598733211236, 2.9910740721428573, 1.6928791688311693, 1.1055810445165946, 2.39331601950827, 0.7535760894660897, 1.8955941071428573, 2.098239538672439, 3.1962094899375626, 3.6222373229548213, 2.2429004374531023, 1.2945488701298695, 3.177609818744035, 1.2657045485569987, 2.1942421388888884, 1.2484452774170272, 1.6292786471861473, 1.09909074025974, 3.7298596492352103, 0.7078125775613278, 1.214279056873127, 2.3464910851370857, 2.278517145598846, 1.9789566594516597, 2.3091544880591646, 3.934849729971417, 2.28215195959596, 0.8109369762912089, 2.6032850456709964, 1.1183251847041853, 0.5170304300144299, 1.9933077932900434, 0.7198543346653343, 3.2384546249639254, 1.9144151812076817, 2.802989560317461, 2.0540346619047622, 0.896203727633478, 0.893959207070707, 1.4913748571428567, 1.3025994700577204, 2.0045901025180375, 1.4448311392496394, 0.8312928297258299, 2.0428147000865806, 0.6966795000000002, 1.917022319347319, 1.6681451835664334, 1.700585250000001, 0.8641347088744584, 1.7217323222222225, 1.17327561016761, 1.8803666748251744, 0.9171801031746035, 1.5137681080586083, 2.4754370919913424, 2.782559623015873, 2.2477747309523806, 1.4735667647907644, 2.3137692680375173, 3.3761810278174598, 0.9606204512987013, 1.4818245873015876, 1.5844281349206337, 2.8330650857539683, 1.9456181192063484, 1.1345807175047178, 1.0489661320346317, 1.6716265202020204, 1.91603625915751, 0.7564687027417025, 1.45972565007215, 2.569980794733045, 1.7718011930014423, 1.7688312950937948, 1.54779156987457, 1.9075977976190475, 1.7456785472582976, 2.088811346349205, 1.1823241471861472, 1.7641202010489516, 2.2155876468253966, 1.3044925169552664, 1.7970707839105335, 3.987428894433622, 1.420823027777778, 0.8843485555555556, 2.546210892100122, 4.053787627373738, 1.1876745522255518, 1.0596645356587853, 1.8829530988455994, 2.716532296814297, 1.019307228188478, 1.5198748134920637, 4.5487358314682504, 1.088862264430014, 3.8913967479653695, 1.1702686976911978, 1.1801616295093798, 1.969807717489178, 4.166151002029913, 4.98011797499999, 2.8985153978671314, 1.1276790411255408, 2.138261624603175, 1.213591244505494, 1.7436472514430015, 1.9065117815440125, 1.6826265652958154, 1.613975876984127, 0.7679492028527025, 1.7396818318903322, 2.505229942279942, 0.9827646323953825, 4.553090104715007, 1.5065086976911979, 2.30080770904096, 1.1964358751803759, 1.503248956959706, 2.0561082026479083, 0.6871142698912197, 1.5493238055555556, 0.5721173531746031, 2.5219181331168823, 3.8262043850613265, 3.8198268321789333, 2.7295377042679547, 0.7791362051282051, 3.5942626729731377, 0.7034876688311685, 0.6155710483405484, 1.5392227884615384, 0.8321904722222229, 1.1708238900821402, 0.6767885187590186, 1.1117776295093793, 2.4969112499999992, 2.012230922582974, 2.5183253543109667, 1.9378129437229439, 0.8517319520202018, 3.2257160193362187, 0.9130612821622822, 2.092759545815295, 0.898231483405483, 2.7706709660786455, 2.8467315361616166, 1.3349376391053394, 0.7129359411976911, 1.3310858813131317, 1.186998319264069, 1.839323266594516, 2.8696587327561325, 2.8745717724242428, 1.28299454040404, 1.7427840654900657, 0.988287330808081, 1.7846225357142862, 1.0906888261183263, 4.505394662828282, 4.699588156666663, 1.4183275582473087, 0.7391593917748918, 2.8146264959379503, 2.1868940446969707, 2.570476175296926, 1.7019950460650461, 1.722918170779221, 0.9810693017604619, 4.421636080815295, 1.100963732936508, 2.5779388849206346, 1.2763222222222226, 3.9166710063911103, 1.7522478740981242, 1.80446535064935, 1.8511112472405373, 1.1257950750360743, 1.3465432178099679, 1.8320604978354973, 3.0790849551984114, 1.7520943535353535, 0.6552132134199132, 1.2213387936507938, 1.62478856024531, 1.872048378066378, 1.2826966862914864, 1.6939983711399709, 3.8196054790548324, 1.9223654077344876, 2.1468373975468977, 0.7191756666666664, 1.9205342173881672, 1.9598335182178943, 0.9849237550505048, 0.6965487063492065, 0.9793707015207009, 1.0787845636585638, 2.8848599132936505, 2.684462528239538, 2.5949588768578633, 1.2418952261904754, 2.1219254434487733, 0.6882972395937392, 1.3785441551226543, 2.551397766178266, 3.616097707222222, 2.1876508492063484, 2.670873922103175, 4.079072332875182, 2.2593993466810955, 3.360297505238094, 1.7503062602106232, 2.389628395021644, 1.826228652458653, 1.192923847485848, 2.078333277626263, 3.3682607616161615, 2.0633754202741694, 4.5942257781746, 2.3374012632936503, 0.8959330786158284, 2.9953655615873016, 3.499994720101012, 1.9811435448412695, 0.5397168986291486, 0.9232232510822507, 1.7870037464202462, 1.2643302662337668, 1.7519429455266953, 1.3995249083694083, 1.192502921633922, 3.503979151269843, 2.8928318276090565, 1.1984258631646132, 3.2728960239826845, 1.3045021782661785, 0.7341416807081806, 1.3730364163059159, 2.2952844880952363, 2.0222492702020203, 3.12395048987679, 1.1809698888888887, 1.0155370721500723, 1.3273139595959593, 2.6516771618226227, 4.009068284650071, 3.928538814731655, 1.0933112247474746, 1.2105668878066376, 1.9590540717893203, 1.6540572191544565, 1.0984316236263738, 0.8127607174214674, 3.8545228035150942, 2.275086484126983, 3.2904111395129876, 2.124545996031747, 4.274642895634919, 1.4120312616666664, 0.9279394971139975, 0.7613945187590191, 1.6540581497114006, 1.7315215946969698, 1.2324261827922083, 0.8968190804473305, 2.0028313583638573, 1.4136464188311686, 0.719814502994228, 4.415834680619658, 2.175375035093796, 1.5384227204184706, 4.545180776915579, 3.219704708845598, 3.7152397320238095, 2.818622571139971, 1.0581065201465205, 1.5074594215007213, 2.8190893240259736, 2.7302844929237433, 0.9985925137085139, 0.9734028015873015, 2.2304230764935067, 1.8617716749639246, 4.017635949575981, 3.405229750079366, 2.267117756525974, 1.8257185116161623, 4.601969780025251, 2.6060535764790766, 0.9356127384559885, 1.2839046865079362, 1.1781864296536795, 0.7021324487734488, 2.0060212411399707, 1.0944015526695527, 1.3819620883838382, 1.567880892496393, 1.439253015873016, 4.767822746666663, 0.874045329810712, 1.7237077158369403, 2.04146638095238, 1.9463367142857138, 1.851220955862193, 3.1053576093592516, 2.856553078650794, 1.0112378612831612, 1.2705597664280162, 2.4112828055555555, 3.6295484580844146, 1.4100478332792208, 0.5963971560661562, 0.6743465461760462, 1.2048549556277053, 2.0222969444444447, 1.4640706448917749, 1.7126001075036077, 3.063334137712287, 3.4882029883161305, 2.1533614727777772, 0.8194053661616155, 3.0927814613275615, 1.8298557929181922, 1.1211619906204906, 1.396046102092352, 0.6289020215340215, 1.1269696237373739, 2.0787988142135645, 1.1405243044733049, 1.1602882128427132, 1.01148535972361, 0.9895461666666668, 1.065379261904762, 1.0119764261016764, 1.625678988095239, 1.065043983498723, 1.2007893535353533, 1.7669508120213124, 1.2468738559523815, 1.601015070346319, 1.6929216114718608, 1.0407713435730936, 0.7911133427128426, 1.5431591403318903, 0.9892403344155841, 0.5576140112942614, 0.9782031161061164, 1.869098916666666, 2.274665538600288, 4.964321372142847, 1.4036659300144307, 1.0609976981074483, 0.7943256854256856, 0.718883961149961, 1.6243024570707063, 3.320439939300144, 2.2337147936507935, 2.732094746240981, 1.0645871470196469, 1.7611114044011547, 2.8816607948412702, 2.630178993253968, 0.866731273809524, 2.153284074675325, 1.0166543112165618, 0.9057440753968256, 0.9995271984126985, 2.378877934676434, 3.358090543185425, 3.5642616892352073, 2.1806113686507933, 1.2609748228138529, 1.9737405419685874, 1.22361385975136, 1.2071237792207794, 2.5685377140476193, 4.3423756551442985, 1.3376684090909088, 1.7640478790376277, 3.3088631873520935, 3.2044188933044726, 1.6807540974025983, 2.08665416997114, 0.9311093412698412, 0.4990332126839826, 2.6105526174386733, 2.1123626929181922, 4.811078397103167, 4.312642661746031, 2.0983195123265617, 2.007922074271285, 1.3005564801587304, 4.079773542954544, 1.2023585844155846, 2.3193763535353535, 1.2739324444444442, 1.2277279971139972, 1.9602104094516586, 0.938114407287157, 1.7515037606349213, 2.2370845508658013, 4.329440654209957, 1.869518293650794, 0.9811651025918527, 2.084113572871572, 0.8448816955266956, 2.196947448412699, 3.458324339300144, 2.5011862826984133, 1.9365815562770567, 0.9337209415584421, 1.7737355801587305, 2.6113305024458877, 0.7224926304528805, 2.755507185526696, 1.175922098124098, 1.8366691194083693, 1.3040461980519478, 2.3914781252442, 4.178824488152958, 2.4286598682722835, 1.7206155288744598, 1.6426787085137082, 2.603502825396825, 1.6418117348484844, 4.833720580595231, 2.0215016984126977, 1.5274888621933633, 2.316243925353535, 1.618742778138529, 3.944448531150792, 1.4338673015873016, 3.837680602485571, 0.8461723716666664, 3.705108099960317, 3.4100284290873013, 4.117180734621211, 1.5471130891053386, 4.998479949999989, 1.686400585119047, 2.089923211904762, 1.0674549603174603, 1.2242240814185812, 4.281308505357142, 3.0809501992063497, 0.7374122117604618, 2.408797465007215, 2.2502893398268404, 2.633358688048063, 2.291673024339828, 3.1144895642424246, 0.7769274155844157, 1.4784208304473305, 0.9463992093434347, 2.205819186507937, 1.737549185122655, 1.0977461414141414, 1.9549349264069265, 1.4755146778499273, 1.0279755746753247, 1.8896027914862925, 2.0624176871933613, 1.4003414999999992, 1.019804444444444, 3.0369328974925076, 4.61008496082917, 1.5747589808802305, 3.524590053866133, 1.5221050493867248, 2.1765525501443, 2.1950194661471865, 1.0444628894444445, 1.3532146046176046, 2.0424378611111123, 3.490707675242536, 2.2299534751082257, 1.7617373870129873, 3.8246201195779213, 3.271240424552669, 1.8658519195526697, 0.771408711760462, 1.1410548605006101, 1.231475123015873, 2.4652647488095236, 1.5652999592352095, 2.5834994992785005, 1.518301163888889, 2.08861789537518, 1.417578374386724, 1.4887442261904755, 2.3350504603174604, 1.2431811796536794, 1.9418653185425683, 2.6984202133116884, 1.718540912337663, 3.440427656580087, 3.1664731257575762, 1.4024075162615168, 2.541878003896103, 1.1505572480158728, 1.6639633189033187, 1.404930420634921, 1.7142211641414136, 0.9316576468253969, 1.415365373015873, 2.6274670907647906, 3.410718768365801, 2.6520090634920632, 0.9935319044011551, 3.285248171753247, 2.9545555114574324, 1.6318803428571436, 1.297212165223665, 0.9659385341880341, 1.9899753163780665, 2.344253400952381, 1.9426737896825401, 2.796311260018038, 0.7688895155122656, 2.1888811865079365, 1.1552708015873014, 1.107007012265512, 1.7136016637806635, 4.834779680714278, 2.0676444028643584, 2.9505043274278484, 3.6358105841414137, 2.788022579758297, 0.5626131049783549, 3.3501307370227, 1.3719912741702742, 2.8507634370382395, 1.6237149339826837, 1.3072181614357867, 4.528994621410532, 1.696585061327562, 2.520665904761906, 1.8634644285714288, 0.7325292604617603, 4.039622421349203, 1.5678226255411252, 1.1185847774447775, 3.448254186969697, 1.8847514246031747, 0.9318178746253747, 1.0284534574314572, 2.075259206435787, 2.6601581965256957, 2.440262469660894, 3.8720236995815287, 3.4884935771284287, 1.3940118997546898, 2.208827437590188, 1.3769013437950934, 2.3389080540043277, 2.698236001875901, 1.1216099880952377, 3.4272860196392503, 2.877110070299423, 2.385344451346432, 0.9889812481962486, 1.3135842950937953, 1.600414308802309, 1.5079316294261296, 2.16102918040293, 0.88743641025641, 1.618144613275613, 1.9866452746975238, 1.6925197619047625, 2.3258254043179036, 2.3471876253246755, 1.9948947748917747, 2.4488895925518928, 2.9256683347041856, 1.9510157332863225, 1.2342599052669547, 2.7304881123015874, 1.79335415945166, 2.710627257797758, 1.3323709099999994, 1.7067661558164053, 2.4532588333333334, 1.7369558531746032, 1.7358849191919186, 3.265149322362916, 0.7925752445887446, 2.330096037240537, 2.9202205597546884, 1.9781556931313127, 1.8964549521589527, 3.5473826365007195, 1.859445521048118, 2.0737822945165947, 4.941957330833322, 2.024333607142857, 2.1977448808080813, 1.7251505056887557, 1.435019712481962, 2.206219257734487, 2.420188352453103, 2.5306670369408355, 0.5154186944444444, 0.9385569462481963, 3.8472566911724386, 1.1335349516594515, 1.476451389249639, 3.981879213984072, 2.3944793382251093, 1.4770097748917752, 0.9034141273448774, 2.5942302712842706, 1.7021521568181817, 2.373719399743035, 1.8447068849206352, 1.908533285353535, 2.317676652936508, 3.3986732835525606, 1.234041973665224, 1.1604504958097455, 2.2816169722222224, 4.430337120024418, 2.8918728150000006, 2.2553476169191917, 1.8678997201409695, 3.557165999054835, 2.8245153305139308, 2.854218559444444, 2.9281114430952386, 1.7802751818037519, 2.493702204761904, 1.9159877957936502, 2.5436904587678995, 0.5309824783827283, 2.1648679476911976, 1.6416666533189024, 2.029123064935065, 2.0395430299145305, 2.131303706349206, 1.1829761785714288, 1.0720886901154398, 1.3829506053391054, 2.111278844155843, 0.8438026049783551, 1.0525162161727164, 0.8588087210012212, 1.3003461063381065, 2.5263516991341985, 0.5245858001443001, 1.7664417784992776, 1.2830397118992118, 1.8389077334609838, 2.521946242247474, 3.2489200869841266, 2.565461783189034, 2.650170506940836, 1.0772644193584195, 4.302974548888887, 2.0954933892496386, 1.5141523783161284, 1.8730717564935064, 3.3002494318650797, 1.8099861782106783, 1.0748718571151072, 1.367206393356643, 1.6258054246031748, 1.6157740081585081, 1.5960207676767675, 1.5269205717893224, 1.1202872067099563, 1.7177525891053387, 0.8864328097180593, 1.6475830135420133, 1.8914453233766233, 1.6936363589466086, 1.5695216529581524, 2.8541630158261184, 1.4983129065656564, 1.723338537301587, 0.6994848714285713, 2.1220410202020203, 1.4837555299422798, 1.5911466238705736, 1.0824452058219556, 0.788488367965368, 1.9265164240259744, 2.505166923338328, 1.8745229801587306, 1.7526209706959706, 1.9993048095238097, 2.6379547301587287, 1.8749138777056271, 1.8455670393578643, 2.528285272481962, 1.868742586219337, 2.1637847142857143, 4.932089854166658, 0.7185226659451658, 3.3413532053751824, 4.029853447521645, 1.090552645937396, 0.6897478323065827, 0.9900398910533909, 0.7701075050505055, 2.5828303586913086, 1.6919532919913414, 3.165778861752691, 3.759194803437952, 1.6718545173992674, 1.1167124510212014, 4.198348564422798, 4.317450763109669, 2.1859358575036074, 2.0280194499389506, 2.0181263765678765, 0.6337375436507937, 2.803220023737373, 1.7169662997835495, 1.1019675732323233, 4.625960594419189, 0.982121646825397, 1.4117922222222221, 4.150103197857141, 4.7911862903463165, 2.2746424437229447, 2.0139329193145734, 4.928007953690465, 0.700305521284271, 1.674022580808082, 1.2343289246031746, 3.9192195921428583, 1.9114977269813522, 0.8640059187479189, 1.7264542055555558, 2.951187978174603, 1.7308013603896095, 4.195003394592077, 1.7123455589466081, 2.787953842352092, 2.5482847999999994, 1.9912364633838378, 1.2135555750360745, 1.753933055402931, 2.183069811652236, 1.4798416923076922, 1.8292273142857147, 1.619994663780664, 1.787341071262071, 1.140282563492063, 0.7927283582251082, 4.950268410952373, 1.2189616865079365, 0.9784191666666666, 0.8082207696825395, 3.375760778492065, 0.9398736757536911, 1.6976047431457422, 2.1794629069264073, 1.2273511849816847, 1.4491370876623377, 1.5171170190642687, 2.148450801226551, 1.546804455808081, 1.6287193809523817, 1.9144588174603172, 0.7515541998556998, 1.5904823524531024, 2.321393772005771, 1.8985581356709957, 4.997979966666655, 2.288447490115441, 1.1845764640637142, 3.6559856648873366, 1.845413369047619, 1.701089837878788, 1.0383619051226551, 1.7617095169552672, 2.0426610818975464, 1.9854390405483398, 1.7319175346320344, 2.196725217171718, 0.8761412896825399, 1.501430624819625, 3.2053491607936495, 3.8319600002020207, 4.701374854999996, 0.9572100638528138, 2.3777194157936505, 2.127154625970418, 1.3876338537351538, 1.9150378722943726, 0.9032486160894659, 1.398158503679653, 3.412586713336941, 3.2728534657431454, 2.1536521461050073, 1.1686970375735377, 1.706487905627705, 1.6192864686979678, 3.2532025640059943, 1.6938889668109665, 0.9899656865079366, 2.19029501984127, 1.1709986919191921, 0.7321144044289042, 1.9136793228715725, 0.7706745781440781, 2.2732009402597395, 2.913729625699856, 1.5988856782106782, 1.6900264642135645, 2.893800688510101, 1.110400832251082, 2.2898559458874463, 1.348170119047619, 1.8965067444444441, 2.299340251962482, 2.706733725158175, 2.5190363870057713, 1.7326975284992776, 1.0007563756673887, 3.5626715018376056, 4.805697366428566, 2.3414781405772, 3.1868281191089483, 1.0087900313852811, 1.1644666541774888, 1.759345958874459, 4.205777230118214, 1.9381467677777784, 1.2618669523809525, 1.4946529485209237, 1.6630048556166057, 3.217307671248197, 0.8784627976190472, 1.0639243815628818, 1.7534372777777785, 3.839402831190478, 3.327162261399713, 2.0220454596436883, 1.987028555555555, 3.946109178340548, 2.4154175134920637, 1.3444273773448774, 1.2913152976190476, 1.1443396933621934, 2.264366626984127, 2.413151772330447, 0.8372685396825398, 3.7601209229761894, 3.6761648733982693, 2.5729265158730157, 1.4872529408369402, 2.9027770025252537, 2.3339329170274166, 0.5906794883172384, 2.4268891648845594, 2.2950627579365075, 1.797703104256854, 1.087741523809524, 1.4185671736874241, 3.8291010489682544, 2.8594861286507944, 2.7776356884956708, 2.24152746019536, 0.7223879063991564, 1.9035095424575428, 1.450898821428571, 4.043081904289321, 1.2999700805916308, 2.9813573801948046, 3.2335971846098333, 2.434777086374737, 1.2233699179709179, 1.0533681746031747, 0.7956065927128426, 4.10273453073371, 1.8964136703851695, 0.8459179909812413, 1.0458149072871576, 4.125934725277777, 2.599756635281385, 1.4774279682539677, 2.1560701116161614, 2.5212115048520922, 2.662974418253968, 1.865426861305362, 2.184281425324676, 2.613118020202019, 1.312313778860029, 2.1468369578643576, 3.6203762046031738, 2.425560274375902, 1.2800652561327561, 1.4559734350649354, 2.460208341125541, 0.936177770923521, 1.8427880074314575, 3.095981627429793, 1.3775204097863252, 2.32792816940837, 0.9642592849927847, 3.4853887572313793, 0.9670210714285713, 0.9988440897990897, 4.206942414743868, 2.7384887654653682, 1.5868585869408363, 1.8192543157953156, 1.0534345595238097, 1.3058893354978358, 1.422968553073593, 4.641712187976188, 0.9865693730158731, 2.9653409874472754, 4.567787311219057, 1.9669498928571434, 1.1955903162193362, 2.450537341630592, 0.6890330735930736, 1.8461071778499272, 0.7772572676767676, 4.0437001685101, 5.000009999999989, 0.9482258308080808, 1.3908306815462317, 0.5615951724386722, 3.3281427994444455, 1.0611250750915753, 3.375671022424244, 2.1038554752164504, 2.0978526841491836, 1.8462893099134192, 2.4173371552469756, 2.695223350887446, 2.35991294936508, 2.595782462987013, 1.0683511893939395, 1.9656613953823945, 1.910915733877233, 1.7318607460317457, 1.6465654989454992, 2.0827175263708515, 1.0553723596681097, 1.7279842976190471, 1.9083445657203917, 2.6408615658730166, 2.748547100667388, 2.7080231794350107, 1.221065273809524, 0.5923275753968251, 1.1520237899045396, 1.379280100447331, 1.4780992362914864, 3.8762629145454537, 0.765710966666667, 3.408281004322346, 0.8070677652958151, 1.3581149846819849, 1.9411369037074042, 1.5713289353590851, 1.7988821356998563, 2.022491993463203, 3.0571763382173374, 1.3325070634920633, 0.8744093218661894, 2.2756519880952384, 2.372419389249639, 1.253311003968254, 2.237059456504607, 2.834788463601953, 0.9782926753246752, 1.305301013708514, 2.097916051393051, 1.1853438219322343, 2.486567821904762, 2.335651842496392, 2.5507236120490635, 2.5928135625, 1.630382055194805, 2.0022658654401146, 0.9975378780663781, 1.4999708416064492, 2.256800551825397, 1.7109845483127981, 0.7366818780663782, 1.9092850198412705, 4.81650109140692, 1.7632809051226552, 1.3852466337273839, 1.6258988134920636, 1.1202331421078922, 0.6609149155011658, 2.3275349618759016, 1.8125111324639251, 2.493747000854701, 0.610954094877345, 1.5312382960372954, 3.138032773917749, 3.5085250830375183, 1.4763354884559874, 2.5695874801587304, 2.259575694805195, 3.9956078777958157, 2.7323000964368975, 2.0560610427272725, 1.696801214285714, 0.600076747113997, 0.8755843470695972, 1.0397540952380953, 1.4936234404761901, 0.7472232287157289, 2.857973503333334, 1.6479106919191917, 0.6390230598853924, 2.8183521250901884, 1.3848732663419907, 2.368380947145909, 1.8342821789321786, 2.019288631297591, 1.5754358333333343, 3.0508212321861476, 5.000009999999989, 2.3729467070707075, 2.383115848845599, 1.7069962993872791, 3.3931930295454538, 0.9725098217893213, 1.0228437893217897, 0.8185715474603178, 3.4393655405982897, 4.261531782494172, 2.6309241865079356, 2.729669422301587, 4.929389848809516, 0.7905245066738817, 0.6192516513708517, 3.19278741327561, 1.9816074567099569, 1.7791749204406702, 3.586661585994007, 2.8395323297113997, 2.7936209254509383, 4.744721900833327, 2.800023029941725, 2.7907804920634907, 1.5767138769841267, 1.3068852356532359, 1.906254050505051, 1.7613154859307363, 2.0879139523809522, 1.5267395815295817, 1.3145360764790766, 1.1702881590909089, 3.2306639375468977, 1.8898946991341992, 1.617684492063492, 2.325304089242424, 1.0293835555555557, 0.9700418863636366, 0.6516870617604618, 0.9068135873015872, 3.8083458760750357, 0.7473382222222223, 4.447034710796981, 1.0993069047619048, 4.417936385187586, 4.648673913849202, 1.5788749907287152, 1.9108724938672441, 2.503857412698413, 3.8621282242352093, 2.4238313105266958, 1.4744575483405475, 1.4787992777777774, 2.5236104848484855, 2.1740632435064935, 3.7869201029761888, 2.538978507575757, 1.5639749498556998, 4.049055350079366, 1.9015328611111104, 1.9922596064213562, 3.0431635046608947, 1.11531727994228, 2.5887684424963924, 2.8194114230158744, 2.1421540079365076, 2.6555582453066364, 1.8535755753968257, 4.443037965598842, 3.498562677619048, 3.499603483282827, 2.41916236111111, 1.1708525822788323, 1.2326052644300147, 1.2116590984848485, 2.5371939630591633, 1.6855399365079358, 0.7453430624098124, 1.8539653103174607, 2.670254781349207, 4.547473334743863, 1.0554573954933952, 1.4065649444444452, 1.3922159729437231, 3.9658583983946603, 2.5856524218253973, 2.231111044576258, 1.0841237896825398, 1.0120684920634921, 2.633012993214286, 1.5489679647727272, 3.3628422425108244, 1.0325743761238761, 3.9991553593470415, 0.6483511189088687, 1.8101840072705067, 0.6760312124819624, 0.7649006565656564, 1.2549595566378065, 2.0332459265151512, 1.7529811127705637, 1.678624996536796, 2.2405808095238084, 3.7674372600793657, 2.2026962514430006, 1.5787332341269842, 1.2435257770562769, 1.5231059335664339, 1.6194879817571317, 1.7047516651515153, 2.2250305801587302, 1.2105626684704185, 0.7631655977355974, 1.292392028499278, 2.645543489646465, 0.7468811681096682, 1.4434811111111108, 1.3828465663780667, 4.026360847579365, 1.2901990158730154, 4.77567547956349, 1.4273970674603178, 1.8104879435786438, 1.3924542799422799, 1.2212556593129096, 1.4299333920634922, 0.8407872976190476, 1.3849941994949488, 0.8836078474025976, 1.225957884920635, 2.8678374726190476, 2.4311502220057717, 2.4716151323953817, 0.7686433430735933, 1.9437602182539677, 2.15769881917749, 2.543670631114718, 2.045219925324675, 1.3887612910618796, 2.1997141409795766, 1.470273734805195, 1.8479395674170271, 2.782347492135642, 2.8446448724603157, 3.422103679296261, 3.0665841261904774, 1.9475085042762792, 1.8541637936507933, 1.3154543301975798, 1.7647429700577195, 1.3025759935619934, 1.1699679270576644, 0.6986966904761904, 2.0344698275613275, 1.1316381144133645, 1.2373184300144298, 2.842458695670996, 1.6804768388455984, 2.8856826777056277, 2.9435369818514823, 1.8482870970418468, 3.606872597375958, 1.1336227438672437, 4.046819668091631, 2.0445444409956712, 2.806544966089467, 1.9118491308136298, 2.6200292626262622, 2.3372730844252967, 2.1851570714285713, 1.4275064613997115, 2.525896137229436, 2.605038124206349, 2.816268130418471, 0.890840304639805, 1.6945973495670996, 4.104490872341268, 0.7317992370129868, 1.0451540544733045, 1.097047417582417, 1.7823894844599852, 2.2786170995671005, 0.9529031910311911, 3.9193208490764793, 2.1710035497835496, 1.6377229343434347, 2.4001084759595965, 1.894093072538573, 2.274176135512265, 2.8939238973304473, 2.0174847748917752, 2.47482502922078, 2.2317248998556996, 3.1514892553035856, 2.46675134126984, 2.636870155372405, 2.331041250375182, 1.1691420746753247, 1.2060757940115436, 1.1781003975468978, 4.19876745270202, 2.8895470826567875, 1.426288702741703, 2.4216123857142855, 2.136903613286713, 1.1209368401875903, 1.633388511904762, 1.4046437050505052, 1.4051987991175487, 2.8519598095238097, 1.641532051587302, 1.6724376150793652, 2.1744676879509384, 0.8309691735209235, 2.153099195515873, 3.4623791021023447, 1.4706339404761906, 2.6784783463203454, 1.1245335299422798, 1.9926419525613277, 1.4087193282828274, 1.3634248528138526, 2.197117430339105, 1.0494772431457429, 3.529725080681817, 2.4887181531746028, 2.2445652777777774, 0.8339804368831172, 1.670960074564325, 1.895818351154401, 1.0904873820346321, 1.6590483107448097, 1.4763272023809524, 1.5701673293650789, 2.165372189865691, 3.0301247016522384, 2.530676987579365, 1.6200962950937952, 2.521920495436509, 1.66054053066378, 2.173985130750362, 1.1324143870851366, 2.660120908369409, 3.3071257295604384, 0.930375884920635, 3.2569583020634916, 0.8167489297646797, 2.5352461291269837, 0.5418979873737377, 1.0568546448051945, 2.203017735569985, 0.5580460466200466, 3.545480090400435, 1.6443032308802321, 1.0780120959595962, 2.389856824786325, 2.569835230555556, 1.384027344516595, 1.8788320050505056, 2.511902551892553, 2.7831735836580083, 3.0447381284776327, 1.0103838625541128, 3.319846443650793, 4.204814662954547, 1.6951724007936506, 2.171465055555556, 1.7322420234487736, 3.2037051799134195, 0.7308432168109669, 1.2011493885281388, 3.793188811789321, 2.437885057954546, 1.1818322124819627, 1.0049286406926408, 2.398158626456876, 3.3005584634740246, 3.367164545654346, 1.7242151277056275, 3.2806241276437453, 1.5026761269841267, 2.4930658313095235, 3.2428641402380953, 0.9086341205461207, 1.4289548290598293, 5.000009999999989, 0.948718453102453, 2.070099443001443, 1.1315137604617604, 4.425797933183756, 1.5593823968253966, 2.3065549332611837, 2.5095564873737373, 0.6179775954600955, 1.301113545454546, 1.4960944765512267, 2.7664975743145743, 1.0536845587190589, 2.6913197424747484, 3.631883041244588, 1.2056977233044734, 1.7490270349927854, 4.210706021735209, 2.0437477785714275, 1.694991351370851, 2.874961579365079, 2.197482048340548, 1.5255257500000006, 1.9539529987012987, 1.3619768441558435, 1.028247257936508, 1.1184934191919196, 2.7290695899134185, 0.5826255912698413, 3.565555924517705, 1.5065348966977468, 2.603416629776336, 0.9480928556998559, 2.480475085026085, 5.000009999999989, 2.5975758846764347, 2.089681301587302, 4.891855977738086, 2.7961529303968256, 0.956223765873016, 2.9042911518759023, 2.0678518351370845, 1.56021043933844, 3.957384591269839, 1.1350988416305916, 0.862237658008658, 2.8757613562950928, 1.5943343420634917, 1.7946642682872684, 1.5396845, 1.5539234436951939, 2.2415076286113886, 1.1996658637806634, 2.024957031746032, 0.8843784332611832, 4.573956423531743, 1.3804705618686868, 0.9898619989177491, 0.7861765317460317, 3.4732843875468973, 1.2374807499167502, 0.5297127763347763, 1.4510669372294374, 1.2662621230158726, 2.8672124691514034, 1.7607107500000005, 1.194871936868687, 2.5756767286435784, 2.442260353730159, 2.1387977341269844, 2.741426308008656, 1.1535887657620156, 2.8732344629742474, 1.4653608643578644, 1.9841408069985564, 3.6092084806818168, 2.647550883228994, 1.4951048243145744, 0.649521511904762, 0.6266968208180709, 0.9660660808080812, 4.642533033757908, 1.381073548340548, 0.6074752023809523, 1.7837527445887453, 3.3199403425396823, 1.40331886038961, 0.8835576150793646, 2.490208542568542, 4.032864010750361, 1.4866422622655133, 2.1190657222222224, 1.9737972012154512, 2.1537232978787877, 0.6374189566378066, 1.8487344574314575, 2.132157666727718, 0.9280192316017315, 1.042821665945166, 1.8430810818070815, 3.977278325595235, 1.6336328691919189, 2.6260090515506715, 1.926720286230158, 1.5361225263347758, 2.3011727892568534, 0.9859354657287156, 1.673524515584416, 0.6779133095238093, 2.2307617214285718, 0.7566470655483402, 1.1608206619769115, 3.6313738912881557, 1.49271098975469, 1.5916907976190477, 0.8700421922799428, 1.341227884615384, 1.5978115399877901, 1.3256670032467528, 3.236469087604617, 3.3685260592748922, 2.003968623931625, 2.6506333199855705, 1.1482193307803308, 3.203838733694084, 1.3301238593073592, 1.5234033930375181, 1.488481867243867, 1.745457822918748, 2.553879101886447, 1.3444580779220783, 2.6704474952380957, 3.0905356975000005, 2.1172344978354976, 4.18628071856782, 2.4714237590109907, 2.5630664743867246, 1.76956583005883, 3.7670486929617613, 2.751097453463204, 5.000009999999989, 1.9544160035064935, 2.072285059704185, 4.388262494379505, 1.480611376984126, 1.7893421482656238, 2.577247741071429, 2.74818879056277, 0.9197902077922079, 2.5883279963369974, 2.67570314491453, 1.2606100714285715, 2.4212064484126983, 1.7086737222222217, 3.0876573470634936, 2.5758521375180368, 0.49573945303030315, 4.397156620519478, 1.0600589642857137, 3.885959249734431, 2.958026151468253, 1.7645648452380962, 1.5558350198412692, 2.1691375804473303, 1.3049696486291484, 1.2199355833333332, 2.5844044483694093, 3.1222316276262636, 1.8576002664002655, 2.700580052092352, 1.3371356706349207, 3.5434843920743133, 1.5569333051948049, 3.507114689801587, 2.840535816522366, 4.293162584487731, 1.8517411626984128, 2.767470198412698, 1.0443615822510823, 2.3083742573412693, 1.4692867619047625, 3.308086535483406, 0.6587430666000665, 1.186945714285714, 1.9330720501442995, 1.7725554981962488, 1.7223719563492068, 3.3953981283838375, 1.9470071321428564, 0.646113420634921, 0.7292415270562769, 2.103154081277056, 0.7166342720057723, 0.8370793369641469, 2.653915962261905, 3.876199697817459, 4.887383358080803, 2.378520826118326, 2.8645710606926404, 2.946886572020203, 0.6378215306637806, 1.2850345768398277, 0.668917288095238, 0.9291795277222781, 1.2639023715451214, 2.36571869083694, 1.09627517005772, 0.5007805147352646, 2.25608154040404, 0.9774964805194807, 2.162777329004329, 2.4583258379509387, 1.9651000386002895, 3.4959330566269826, 2.0195189771645023, 2.5745109251037848, 1.4441802792207787, 2.024038654706405, 0.8297706287878789, 3.807291243499279, 4.976895094206339, 1.176970722222222, 4.989535657142846, 1.378516027777778, 2.6225823899855705, 1.551583393578644, 2.1200229156210457, 4.654168051572871, 0.9191067649206349, 3.3180785809523825, 4.182451534498553, 2.7699000915873024, 4.9424291502777695, 2.7217806434018756, 2.0584935989898994, 1.1039498986291487, 1.62890917929293, 1.9482253520923527, 2.2431639497114, 1.297875176961927, 2.2791273849206353, 2.556003451770452, 2.286484693328893, 5.000009999999989, 2.6106837998665218, 1.6116748091630597, 1.9318890137085134, 1.16033712012987, 2.2802482817460317, 1.8712302939837948, 1.1999012492784993, 1.9984553548396051, 1.9643777007814405, 2.794348581707181, 1.5132067770562767, 2.8415602881096693, 1.464080436507937, 2.696186082402597, 2.912676255483403, 3.748637352738095, 1.225041817099567, 4.147157907922075, 3.185810055467587, 1.0274863650793653, 2.970090803412697, 0.7403867817460318, 1.0220441322061276, 1.0531130934343431, 1.1572350555555555, 2.4539082949999997, 1.5858680654623154, 1.413202201298701, 2.7518667462842723, 3.625002967793595, 4.635199294246028, 2.7983939876767683, 2.4729816809523806, 3.5809390486507944, 5.000009999999989, 2.126682444660895, 1.8303491543734045, 1.2329068347763343, 1.917802348040848, 4.175966637553002, 0.9492564300144298, 1.0576848766233764, 1.9074442658730155, 1.7880915400432889, 0.63103787012987, 1.6240905963203465, 1.0285419469696966, 3.7660259331052264, 2.05826876031746, 2.3927737748917757, 2.2415839841269842, 0.820273762626263, 0.8336427330447331, 3.9025006116594505, 1.356084537157287, 1.9530491623376622, 1.9628633395526691, 1.419940484931735, 1.8784007182539677, 0.7502609015151517, 2.40208719508547, 0.936904225829726, 1.475506077777778, 1.5732510107975362, 1.6990740310245303, 3.3383645869469416, 4.022073272976189, 1.4045889684870685, 2.862556843953823, 2.2130088015873017, 1.5857194481351982, 2.153108621184371, 2.061311435281385, 1.5882253139638147, 2.9352529896969686, 2.635127729437229, 4.0822987559523805, 2.311888205738706, 1.7044357738095233, 3.335772756951659, 2.654120962784993, 2.329418861055612, 2.436344226689977, 1.9224726774891778, 1.0149480353535356, 3.3412642779367867, 1.925338557142858, 1.8769841987179492, 1.339120007936509, 3.7035251449891784, 4.912880073214279, 3.0464142626670547, 1.8200944121031741, 2.0079299729437228, 2.1145366275946276, 1.4227129031246535, 2.8734669045165937, 0.6976111746031747, 0.6719002662193363, 4.080620449999998, 2.531096473571428, 1.4623250898268392, 2.6181727474927836, 4.730628063492059, 3.4230618711724405, 2.0625609354256857, 3.6211447042658733, 3.867249291702742, 3.2058480908053064, 0.71447137987013, 2.316002132550504, 3.2607380872222227, 1.802476535714286, 1.2744796125541127, 0.8820272485569985, 0.8159780652958152, 1.9065512860750358, 1.9002350274170274, 1.0761221922799422, 3.7545884468001445, 2.093293375685426, 1.3347734197191696, 3.316620759617604, 2.018896207070707, 1.1995798109668108, 0.8249203398268395, 1.7020449722222215, 3.1659118437301585, 2.9374491169885664, 0.981202793650794, 4.253911142211399, 1.2442129170274165, 1.4313156901154407, 1.2497363888333883, 2.524473049123099, 2.1974208849206347, 2.4075232003968257, 2.0800455353535354, 1.7337289617604617, 4.482379757301584, 1.6186433494047625, 0.6273298495238098, 2.023280675241425, 1.8893008995726488, 1.3972209880952378, 3.0135413326190483, 1.5178027658730164, 4.842900321031738, 2.0195505198412693, 2.219942136356421, 2.027075226349206, 2.242221732539684, 1.3892018820346317, 1.7309729054401157, 2.901483194155844, 2.60823357135642, 1.3551852182539676, 2.163383120137085, 3.6409181919841274, 1.8832570685425685, 1.6835979365079368, 1.5124552871572872, 1.3603602168109667, 2.064888732323233, 2.404448809523811, 2.532473292081529, 1.691737933261183, 1.6069492433122434, 1.8991832820790326, 2.938679012409813, 3.9227768072985314, 1.8930268151010103, 1.5348008225274727, 1.7653470479853488, 1.0724937261904757, 0.9312518944666447, 0.8711480790043289, 2.041955502222222, 3.846178214289042, 1.4917736075036074, 1.347814652236652, 0.8091947222222221, 1.6264642367965372, 2.1539108033910526, 4.636263744285714, 1.9643159603174607, 1.550880036147186, 1.170848365079365, 3.1311864418176283, 4.8137548696825325, 3.022021621197691, 2.745677877987013, 0.49306748412698403, 1.2150218391053393, 1.289964013968254, 1.0895088481240984, 2.1976240192279946, 4.077640455198413, 1.4735411125901874, 1.5831982983405481, 1.532803656204906, 2.5698313853968244, 2.9358354452813855, 2.738325037518038, 2.646711284379508, 4.547682770421244, 0.8625161707181707, 1.2596803892496395, 3.0072816116666665, 4.204055992136752]'\n"
     ]
    }
   ],
   "source": [
    "# csv serialization\n",
    "response = runtime.invoke_endpoint(\n",
    "    EndpointName=predictor.endpoint,\n",
    "    Body=testX[data.feature_names].to_csv(header=False, index=False).encode(\"utf-8\"),\n",
    "    ContentType=\"text/csv\",\n",
    ")\n",
    "\n",
    "print(response[\"Body\"].read())"
   ]
  },
  {
   "cell_type": "markdown",
   "id": "f78ab683",
   "metadata": {},
   "source": [
    "#### 옵션 2: `npy` 직렬화"
   ]
  },
  {
   "cell_type": "code",
   "execution_count": 24,
   "id": "9bb751f6",
   "metadata": {
    "collapsed": true,
    "jupyter": {
     "outputs_hidden": true
    },
    "tags": []
   },
   "outputs": [
    {
     "name": "stderr",
     "output_type": "stream",
     "text": [
      "The endpoint attribute has been renamed in sagemaker>=2.\n",
      "See: https://sagemaker.readthedocs.io/en/stable/v2.html for details.\n"
     ]
    },
    {
     "name": "stdout",
     "output_type": "stream",
     "text": [
      "b'[0.5052255264069264, 0.7278549527417028, 4.84144142727633, 2.630331391414141, 2.3375484145021646, 1.6975502158730171, 2.309398987518038, 1.6731999047619046, 2.7045755227489177, 4.930513784971132, 1.1271293660228663, 2.0442698814754694, 1.6697642449494945, 1.7882627182539679, 2.5009227194444437, 1.6289314004328999, 2.055694136111111, 1.875261085497836, 1.4760065079365077, 0.9333275314407823, 3.9369377091774913, 3.8171829994444444, 1.4406590634920633, 4.013373858102452, 1.7455627074314577, 0.562323240870241, 1.8282618834776323, 1.0577095952380953, 1.660110602453102, 3.8490506235775324, 1.0615580701243201, 1.358711761904762, 2.06265991228022, 3.988934916388888, 2.8239332580266963, 2.5209073774170268, 3.1538034446092804, 1.5710327608225108, 1.2995099047619048, 1.5089222023809525, 2.940774731962483, 0.9317203690476191, 0.9088048474025976, 2.1008054353571426, 1.4879388221500718, 2.1453408145743142, 1.3607639170274166, 1.7118349130591626, 2.421039767911255, 1.0653366214896216, 2.5088582212987016, 2.0782431868686873, 1.6757674747474758, 0.7488248546731044, 1.3949206450216454, 1.8110343051948048, 0.8067815880230877, 2.1826677857142855, 2.0397968005050506, 2.4079274049963924, 3.984077799877344, 2.4004407050432897, 1.02133768997669, 1.0142874314574315, 3.0654688797114, 1.8544219007936504, 1.4983596933621925, 1.4233607463924967, 1.8539305130158719, 1.5084231119769114, 1.174286304473304, 2.1518316605339103, 0.8776333705738706, 1.8331578192640694, 1.8337916133838383, 2.189383604617604, 3.9050484992352095, 2.4168476576082254, 1.7590924746919736, 2.9508592690043276, 0.8980880622710619, 1.7051658972693968, 1.9101996316738816, 1.928330624909812, 3.9469467165476186, 2.2644999960317453, 0.8717688531746028, 0.7585327182539687, 2.3708615024603175, 2.223288441825397, 1.114984218253968, 2.7274458665223658, 0.9374045569985567, 0.4955627676767678, 1.0066584188311691, 1.2595171150793651, 3.7996760623304495, 1.76498385436508, 1.5334912232323241, 1.7236955508658005, 1.4377247860750364, 4.475698318177654, 3.1868315504598166, 2.656928545454546, 2.1260650685425695, 1.5704368740981247, 2.1410545834632035, 2.815379253459596, 2.6826203765401266, 0.8682511415806412, 1.4203895277777778, 2.3282863853968254, 2.7930627113888886, 3.7612823301334752, 1.495486855921856, 1.9478290032611836, 1.7132449213564214, 2.910909200483406, 2.4311396480663783, 2.266101834415584, 1.7041509065934062, 1.8343833962759462, 3.127734827380952, 1.8464809007936516, 1.3990028791486293, 0.9145775310245315, 1.0851491369047621, 2.248618346320347, 2.751187759740259, 2.0513433015259745, 3.198339941980521, 4.94203616154761, 2.829890541486291, 0.7570303567821067, 2.0939049727772225, 1.1846216507936504, 2.3021615559163062, 2.7039325746753247, 2.1309602792207785, 3.022702797705626, 2.6943639435725384, 1.2163104072871573, 1.4209975266955264, 2.287395062077922, 4.319822260862194, 1.5899116677489176, 4.443468817175324, 2.1741482941558443, 1.075972021284271, 1.5679330126440225, 1.9178259954256842, 1.3490795102120106, 1.5912605245310243, 1.4281757572982574, 2.9438701698917753, 2.80726757478355, 2.316124967763348, 2.401034287157287, 0.8966933860028858, 1.0402550555555556, 2.147003406565656, 2.113559316378065, 4.141622684971142, 1.4420410039249638, 0.878681264874015, 2.6603469720202013, 2.031255616522367, 0.9338316154678659, 2.23712286038961, 2.433801202539683, 3.2727870869227984, 3.0894602226082246, 2.7505867171428577, 2.918407834404762, 0.6116942269119768, 0.6757082619047619, 1.1058149332611829, 1.0442595104617607, 1.6487631983016984, 0.7431878492063494, 3.4821752549400586, 3.410645450702076, 1.7257685411255403, 2.780754870129871, 0.5582562474747474, 1.1396461314574318, 1.5387532171717169, 2.48167621025974, 4.325763056563159, 2.9278613944444443, 1.5725994350649353, 2.7254222241269837, 1.5196590595238098, 1.7593965358374957, 1.6124143362193362, 0.915171451354202, 1.9515804826406928, 0.8870260642135641, 5.000009999999989, 1.17688413997114, 3.0419129073809525, 4.550648785436504, 3.121571457438672, 2.028842605699855, 1.7749588611111113, 2.2252990428656316, 1.6598025922619044, 1.1982802857864352, 1.8899346349206352, 2.0687928174603174, 1.094893786075036, 4.955210145277768, 1.8568706163003665, 2.9226122897546896, 1.2976241684704188, 1.4341460560966808, 1.9556038784271275, 0.5993952579365078, 2.6859866945887436, 1.0894156677489173, 1.26609325, 1.8409550357142865, 3.2983079736080594, 1.9573726079365081, 1.0147936315195911, 1.6672080923520922, 3.2281086842729483, 0.9061795328282826, 2.0955996468253972, 3.185222287424242, 2.9454066222222224, 2.4132676507936517, 1.2290850595238099, 3.694541718272007, 1.350815163737374, 0.7934962806637809, 4.319592182925685, 4.947612373333324, 1.3403297121212125, 2.7299811305158728, 2.149382876731603, 1.1305550354617606, 1.7351502171717166, 1.5525030389610388, 1.5941138748015873, 2.5966569897546896, 2.524246057222222, 2.435130189062049, 3.332799787222222, 1.5924736854256851, 1.103202163614164, 2.0849672860472857, 1.597497190947941, 1.385312377344877, 0.7879724613997116, 2.2317980857753366, 1.7574406673881668, 1.2045628831168833, 1.1120592097041848, 1.52706376948052, 2.0043909117826617, 2.6546169302344875, 3.910648471345599, 1.8094031854256856, 0.8687302144444451, 3.8234532387626263, 1.2539319769119763, 1.917038436829004, 3.8519476026587323, 1.3192356787301585, 5.000009999999989, 2.014514446334777, 1.5849660256132765, 1.807753568070818, 1.2853517786102788, 0.9118009155844158, 2.2099649859307355, 1.3447623333333332, 1.1917734084526592, 2.37854582406205, 1.5601284942279938, 2.4172235488816747, 1.183399073593074, 1.274228906060606, 3.6429969017399264, 4.0773872295129845, 3.212431763881672, 1.5512545494228005, 2.457354597202798, 4.6987287371428526, 1.5958827806637808, 1.045117391580642, 1.631382205266955, 2.452639864070374, 1.7680838383838375, 0.9306780739538236, 4.346323704692805, 0.5850148601953602, 2.248458892857143, 1.8817928784271287, 1.1789590594683093, 0.71966086011211, 4.967143926666658, 1.1469112473359973, 1.1442997406204907, 4.595299750501441, 2.4885173653463197, 0.6071645919913419, 3.6536825188275617, 1.544943001443002, 1.675774575036074, 2.3559688762914863, 1.9997876072438674, 2.468201784758297, 5.000009999999989, 1.5253884206349202, 0.757300141414141, 2.021033415613277, 1.712324199494949, 3.7591096778174613, 2.5554002898809514, 2.174112854218005, 2.0877816929437234, 4.8296607960714235, 2.034536604978355, 1.5299735966810966, 2.0113010696248206, 0.9867454206349205, 1.5345709484126988, 1.586734384920636, 1.2390488096348096, 2.286651561247086, 3.395858159909812, 1.9198082539682548, 0.7007619348151846, 2.860514666666668, 1.2263766450216451, 0.7245818513708513, 1.0174065119624822, 4.058231314942279, 2.4406679020146527, 0.6616996129148626, 0.7334148383838387, 2.1047992835497826, 2.3244442871572866, 1.0158211460761457, 3.8695748181349194, 3.2078192009379514, 4.9822165970237995, 2.4902474711111124, 2.0031031489899003, 1.9293297582312134, 1.0459922990620492, 1.1999229072871573, 2.1914224714774106, 1.915238073593074, 0.8477147883838384, 2.093481351678877, 2.8935630114898987, 3.3308243867568526, 4.391867481262626, 2.2449084873737366, 2.3924320580808076, 1.6134900385725386, 1.5046316699134201, 1.6978619040404042, 1.8313005488095242, 4.492440261031746, 2.8107133940781455, 2.2303935594047624, 1.9499020494227992, 1.3969089880952383, 0.659079265873016, 0.8832832989232987, 2.950578430430958, 1.9408852799422789, 1.5236764660894655, 1.574290483766234, 0.8237742875180372, 1.7504818304473293, 3.1911260707548013, 4.821513241547616, 1.7390189466089467, 1.153360477272728, 3.543710761309522, 4.177338827687591, 0.8120216554834054, 1.63046401984127, 1.2325871760461764, 2.0577369989177487, 2.1444710155122655, 0.9423598690476189, 1.1421026048118548, 1.059378985347985, 1.753117167388167, 1.6059422702020207, 4.954395633690465, 3.3199089101623396, 1.8120249320956825, 2.1743467306560116, 4.054142266305914, 2.5202504175091587, 1.6704151302308798, 1.9207878659451658, 2.4443414804761905, 0.994430038613021, 4.823055894823228, 1.6064139707792202, 1.458362993614719, 2.2267372038888884, 1.1125497965367963, 4.98168703857142, 2.152875236652236, 1.1433400386002888, 1.1400433609168608, 2.1090392426739926, 4.249742690797257, 1.205343420995671, 3.89862543139971, 1.5801455906593416, 1.4563848062770561, 1.502436654040403, 2.0456358870851377, 1.1844309842657341, 3.7023025305952353, 2.0674927344877356, 3.014885945721501, 1.7536090887445885, 2.8898103137012963, 2.2017474737806646, 0.9994287424242423, 2.2352786879509376, 2.6595564404761904, 1.2968462092352095, 1.7504151349206345, 2.9872493442171706, 3.0567661478354973, 1.2767217673160176, 2.3064099072871573, 2.4752803134920636, 2.2949632130158744, 1.2797677460317465, 3.858631291497112, 3.3689327269408373, 1.0814144531024532, 1.6733159130591624, 3.1539175302100686, 1.7502391584343426, 1.3020183849206344, 2.377901286868686, 3.4684054887914884, 2.104926932539682, 4.697669691807355, 0.9011092777777777, 1.8092551295093795, 3.6043007605921855, 2.8789961913095237, 2.1700434083694087, 2.08107067030192, 0.7006432792485289, 1.358826615310245, 4.123968451857864, 1.6176613427128437, 1.3626459559884565, 1.2801931107503606, 1.5630228365800858, 2.0448511670274163, 2.218841848845599, 1.1702024181318684, 1.0670425158730157, 1.9604514379509388, 1.3855677604617604, 0.9255159206349205, 1.113121297979798, 4.2377115459923385, 1.4044673827561323, 1.1974591518831168, 0.9015678131313135, 1.936378464646464, 0.8330214379797978, 1.6797892257187257, 1.5566114740259736, 2.161889802712842, 2.8820651760028846, 1.1757537388167394, 1.6735587142024644, 1.6807764823232325, 2.631107101659451, 1.5159386075036074, 3.287827856686925, 0.8446037175324673, 0.9192491608669109, 1.3041599844877343, 0.5331765854978354, 3.6825203330061607, 0.6637351414141414, 3.004175558387447, 3.1589891347546892, 2.064262781940837, 2.5022450862193373, 2.118872894155844, 2.82384592579365, 2.2939084601226543, 0.7779640822510827, 2.417014750360751, 2.917261359523809, 2.2955865039682544, 2.7288478620468424, 4.6003292891991325, 2.5657911342785, 1.5330458906926407, 1.7659809025974023, 2.742239972716172, 4.599659726150791, 2.1244307678932177, 3.9379526320129883, 1.805881892857144, 2.9559828926082248, 0.6785171962481964, 2.4033270457431457, 3.024374489339826, 1.31041758946609, 2.789139569523808, 1.4728554812409809, 1.8577962384559883, 2.2378255873015873, 1.4739082631673888, 0.6335466309523808, 1.2311526880158727, 2.27276403135642, 1.5038027092352098, 0.9711547357142856, 2.7549149498232315, 1.851544329682539, 1.6664155402375405, 2.1551156269841267, 2.8090834321789333, 1.0995712698412696, 2.4175864523953834, 0.6484199769119771, 2.5635339375901878, 3.303264670555556, 2.5305058284559894, 1.822169716089466, 1.8906193433233427, 4.42231831207792, 1.9133815934343434, 5.000009999999989, 2.6109087884892888, 1.2231720830280832, 1.2494435793650793, 2.59063779076479, 1.400966735930736, 1.00153670970696, 1.376306308441559, 2.902297033730158, 1.5645049178571433, 1.1775377312409814, 0.8626697620435118, 1.2488908253968256, 3.722223472456712, 3.607404793861416, 2.6037672569305697, 2.865083587835497, 1.4550941626984129, 4.074287133524531, 3.444409467772506, 2.9185925133189046, 2.660072536158287, 1.7538264447113994, 3.642659556507933, 0.5085729116161616, 2.136781211455211, 1.6376118391053394, 1.1864435198412697, 1.4481439015207014, 0.8828278587801088, 1.7172291743534243, 2.3644978894841264, 2.709663297979798, 3.094189118045843, 4.97586670749999, 4.81336487863636, 1.5559503931623928, 2.2145412543290046, 4.2053288037373715, 1.8975433345543344, 1.613781454545454, 0.9318844137806637, 1.9146092510822503, 0.8195733502886, 1.1466649116161611, 2.402886531616161, 1.3592238727106227, 0.546731292929293, 2.4689743429292945, 1.599677316822067, 1.0347594319291817, 1.430816233405483, 3.7783410592857147, 1.2806055219780217, 2.5413500761183263, 2.3086793357142854, 1.338094761183261, 0.813533091035354, 2.2258888258297262, 1.8770990822510836, 3.5391569051376375, 3.304905937258297, 0.6325498315295814, 1.8912845203463204, 1.912523365079365, 0.8192235109812411, 2.940843876746031, 3.0361280721384163, 2.486699524531025, 2.29868151984127, 2.238251494105339, 2.073276394910644, 1.3302118012265505, 2.988760332051281, 3.1553153061953565, 2.8810762757936503, 2.8436211855158713, 4.99741869142856, 2.248992338383839, 1.84694500974026, 2.3350851713131324, 4.611307216111108, 3.114165090212842, 3.6814791188347766, 1.9267955797258294, 1.9957840816378067, 0.7209313074703074, 1.204367879148629, 3.458644638055554, 1.8020461388888895, 2.911681295844157, 1.6253902777777773, 0.7317547377344877, 2.157855726190476, 1.7531134040404042, 1.978804578282828, 0.7041117738095234, 3.9420965205555545, 2.3499189166666663, 1.0687532289377295, 0.9385669895382397, 2.657227082256632, 2.353841911616161, 0.9361887297979797, 2.6482654410101008, 0.9472566413863912, 1.1776927777777773, 1.1267558575036078, 3.5182900208080796, 1.170112893772894, 0.9631931736874239, 2.169674783333333, 2.155388870634921, 2.253979009637584, 1.8481420165945164, 3.4874950423260054, 0.9000188492063494, 2.2899262452824947, 1.3873163839216347, 0.6820284971139969, 1.4663182238455985, 0.9064374852092353, 1.7964943985458985, 2.085798281746032, 2.1295115200554995, 4.894405640530299, 1.2925844505217001, 1.2241552380952383, 1.9351469207936502, 1.0397696017316018, 1.2420971118326114, 3.4625546536075023, 4.899143715448712, 1.5644544177489177, 0.8108138272005774, 1.6344998522005767, 3.3672847043217895, 3.407533095580807, 2.8180897333333323, 4.400775689564602, 1.8642561825396822, 2.1983233579365087, 0.7397255670995674, 0.5155185866633365, 1.931754032222222, 2.190169001400267, 1.4088788026695525, 2.0705051874458884, 1.0152267380952376, 0.641921448051948, 1.713636186017316, 1.6580006298701295, 4.645807565396823, 1.2978023597236095, 2.5997260134559883, 2.438719514166666, 1.9157155663780663, 1.6852463726551228, 3.7204793541774883, 1.9654933542568531, 2.037566392727273, 2.119039861111111, 2.2416820941558435, 4.270923363571428, 1.8682315158730152, 3.7932278166233755, 2.6324287150072148, 0.970885569347319, 1.5143824287656784, 3.0384530351803756, 0.9623864292929292, 3.301970394444445, 0.9628685176767678, 3.943729300313852, 1.7400900422077925, 0.8612677002164504, 3.0020407978427137, 2.2244310596392496, 1.1443646709956707, 2.996532603095239, 0.8399908578643581, 0.8007771836219338, 3.6335577593181814, 1.6394445833333333, 1.4471186832611826, 2.277573364357866, 2.138754348734599, 4.580646039563489, 0.7374662222222222, 1.245671910894661, 1.8264303528138532, 1.4279258041125538, 2.488591496031746, 1.4889676266233767, 1.5335626688311683, 1.136596273809524, 4.564873787113996, 1.711862267676768, 3.2885293105494493, 1.4640084938672435, 1.0999438235930739, 2.249922023376622, 1.412396583694084, 1.011660333694083, 3.8421876994047612, 2.43708080185287, 2.1890675583455437, 3.019949575727606, 3.5569806034090914, 1.495920572843823, 2.2446296161779893, 1.6870904531024538, 2.2620953548484843, 1.3797824999999997, 2.395168928077199, 1.4514722869841268, 3.7801713596284277, 2.9091217164502168, 0.8546484148629147, 2.653789274170275, 2.887015376984128, 3.1508596725432896, 0.9741012031024529, 1.717996700216451, 4.7937566740445625, 0.7331564642857145, 2.313217722994228, 2.240837702380952, 2.2282927248307254, 0.9381322456709955, 1.3102614246031743, 1.8239664575757573, 1.2606796688311686, 1.1913045375180376, 1.4952712534132542, 1.9554898116883117, 4.057340409664501, 1.6649490919913412, 2.527316478708513, 2.8320933979076472, 1.2850077908757915, 0.8169861996470196, 2.3949755678571427, 1.2039749325396825, 1.0822032835497837, 1.6415114484126976, 1.1559283527250528, 4.569890434285712, 2.341728169314574, 4.215910385634644, 2.3141002776623383, 3.6638002732359314, 2.0367973380230873, 1.2334884943795092, 0.886411008297258, 2.6352815655916304, 2.457166072150073, 2.0311175696248203, 0.5276080833333332, 2.007844123376623, 0.6906254264069263, 1.7631555338272842, 2.5779950554545445, 1.5419139642857145, 1.8594346035930744, 1.6985115378787874, 2.107090744949495, 1.0553397301587304, 2.3749371791125538, 2.185081208989899, 2.2273510012210007, 1.4797272144799647, 1.7060768095093803, 3.620300201443559, 1.573085019480519, 1.6549797506105008, 2.5661364335101, 2.523883776262626, 4.83146309880952, 3.750234971500721, 1.8400411731601738, 1.891417170995671, 1.3422748336940833, 0.617253888888889, 1.7144692934343437, 1.6097017261904762, 2.890694652720059, 2.722949238229548, 0.9626213700743702, 1.695180850396825, 4.998989966666655, 1.8921384877344871, 2.616051587662339, 1.878858933730159, 1.4553183217893217, 2.9592277776334788, 0.823359753968254, 1.188721816933067, 0.9639806356421358, 0.516472338023088, 1.6514286388888884, 2.115722263506494, 2.954967818037518, 2.01075857925297, 2.0859439974747476, 3.3295537272943703, 1.1624297655122657, 1.6102199902597405, 2.202868807936509, 2.8388725893398266, 2.524719083809524, 2.063913682362638, 2.510430438419913, 2.4689094599134207, 2.1814651507359306, 2.888818681746033, 0.7884047590187591, 2.1465459163059166, 0.6631894852647355, 1.913493642857142, 3.215017519480519, 2.551612246265401, 3.936254751269841, 2.0598384365079356, 2.0693612045454537, 2.1340700107323225, 1.929545972222222, 2.1309212658730163, 0.6943907925685423, 3.0764123124320126, 2.6208522332944826, 2.382520717809967, 1.5249704920634917, 2.622609446031745, 2.0396404671717177, 2.7129530491702742, 1.5885437365689865, 1.5856847384559885, 2.053645777056277, 0.7690473805916305, 1.927566724386725, 2.1387371996464646, 2.2140414981962477, 1.5884939613997116, 1.1765513373015872, 0.9326434498557, 3.8286010077777775, 2.6999861049603173, 0.7532552005772003, 2.2610618370490614, 1.6505958440392936, 2.0688105563492067, 2.116047571948053, 2.285651470418471, 1.3110043294733043, 0.9506016688311693, 1.6773640766788767, 1.565062252608503, 2.005351599206349, 4.644985785119042, 2.1287145172222224, 1.1215483970196467, 2.8057209840781434, 2.1632808589033186, 3.353388956713565, 1.2136793250360751, 1.71749623088023, 4.816161993385223, 0.7545381875901874, 2.202721287157287, 0.6645543262570763, 1.040347027777777, 3.156147128044731, 0.7695607074314574, 3.523547397554114, 1.4654749330808081, 0.7664589715562218, 0.9402262157287162, 0.8545972987012983, 1.553938742063492, 3.336779276785714, 1.8599122142857138, 4.345812682496391, 1.821391009379509, 3.6687726409956714, 2.4134442554112554, 1.200869264790765, 1.9108443560606065, 2.1696866250000006, 3.5257809460028864, 2.6723509617882115, 0.9724028008658004, 0.9242924080086583, 2.7729783255663785, 2.4929485958333335, 3.3913941847077917, 1.948402490620491, 3.1273719279906205, 0.7821953661616162, 0.6931335061327561, 1.654273897186147, 1.3002203624153623, 3.2812863927380964, 4.124047474772726, 1.9439082582972589, 1.8822868452380956, 1.1334082044011546, 1.3983385793650789, 3.2361343836355303, 1.565781010767011, 1.4498065108225109, 2.025894356060606, 1.363436242063492, 1.2513086145243648, 4.997979966666655, 1.4845844918137425, 4.975748928968243, 2.8804242222222225, 1.0451674751082252, 2.98096136945166, 2.2565839188311694, 1.7428937251082244, 0.5009110595238094, 1.9288181792929293, 2.4052903253968254, 1.8923186502455878, 2.3450930749062056, 1.86080527959596, 2.20171918001443, 2.2452800750360744, 2.7705274967532465, 1.1352250039682539, 1.1494064253246752, 0.9329896626984129, 3.3919043384704186, 2.40355106004329, 2.1031212460317468, 2.951454610840549, 1.3576878762626259, 2.2656698811688316, 4.953175737142847, 1.6626443607503603, 3.6945824281385278, 1.7585418867243854, 3.1312781744480525, 0.9836521623376625, 1.0195407366522367, 2.6892223867676774, 2.643411513044731, 0.8413447070707067, 1.5377679516594513, 5.000009999999989, 2.5149070612842706, 1.7399278134920642, 1.0181246666666668, 3.020246668286436, 3.5667484793217885, 1.4000198239538235, 2.4032656742063483, 1.754526413383838, 2.258815638528138, 1.6933396392496394, 3.045486660252525, 1.3788425151515156, 2.2542474173881666, 2.8670611812631805, 2.2981236134343432, 4.770917913701294, 1.3140264956709955, 2.2832737738095235, 2.9840477599114767, 1.0103013774558776, 1.8745617658730163, 1.2749481201298702, 4.997979966666655, 1.4136603517871016, 2.03752501984127, 1.4829353666666665, 1.6397339495781993, 1.6744361666666672, 1.6856694579864577, 2.886601071208515, 2.242000445959596, 4.159391654072871, 3.815787527857142, 1.8485628611111118, 3.833472626792931, 1.280134106060606, 1.2705506042568542, 0.6434810971250968, 1.9429835536907536, 1.9646070295815294, 4.1605166734523795, 3.242557485909369, 1.0137030036352535, 1.612709368470418, 0.624179829004329, 2.1628577775280267, 2.0934848916916415, 1.2192039859307355, 2.2290402308802313, 1.0403005674603178, 2.9111600581060606, 1.406058619047619, 1.790169162229438, 1.6214380425962924, 2.2978635526370845, 1.0507722077089574, 1.0819381713564211, 0.7064879863747362, 4.316426550873014, 1.0932538268398269, 0.8061254693362193, 2.11120109916306, 1.685743063492063, 1.1146016242368741, 3.628273394642858, 1.1141288550338548, 1.8930177297258295, 0.9557058524531028, 1.5168628661257049, 1.3801634967532472, 1.520245616984127, 1.5798451951659451, 1.0690512396214897, 1.4434623581418584, 3.70139293767316, 1.6296228001442998, 3.143926493982684, 0.8249990992063491, 0.6635202086802088, 3.2943869755175386, 1.2522432766955263, 4.989003346031735, 3.476487723636363, 1.9625668993506502, 1.7701256659451656, 1.8750619105339115, 0.9705685732600728, 2.7991404029581526, 1.5711727507215008, 1.8845919509379505, 2.2337424862914856, 1.6356336031746026, 1.2295665992063494, 1.198261538508713, 3.538245393690478, 2.5851900228715725, 2.1680470487012986, 2.4218880515318006, 2.056862927142857, 2.3501287106782103, 1.310644235930736, 0.9164076197691198, 1.4903427420634912, 4.316716705679315, 0.8460830978715727, 1.1405705, 1.242324959372294, 1.4923664404761912, 2.7944735406746037, 0.6986245317460318, 1.8885377355699862, 1.981400987741703, 4.071950866944445, 3.9041061027164488, 2.41187804004329, 2.6052098535825285, 1.913716491341991, 4.092009843813133, 2.9281256567496383, 1.4600310266955265, 1.3510440761183262, 1.9888734246031745, 1.172830085497835, 2.0124061314574315, 1.0617726010425688, 3.1700039413972134, 1.5766574805194815, 1.8058754264069268, 2.248153560461761, 3.213665049309024, 4.012261537539681, 1.402735817460317, 2.1469104075596626, 0.943462630647131, 1.1327728769841274, 1.366105395743146, 2.58335372929293, 1.9268649408369414, 0.740931462121212, 2.8103251004184693, 1.2626430176767673, 2.131023257857143, 2.0501706439255196, 0.8150018210678212, 1.3695765450382944, 1.1467100317460317, 2.3017073426800976, 0.7395119484126981, 0.8168745797258292, 0.8923465245310244, 1.7587072222222222, 5.000009999999989, 1.0163514469696968, 3.1000499726060053, 0.9844188055555554, 0.7182965537518038, 1.3819493564213565, 1.0487098697691197, 1.8738219885447878, 1.5591035595238087, 3.6905208250793646, 2.436716308564213, 1.870966921875902, 0.8279787908480407, 2.004309762835498, 1.288726618326118, 1.1008184852092353, 2.472493222308803, 2.474497361832612, 1.8675517755555553, 0.749786827994228, 0.7993215821123318, 0.5214680891053388, 2.2944659453601957, 3.649458624444445, 1.4156978690476187, 1.5844870212842712, 0.8795220587806638, 1.9143410607170608, 1.6559809521284277, 2.8694761491378076, 1.1663167745238092, 1.0120464404761904, 2.0266192852994225, 1.6681061724386723, 3.6859178994907853, 2.8965814030952397, 2.5777848653679656, 1.5396420887445894, 1.0854157085137086, 2.686346129920635, 2.757735830818071, 2.120772735930736, 1.9549187302686215, 1.602293198135198, 2.6355512111255415, 1.25171626984127, 1.2770773691308688, 2.932980398129648, 2.0199468463203463, 3.509714553035853, 1.995845282331557, 2.4304986892857157, 1.0461493924963927, 0.7433636976911977, 4.975817248333324, 2.1743107140331897, 4.615837441691918, 2.428630093452382, 2.6694554188311694, 3.8430936955952366, 2.448739692063491, 1.1024285238095242, 0.8065659380286376, 2.0293306366955277, 3.7019347623809513, 2.488365405844156, 1.034657484126984, 3.740092623780664, 1.7843249678932178, 3.021444864747475, 2.6955708742857127, 1.4790470214285718, 4.016188918595569, 2.1594632979797987, 1.9754518463203465, 2.943247733571429, 1.0325722629870129, 2.3850244696969694, 1.4385338578643578, 2.7463578743101333, 4.995508682857132, 1.3896545293040288, 0.7537302005772005, 1.1235813517316016, 1.732685922077922, 0.7991209603174602, 1.7996454868742375, 1.9509308790043292, 1.405853510822511, 3.424240154177489, 0.8562028409379506, 2.698450117943722, 1.8365209513708516, 4.990874469999989, 3.3410038912151743, 1.6562174129481633, 0.878817812659563, 1.1733019801587297, 5.000009999999989, 1.3141846186868689, 3.731199394484126, 2.3343043261183265, 2.8144368236152735, 2.290739192691198, 1.8881383769841262, 2.6910639758991004, 3.0340420673620816, 1.1836271800144302, 2.37039084478355, 2.4929552831612836, 1.909742834054835, 2.1087846168253974, 0.9725374906204906, 2.5735300021212115, 2.622820487476413, 0.848390205266955, 1.6560186897546898, 1.9024948244200246, 1.8305714244011542, 2.0473798542568535, 1.375781007936508, 2.1138454590964595, 2.058411895557776, 1.275127095238095, 2.0471960869408377, 0.884730583333333, 3.025627766024532, 2.090670647796648, 4.9012804874999905, 2.3012073903318897, 0.9092590640470638, 0.9741679924242429, 2.3935764992785, 2.9421442330844165, 1.9803905126262622, 1.5373920411255415, 3.5366559763708523, 1.275900566738817, 2.2593026252380954, 2.3679205401587304, 1.8925522591269834, 4.027982209682538, 2.4842970082972586, 2.6986546555555564, 0.5572543405205904, 1.4542910414862913, 0.7124673542568545, 1.5003859235209236, 2.370745821428572, 2.4497044007936513, 3.507154658019482, 2.2473897021284266, 1.6223622705627705, 4.810161424670323, 1.1111736533189032, 1.301404513297258, 0.9238361316919194, 2.238928597474747, 1.8012378463203458, 2.354373748268398, 2.771654746536796, 2.3681834502164496, 3.1865106707936515, 1.6391206673881669, 0.8270734603174603, 3.759431554081197, 2.0268272077922074, 3.445693623328616, 1.9301202141747147, 0.9443431374458874, 2.14285936482684, 3.148253387911255, 1.054393806998557, 2.978686954090909, 0.7917695427350432, 2.1068207438672437, 0.5938970105450108, 3.2270630643759017, 3.7404958622738365, 2.6292219314574314, 0.681817798090798, 1.9324415768398269, 2.3681216202380955, 1.6131801465201472, 1.0251131706349204, 4.986625467499989, 3.0068225772519157, 0.571335249000999, 3.03108513955267, 3.6297447344047606, 2.0362933922438677, 1.8945244572799413, 2.242042488167388, 0.644634581168831, 2.7766087792568546, 1.5410478623015882, 2.665578820876624, 1.5561925049278498, 2.65137407910867, 0.9976087803030302, 1.8032620311832626, 1.5008698847763349, 1.43073107936508, 3.1768096380230895, 2.585895844927849, 4.065001229317625, 1.93668638497114, 1.6042909693362197, 1.487592791956655, 2.061381509523809, 3.121642141970531, 1.1873241158896664, 2.6323950516600063, 1.4675830357142854, 2.4818591274891784, 3.3199899586652237, 0.7512066702741701, 2.0724941675324673, 1.176713943223443, 0.9058365649350653, 3.7983491167676773, 4.363927800912698, 2.22820692027417, 0.9588760515873015, 1.796642166305916, 1.6762756818181825, 2.5144367290764786, 2.0349005436785443, 0.8109241551226547, 1.3323027858080803, 0.744137963564213, 1.0656728874181378, 4.676404591269838, 2.1813454189466093, 1.0234066537337663, 1.4699573116883127, 1.5195250378787881, 3.313204543742369, 2.402271348286435, 4.1091274828030295, 5.000009999999989, 1.631781514430014, 2.8253229829365085, 3.006140977817461, 1.8086724639393943, 3.2199478339077587, 1.4897639116161614, 1.8453409000000005, 0.7255046925296925, 1.6107465064102555, 2.2739697998701285, 2.9088607008477636, 0.6032866212121211, 0.780414368686869, 3.2365551178571432, 1.689727136724386, 2.6401595704906207, 2.3654483997113998, 3.7429072171753246, 2.0600502710039965, 0.7979470625485626, 2.525175039238539, 1.552364113982685, 0.9709534437229437, 1.3722820898268402, 0.9354606029803533, 3.760026640620491, 1.1281708625541125, 3.08630196969697, 2.212231794871795, 1.5966141165223664, 1.2429559652014655, 1.2594511161616162, 3.14331701306166, 1.9121630616883127, 2.2329418437950936, 1.007312200937951, 0.9382345710678212, 1.6846200520263066, 3.5837577630586064, 1.0979570432900436, 2.52078214920635, 2.1793307917027405, 2.3481749880952383, 4.439832471482405, 1.582954857142857, 0.8977868812576313, 1.222046615440115, 0.9324139310966809, 0.5293259653957153, 1.561679547619047, 2.9431045980663786, 3.301250843148519, 1.6097502110389614, 2.3868672864357867, 2.1713849199800195, 1.5049729160561653, 0.7505740686258183, 3.6294135587698406, 2.5305105006660007, 1.0907342038239538, 0.6981982023809521, 3.2431252135317465, 1.4720294751082244, 3.589493999873736, 2.74872847099567, 1.1908762510822515, 0.7771298743867245, 1.4031979822510814, 0.6987301904761906, 1.7173180797258294, 2.712440239877345, 3.1560430530808077, 1.317486698873349, 0.5510989541847043, 1.2000298232323234, 1.6067938975468978, 1.4060132824819624, 1.9422080084848483, 3.1807563407936503, 1.4219069469696968, 2.8002519365079364, 1.3597470634920628, 3.5487255258910544, 2.6737213430735935, 1.5374439462481966, 2.4057740617063494, 1.4467759574314576, 1.27897471031746, 1.0219407225829729, 0.8627900385725382, 1.9622918749250748, 2.0021220252802756, 1.5590167521645022, 4.444193021810966, 0.676643736291486, 3.43700739284188, 3.3987631596867023, 1.6187259158730165, 2.508898633647186, 1.0775178888888892, 1.35929993001443, 1.1009044787157287, 0.5948110303030302, 3.50908879333472, 1.880723455266955, 0.7588219763358862, 1.0148902539682538, 1.9028026428571427, 1.2921314279581535, 2.249032041464646, 0.7837162157287159, 2.6179003226190476, 1.7145644588744586, 2.0381094112554106, 1.6069752413419907, 2.0455353469008783, 0.9472110115440114, 2.0540172487481962, 2.1920864150244195, 1.8950008671606167, 1.288272314574315, 2.5402539185814184, 2.541239823065823, 1.203567323953824, 3.679989944206351, 2.9296699646825397, 1.6092011469047622, 2.242672339416139, 1.4457955952380954, 1.281528073593074, 2.962056284444443, 2.333321037301586, 1.3364457760678212, 0.8366068062493061, 1.3359541854256853, 2.134031597474747, 1.137337234126984, 1.2011880833333335, 0.6854248582251078, 3.211529559379508, 1.4051406507936508, 1.5705972200577196, 1.5851911367243872, 2.491499052380953, 2.279848737301587, 0.921199393523144, 1.4483983879906206, 1.4459333197080695, 0.5920845808080807, 1.800997058910534, 2.066798101010101, 1.093149295343546, 1.1155101230158733, 1.740893401265401, 1.3987371833444338, 1.9321164424242414, 1.8138491250757576, 2.1257954444444453, 1.9547286771805972, 1.6316400465090461, 1.6804778106060605, 2.5141643432972582, 2.2265935541125534, 2.2402467995310245, 2.4776940439982242, 1.374483987734488, 1.0404467142857146, 2.034390273809524, 2.1098611699134198, 3.866302870663781, 0.7142039634920636, 1.8651629183594187, 2.5812751695804197, 2.4468835306637793, 1.2947644325396825, 3.5757991825824167, 1.5100427275502266, 1.7630710271572863, 2.702783190032468, 2.347367697936508, 3.19630348525974, 0.8320423526473527, 1.9067809105339102, 1.0287706865079367, 3.0636923272150085, 1.3129727896825394, 2.265189360714287, 4.353505115699023, 2.3330911648629153, 1.4506168964646462, 0.6683504143689641, 1.0824050152625149, 2.3164325151082243, 2.1852963982961486, 1.7705959426406936, 1.2302312153679658, 0.9731375895743145, 0.7292855569985567, 2.5087715227272733, 2.646266590007215, 1.3403954126984132, 3.8569733931493517, 3.226450141868133, 4.989535657142846, 1.3303950402930405, 0.836229410783661, 1.5947117723665227, 1.6671205216450216, 1.19292111991342, 4.1653571179329, 1.5950211569264077, 2.363993422910424, 1.8792986607281614, 2.1928169043179038, 2.804468138908315, 0.8790830967365967, 2.400097822510823, 3.7214859762445864, 1.140967647907648, 3.4496876896753266, 1.4891721515151517, 2.1852474087301585, 2.4979604141810956, 0.6593452148684651, 1.7974801309090904, 1.3998769321789317, 1.1057518730158729, 1.4014072236652249, 2.848824744108946, 1.3031092247474751, 0.8645262521645023, 1.140280775252525, 4.114668325595239, 0.6322242487789989, 2.0895053329004334, 4.2297883972222206, 2.245280856060605, 1.3677020202020205, 2.238827136002885, 2.2537575595238097, 1.5832180912698401, 1.5458233253968245, 0.7448553463203466, 0.6283486194083693, 2.0520914386724396, 1.620301895743146, 1.5555172824675325, 2.258726530457321, 0.7863647368326119, 1.5929221435786436, 1.2359408088023087, 1.4310169226190481, 1.4954257243867244, 3.29910940063492, 0.9452109725274725, 2.019550459595959, 3.431615200050506, 0.8824131150793648, 1.87051828948052, 3.4041740845013315, 1.1269257973845597, 1.4609791908369412, 1.4915342240259748, 3.480933118484847, 3.572563272045455, 2.6941676084054844, 3.3323239864790777, 1.544068293290043, 3.0687153827958156, 3.3131037621225996, 1.2527800158730162, 2.4542306565656573, 1.0329363320346325, 4.63968630380952, 1.7448476702741704, 2.9591860631313143, 3.0005968744733047, 2.0285583246753247, 2.8381237490842506, 1.700879992063492, 3.4737502767671216, 2.3444707410678207, 0.8457248769841267, 1.553083442424243, 1.7143645732323223, 2.185493559412809, 1.1349762471139966, 3.6004583330086586, 3.179127506918359, 3.231513611583693, 2.984186401645023, 2.5084580791303153, 2.418818469119769, 1.9520291163780668, 3.8771804102380933, 1.1465026154401152, 1.0163543717671215, 1.4666602398989896, 4.78204397757936, 3.22574142190476, 2.160452178571429, 3.1965282889713067, 2.2080961994841264, 1.6180483928571432, 2.6121000540293045, 1.7363567746753248, 1.2467646433843935, 1.5162895551948052, 1.1687846349206352, 2.5024558969363966, 1.1835880887445889, 3.3788222507936503, 4.930586735274716, 1.9352397063492066, 1.0455683185425684, 0.9496086587301587, 3.504635923225109, 1.852007433982684, 1.8707472182206681, 1.0899835357142857, 4.682398635624096, 2.488032553517316, 3.1700559678779556, 1.445521770923521, 2.1149841428266187, 1.1826780543345543, 1.513850117965368, 2.177166431255411, 2.2266363769746906, 1.2965233174603177, 0.8340863564213565, 3.2524453382106775, 2.3007945580974583, 1.8380576129148616, 0.8372539632034632, 1.6790092146464644, 1.2004304841269844, 1.6648033939393942, 0.7188914082029081, 2.115257627344878, 2.2094230582972583, 1.371073575396826, 1.3540705368797867, 1.7518074655899654, 0.930787014790765, 2.4758540562770563, 2.5775089511507936, 3.4372605689141413, 0.7247522490564989, 0.8812932492784991, 0.7212989524919524, 1.9970483455988468, 3.6693785403932186, 2.671253877972581, 1.4399527316017318, 4.999949957142847, 1.037276718614719, 2.3406645338827845, 1.453731492945943, 2.8523074020146515, 1.6119866230158737, 3.1130097252725064, 2.95876784611111, 2.8293587450396824, 3.0978801380952388, 2.7685434976695533, 1.161900579059829, 2.1034317669552665, 0.49046652300144283, 1.611840084415585, 1.6994237164502168, 2.7596035591486303, 2.7537154007034634, 1.3992219441391938, 2.3621904052059044, 0.9281893452380953, 1.0701201150793644, 3.113419751269841, 2.2371696489898985, 2.0130207795815296, 1.7220575645743157, 1.1111146702741705, 2.0266334886724393, 1.1170875557142854, 2.2400782342857144, 3.609419569682538, 2.3190468964646467, 2.486400848873349, 1.9858041612554103, 4.235280795836939, 1.8104960674603179, 2.259656373015872, 4.791326844945882, 1.9701276801587304, 2.4998749047619047, 4.158107847222219, 1.8988741254023753, 2.560612901381674, 1.527622368326118, 0.9862067783050285, 1.0257180494227993, 0.6683457359096459, 0.8743344722222227, 1.6654515601370852, 2.007135303751803, 3.697512192998667, 0.5048338762626262, 1.9196569084249089, 1.3062718388278391, 2.3481185674603173, 0.954628981962482, 2.419173082157287, 4.865575838846149, 1.3262266345598843, 1.1329093474025977, 2.382788878282828, 2.1804124559884555, 0.7842305306637808, 2.4372168198690205, 3.023747613921356, 1.9255456905844153, 1.427715763528138, 3.712728046407483, 0.9670470147907645, 1.9640429963924961, 1.31838988023088, 1.1934659222410915, 2.627055093177656, 2.2614375986652226, 1.1285052727633482, 1.8785995325507832, 2.328690684537685, 3.0000427235714295, 0.6055014440836942, 1.9340302460317458, 2.4905843908080803, 0.9848286334776337, 2.252946868109668, 2.3120320307575746, 1.1375887142496388, 2.1403445254112556, 1.6918849684523807, 1.8255824145021646, 1.0517143713924961, 3.218992201709403, 2.394311819082307, 1.5502072124819626, 3.9284559245310233, 3.9170412258333345, 1.7886010075396819, 1.3431280645743144, 3.9218045987060157, 1.226209612054612, 4.06188904449134, 0.999488675241425, 3.2541106561363637, 1.6989990082417574, 4.102549161296482, 0.6317140606060607, 1.9780521147186148, 2.3316133412698417, 2.1120994686147188, 1.3601147799422801, 0.9924518636363632, 1.6255033280885778, 1.2221235873015872, 2.5049494337409812, 4.975749818333323, 3.9318729224603186, 2.5318849801587304, 1.3154898730158733, 2.5401472103174596, 3.5013833722402605, 2.5629700218253983, 2.441638807287156, 2.7437350300252525, 2.1700472312753916, 2.6926383294372283, 2.541375096428572, 2.8773140596392506, 2.1712593152342103, 4.956369901190469, 2.4235675317460315, 1.9232334260461768, 1.5728619888167392, 1.6905673746031746, 3.4274842903354994, 1.853614657398157, 1.1503225227272729, 2.541646664862915, 1.4964267824675324, 1.387824736075036, 2.3600106348520935, 1.4694986428571435, 1.3509542906660008, 1.3250296904761911, 0.9818845476190475, 1.0868746226551225, 1.9916203371572863, 2.8115071547619057, 2.6789569933261195, 2.328102130952381, 1.0549503650793648, 1.6895656025641017, 1.892732964646465, 1.0592021984681983, 1.734411762626262, 1.4852111008158504, 1.5356365461760464, 2.7276899173082474, 1.4805883010878012, 0.8069276444083698, 0.6795006547619047, 2.123402257215007, 1.009302317155067, 2.2517998412698415, 1.874037576118326, 2.3108552263347764, 1.2215377613220115, 1.733835291111111, 4.095871578845599, 2.0203940051451332, 1.9043008994949489, 1.704584223304473, 1.5210692965367962, 1.634398554834055, 0.7593887929292934, 2.490537111111111, 1.298884017510268, 1.9504673586002892, 1.7716237463924969, 1.450861146825397, 1.7071918840048839, 1.3975719787157284, 2.2150909879842384, 4.013576935912699, 4.633602632075703, 2.3628592142857143, 1.935077975468976, 2.6834751155122674, 2.4255740251082254, 1.5395406202380952, 1.1338573474025975, 3.401793213095236, 0.9426804433910533, 1.2791734191919193, 1.7561443578643574, 0.642467244069264, 1.723835716089466, 1.1747389467476963, 1.0638047687590189, 2.3113944065656566, 2.1117950224206354, 1.0772819722777225, 1.7830254523809532, 4.1502782795093776, 1.0331215744255748, 2.19013522994228, 2.506220893362192, 2.322327814733044, 0.955605405233655, 0.8960253859307363, 2.1375875079820177, 2.8503781050396824, 1.8044430758730163, 1.6879148396048398, 1.2944654343434345, 1.8014593639971144, 4.78867712695526, 2.7956858775946274, 0.5200967274531025, 2.380626802225552, 0.8103953297258293, 1.6088772098457087, 0.8994506549839051, 3.2667348400210914, 1.5531272889610384, 3.882449984033188, 0.7444335067155065, 2.209849016911976, 4.066286682103174, 0.8320310822510824, 3.351604223552004, 1.8809956031746022, 2.477541565483405, 2.859534102666779, 2.209455359560995, 1.9645753690476195, 1.5507314150216458, 4.0400615189610365, 2.053567215873015, 1.8392764567876565, 0.8202778069985567, 2.0133998550893546, 1.450119118326119, 2.172514718001442, 4.675376549484123, 1.5568703113275613, 1.0586723388888888, 1.7056482653638028, 1.969958774170274, 0.7277810849783549, 1.1411321017316014, 0.75031890007215, 1.757736536075036, 3.4731553282251064, 3.593405876031192, 2.6717236631060617, 1.3730308152958153, 1.6867359637987016, 1.0827066608669111, 1.7823922772505272, 1.7124047662337651, 1.3734379383116886, 5.000009999999989, 1.9516059444444445, 1.8377379461760455, 1.9669073492063496, 1.8983353818681326, 3.1517985490079368, 0.9310290906870907, 4.767351491053389, 4.409268234613995, 1.3307514917027417, 2.031571402902653, 1.7301884166666668, 2.1647895025252524, 1.195492971230159, 1.545055418192919, 2.026302602164501, 1.729434678932179, 2.439901423656899, 1.8915658524531025, 0.6444124345931845, 1.7957004722222216, 2.4540108777472516, 1.1226941381673878, 1.55556596031746, 1.7755763103174598, 1.1859775357142857, 1.3001432037129534, 1.814044613636364, 1.6296093026695533, 1.9007850050505053, 1.4153102669552668, 3.3944690745454538, 2.047207720591631, 0.5165028131313131, 1.870861603199022, 2.1240745775613274, 1.8923732759740273, 0.9625502616594518, 2.3999197539682537, 2.877117595396825, 1.97044077020202, 2.0193897936507956, 2.50624840012987, 2.967360489855699, 1.991068614357865, 3.8424033103113557, 5.000009999999989, 2.4074918943001453, 3.985157644029583, 1.7485037335137081, 1.3341803419913416, 3.001440173276886, 1.2181770936285938, 0.6373069502317129, 1.202364138167388, 1.7782745325230325, 2.3702993850793646, 1.7232605584415586, 1.3795293624431124, 1.7699837406204915, 4.725032434191915, 2.9764621349206357, 1.4146613809523811, 1.2226059252136752, 0.7350524855699857, 3.605383045631315, 3.008794044490232, 2.78932963541847, 4.999549949999989, 3.7101778302633464, 1.8968100825396825, 2.9756090422979806, 1.719970044011543, 2.040490227272728, 3.767297298531746, 2.072128268037518, 1.794089676573427, 2.306707128260629, 1.7230690952380954, 0.6844495436507936, 1.5068218838383844, 3.250443428755412, 1.875626161976912, 1.163874321428571, 1.8910386305916307, 0.920450375223665, 1.0138074289599288, 1.6954345515873022, 1.7825720883838383, 1.636831968475968, 1.2653164535353538, 2.1758507813852805, 2.872947725768398, 3.6241545371348094, 4.446056063333329, 1.8208208040404037, 2.8639642948773445, 2.2038347575108226, 2.230131781746031, 4.999922437499989, 1.8427745226640027, 2.459290628134921, 2.037656107647907, 1.1177258946608943, 1.4375670967532463, 2.2187212487234986, 3.903548511955267, 1.8523980165945166, 0.714453012265512, 3.477774144357864, 1.7431313419913417, 2.0109388279853477, 1.632343955988456, 2.1115756717171723, 2.26361457972583, 1.9274126309523822, 2.4084979766067267, 1.7542813174603176, 3.160253939792037, 1.647786367243867, 2.815890332597403, 2.6944406830391823, 1.6395355332212227, 2.5209588679653687, 0.7983575916305916, 1.6826163476245979, 2.145838431457432, 1.6451319783827278, 1.2194130905483405, 2.7104790303030306, 1.5469568744588753, 2.0098065775613274, 1.4434120704545454, 1.3580845000000001, 2.1569700945165953, 1.5869302128427127, 1.1749055988455985, 2.195477032023532, 2.2045690934343436, 2.4608354015750917, 2.8332886520634912, 0.9397169819624822, 1.8963848818403815, 1.9643872344877342, 1.8841469007936507, 0.6834794660894662, 1.5545856002886007, 2.972616253838383, 3.3726300029220795, 1.244586985930736, 2.182919647301588, 2.203388799125319, 2.4159068368795102, 1.1857158237873238, 1.561608470418471, 1.2538482549117551, 0.8929692987012987, 1.803412715728716, 1.9959848953823953, 0.6926541559290383, 1.4488323626984123, 1.0709642261904764, 2.3590045466233764, 3.9931331157972574, 1.3084784206349207, 1.5841983293650792, 2.4672806928932185, 1.0914823726551226, 2.090166355089356, 3.1081063676046172, 1.4580553055555552, 1.4852735386557883, 2.9614129668614715, 0.9011110097402601, 4.98839016749999, 3.965599592167276, 1.0288798896103897, 1.4168123095238092, 0.7214007803030303, 1.0172552153679655, 1.3309092478354985, 2.622783010043291, 4.693656277579362, 1.134430743756244, 1.30593798015873, 2.55373367094017, 1.2281434157287159, 2.307837998556999, 0.8174562979797977, 2.8134603038383834, 2.569226766785714, 2.078963745772283, 1.7492244652014646, 2.4188031329797983, 0.8338982781385282, 2.133599075396825, 2.6774643625721497, 1.4909160616883121, 0.9124696969696973, 1.6350511365856366, 1.3818892626262629, 1.489484013625264, 1.2184443870851371, 2.1990365494227997, 2.626496642034632, 0.9076442331529584, 4.5084561482142815, 1.7964514675324674, 0.6023274395604398, 1.619914832833834, 3.1196661619264057, 1.3871101062271058, 4.8376442509523745, 3.7953413258585873, 4.999689974999989, 1.7186133888888893, 2.3741987070707067, 3.085357217251638, 1.2309597467532467, 1.4988364343434346, 3.4211147707359304, 1.1477145714285717, 1.3460592474747477, 3.1404714228574204, 3.4941062449975018, 1.5036618851703856, 3.5795123439826853, 3.116098579427239, 1.9477703867243874, 3.062070314390331, 1.7395844000721508, 2.9766333740981237, 1.407773215229215, 0.8572211107503606, 0.726822511183261, 2.7859490046950284, 2.2670036810966803, 1.2647770180375177, 3.4915846357936506, 2.0582242932900434, 1.8827955833333327, 3.9486635097230542, 1.852226334776334, 1.0425179584304587, 1.3508097817460316, 2.384165868073593, 2.0897121843378854, 2.126783593073593, 1.6771534823232321, 3.3989949410714284, 2.014864204906205, 1.0368326833721837, 2.1597542857142864, 2.7679852256854263, 1.919449384920635, 2.4237119179365076, 2.692254678787878, 1.018171271284271, 1.4818620048840043, 1.386886537518038, 2.6559274444444454, 1.3936918345043847, 2.6006464511904763, 2.5803907097041843, 0.6871040396825399, 1.9383378924963932, 3.285882506940839, 3.880593144945889, 0.9758511994949498, 2.331278902756132, 2.5900910562770565, 4.277590971904761, 1.2436914518537021, 4.2320565089105315, 0.5091832619047619, 1.2513507539682538, 2.1085041190476193, 4.138415680468972, 1.2050423390775893, 1.4878504795815295, 2.706006987777777, 4.87891798663919, 1.0702860061327568, 3.664236229264068, 1.6549377091797088, 2.4089531071428567, 2.4117000202020207, 0.5426928974358973, 1.11794879967255, 1.1727144209679206, 3.6411951563275595, 1.417052687229437, 2.417430031363082, 1.1051415396825395, 2.7322086753246753, 1.5250586879509367, 2.276699576118326, 1.6445765840548336, 1.9838682722222227, 1.095454953823954, 0.8077419220779223, 2.647637743811743, 2.576082028249528, 1.271068950937951, 1.9033581948051943, 1.8016215000000002, 1.9637555804242988, 1.651217444444445, 1.318226882756133, 2.7744503794191915, 1.3005526017316016, 1.5649185389610387, 3.030605390396827, 1.4791216814574315, 3.302288207911256, 2.352719269272116, 1.6810586240259746, 1.5995361883116883, 3.176802604242979, 2.0801518460317463, 2.3989333662698415, 0.7125813662726164, 2.8477931839285713, 2.7573826597763347, 1.989912752337663, 2.6887282500000014, 2.3834929015151527, 1.6911032038239546, 1.8370067214452215, 1.8965248221500732, 1.5888514490909091, 1.9497059603174598, 0.5253421085858586, 3.429113681526252, 3.8561232855158702, 1.2451325634920634, 1.1571494231601733, 1.6599792979797985, 2.463442402874902, 0.986366550865801, 0.9166066233766239, 0.9318934862914859, 2.0218953174603174, 3.2860487149278494, 1.6049340108502603, 2.8774123869408363, 2.63188521531746, 1.6917467658730154, 1.9367358065079372, 2.231551721239872, 1.0501081634199136, 2.6144400516516813, 0.5023894240620492, 2.5370037285714284, 0.8567298055555557, 0.49669784217171725, 2.715369346168832, 2.1890944456709955, 0.6321495627705626, 2.7121750241508487, 2.203812501587301, 1.8040318458333329, 4.489411326399709, 0.6724836150793654, 1.4161615844155846, 3.8446632697799434, 2.831712161782661, 1.2234016525974025, 1.4136761064213557, 0.9072071159396161, 1.5876932811355309, 1.5176578242035743, 2.066938269913419, 1.3174355840548342, 1.2481768928571426, 2.597726835461758, 0.7565492661327563, 1.3325619137806635, 2.1881478707215014, 3.6196151272619064, 2.604641574365078, 2.388348441630592, 1.8900923676046175, 2.268590056309524, 2.219132865079366, 2.716513497106781, 1.031632959401709, 2.5353235634307363, 1.1417685080591633, 1.2531915447330446, 0.8999271439116441, 1.3283646078643572, 1.9696521291486297, 1.0046406922244422, 1.9837725429292936, 1.162781120851371, 3.0552586023809507, 2.528618062240537, 1.6626200869408359, 2.6558261597763346, 4.6779333507647864, 1.4095584715562208, 4.667545346468249, 1.640878634920635, 1.8830618483782888, 1.6589070555555556, 1.526819315565546, 1.275015150623886, 2.495208334776335, 0.6626323119047618, 1.3930605371572875, 3.0553171778571437, 2.3904095794516595, 1.8463759920634915, 0.7419732784992784, 1.0384977853535355, 2.4697907791375293, 2.638114034776335, 2.6259901551010096, 1.7245351237373743, 4.805131157904036, 1.7347504978354973, 0.8085601976911972, 1.1154158563492058, 0.69809022025974, 1.5420888391053393, 3.218783958253968, 1.8243250826118322, 2.3516625004995, 1.1884210180375185, 1.831918375097125, 1.8814613874458874, 1.8494678238705748, 1.3928732063492066, 0.5506382623210125, 3.7666189458333337, 4.576978153722939, 2.7158053179942288, 3.2201574287229437, 2.2932511888888896, 1.309351732683983, 1.2702892088744595, 0.7668652200577202, 1.9021772667388168, 1.2570735277777774, 2.447740222655121, 2.0635314917027414, 0.8915790873015871, 1.8039057988455987, 2.5919250670995666, 4.652213475753964, 1.0251019012376517, 1.3861625104617608, 1.0319984084804084, 0.9755519127128429, 1.5108046168831166, 1.8678454184704179, 1.6211069841269838, 1.4076445587592972, 0.830595553030303, 2.000031046334775, 1.4882391338383834, 3.1504460855699854, 1.3557211277056276, 1.6146147839105338, 3.7552045542460326, 1.639520393578644, 1.169412862914863, 0.8407229094516593, 1.854301115523366, 4.188046053964646, 2.0579645214896214, 1.451711748917748, 1.468309742063492, 1.4612898253968263, 1.742753459595959, 3.034501033150184, 1.9583421590909103, 1.333523147878788, 4.491284237586579, 1.9899807173160178, 1.3569858336940837, 2.422479272680098, 2.9723823391089454, 1.9999636053391052, 0.8357267017149513, 1.4834190215895218, 1.7767283253968251, 2.6410827255339115, 1.405552441919192, 2.2937700949494944, 3.794739788893052, 2.7029704804176373, 1.5406892261904763, 3.273939694682541, 0.8277083582251084, 1.484578266233767, 1.0730161746031748, 2.013288406492396, 3.6595347558549793, 1.8428871981529584, 1.3970959062049066, 2.4867212893290045, 2.6055317418831168, 1.0006924715007217, 4.810222037499991, 4.847517355735923, 0.5983380934343433, 3.0514487377489172, 2.304004012987013, 2.035712895916306, 1.5768131118650797, 2.9816757373015874, 4.003955931334773, 2.7504393252958157, 1.0508411839826837, 2.002743448412698, 2.129839365689866, 1.9648877002164502, 1.1606121040903539, 1.460332376984127, 1.5611278534920638, 2.77028473452381, 2.191668173005051, 2.9599953051046186, 1.5409914725829725, 2.883123826836219, 2.445651615057721, 1.490646195887446, 2.4039812666977465, 1.4835500644078146, 4.827465045425679, 1.9301428625541124, 2.9903347689285704, 1.5615406557331557, 3.143347744081473, 1.0363427925685427, 4.799885488690469, 1.3341803813131314, 2.0727365068542567, 3.3299589626839836, 3.4341200382431465, 0.526213062770563, 3.763375568015873, 2.457826270829725, 1.8179887887667892, 2.0698798676046173, 1.538360897405372, 0.7819745472582973, 1.0773818389388388, 3.6092035385912693, 1.1389319567099572, 4.399589717622098, 3.951184921735209, 2.064412252802752, 1.9543928863636355, 2.1684733119191906, 1.3164425912698412, 1.5665663701298704, 1.781170075757576, 1.189070217893218, 3.9990445032106776, 1.5471513730158721, 1.5686112209595953, 1.1568352211399706, 1.2822487029637029, 1.4755888631646135, 1.5296870805305804, 1.0038653113275615, 3.461667474541016, 1.7939501317848816, 3.5564196243650814, 1.6227329592352095, 3.986319287658729, 1.0738745082972583, 2.7988674567099583, 2.4556068555555557, 2.7135977479131985, 2.8316797387204473, 0.9952162388167385, 1.6526425905483404, 1.6747578416305913, 1.5357258495670996, 2.8551505686147194, 1.3444527304834053, 1.897709945887446, 0.5098416522366521, 1.4358024611471862, 1.0183028589466092, 2.523287802114553, 1.254116690836941, 1.1779919253246756, 1.7783819612887117, 2.8054989223809526, 0.7794631287878788, 2.5615366587301587, 1.9124586976911977, 3.255618364068155, 1.5247910738705748, 1.2866126626984131, 1.7711873780663774, 2.413996932178932, 0.8640432905982905, 2.5400423797258282, 3.2642729020346333, 3.6704598270851365, 1.6573666002886, 1.3648555126984128, 1.0947453762348758, 2.273395682539684, 2.7066452345598844, 1.7415680238095232, 0.9743648759018759, 1.4534756523809522, 1.4317989195093797, 1.3391650259740262, 2.0144560364357873, 1.7131788950216458, 1.7105562737301585, 2.6375349021811525, 0.7445988526515154, 2.228146854920635, 3.3540463531396387, 1.4637260728715733, 1.527253408730159, 4.37361904234127, 1.6304846422222206, 0.5469292607947608, 4.833507409722213, 1.96778940007215, 1.2848855227272729, 2.365374645634921, 2.59162031484127, 1.9360585315656564, 2.1912874642857143, 4.887542677420629, 1.1658898488455984, 1.9186717839105347, 2.0042760165945164, 1.0051226190476188, 1.757912169108669, 1.1575267667610172, 2.523839800995671, 1.0969996117216119, 1.2065028785103784, 1.7825040133477623, 2.015858363023088, 1.2321089404761907, 3.088137555158728, 3.081445263665225, 2.9424007480555563, 1.9981298849206348, 3.430058475209235, 1.634503329761904, 1.8070917254689758, 3.2191702021789323, 1.8947889376984128, 3.9915797730555567, 4.580875964456654, 2.0433467662337663, 4.749798663650786, 1.4659068965223665, 1.0400378510101012, 4.262736310119047, 2.2224800165945164, 1.645470083333334, 4.566880525277776, 1.8656447514430012, 3.983361864574316, 2.927233885970418, 1.5133493607503608, 2.1158599855699864, 1.3444623950216452, 2.1470144004329, 0.8575323336940838, 1.0696055501442996, 2.1322432857142855, 1.6889511807359312, 1.8034426991341987, 1.8744484611291476, 3.1591855131024533, 2.3811950407647906, 0.5896137182539682, 1.0145970793650796, 1.8965597115151513, 2.056583241341991, 1.500821088383838, 3.04645689617244, 1.370746205266956, 1.6910021484848485, 0.5189322777777778, 3.5042277750396824, 2.410963855642137, 0.774509841269841, 1.197396417388167, 4.867752425396818, 0.6133006388888887, 3.783306884101731, 2.4138099228174594, 2.480925013200688, 4.105406292629869, 0.7568396260128759, 2.3398280841353096, 1.541270806998557, 2.4845223174603177, 1.8975986608669109, 2.2431828302808303, 0.922109416666667, 1.1606951587301586, 3.9195475395490633, 2.2937475509768013, 1.7594023237484735, 1.5477620147907647, 1.8476978699328444, 1.620649461760462, 1.6020881475468978, 1.258822785769786, 0.9127891450216454, 1.8784809801587299, 0.8337906865079368, 1.2619296208513708, 2.891247282460318, 0.9313771085858582, 2.5239123119769116, 1.343428769064269, 1.4386311230158733, 1.4413098427128426, 0.7405623683261185, 3.534723704971139, 1.3441500873015872, 2.0190881689449456, 3.8754779442063487, 2.397817212229438, 0.8145221298556996, 3.3962741688156304, 3.3116333368026414, 1.588391089466089, 1.518202012987013, 1.765627983766233, 2.9100670148515366, 2.60662920111111, 2.083218686507937, 2.4943714188311685, 1.4966132442279936, 1.6061473099206354, 2.0348367036075037, 2.5945934080230875, 1.9645985286102785, 2.298141158730159, 2.546440168531746, 1.0944810165945165, 1.0532128831168834, 3.693747765404041, 1.5978423611111108, 1.7291399404761905, 4.986109334999989, 3.459050313003941, 1.0680333113997111, 1.2227188371753253, 1.443359706349206, 1.5000451875901877, 2.179599325396825, 1.8322348268148512, 1.286313900152625, 1.9204800710678205, 1.3721532564935064, 3.1847432102777775, 2.0918309123665235, 2.0888364505217, 0.6860738602453103, 2.424508021645021, 1.385545793761794, 1.4966194365079366, 2.80382078073593, 1.4238129024309023, 2.5951309177333775, 0.592341662864913, 2.103372699242424, 1.3447487142857142, 1.466242835497836, 2.6636077698412692, 1.4467125744588742, 2.8602423828682424, 1.3796881717171714, 2.949033403849205, 3.549469206507936, 2.8995230101659444, 0.5312815277500279, 3.6120065596825413, 3.366461816306471, 3.4310052364826835, 2.0635989520202016, 1.7619215472582974, 2.2621500285714276, 1.2614361190476193, 2.411873908369409, 2.0352433334776334, 3.1528758850793657, 0.6749954054834053, 0.5859752577533578, 0.9526897997557999, 1.9147614098124104, 0.5989733690476189, 2.872745815833334, 1.975862253968254, 2.054617968253968, 2.8085462401984125, 3.805236212752525, 2.0005819052669556, 1.1920670284992783, 3.183978690732878, 1.0271469874847374, 1.3032126186868689, 0.569469076007326, 1.6349848102453097, 1.7625243948828941, 2.916368171916694, 1.626608934704185, 0.9872211969141966, 3.5851560017063493, 2.959917146031746, 1.379707217171717, 3.541800854452492, 1.8513089837662335, 4.325031943718778, 4.776327966486283, 2.853808106511545, 3.277474965674605, 2.0977927773304477, 2.368587817626817, 0.8764462597402598, 1.8780356367243858, 2.819770910173159, 1.7679298243145747, 2.1484768625541126, 1.7751487976190479, 2.238829587662338, 2.2683346341486295, 1.2099193674983348, 1.1782761843253966, 1.1133311238816739, 0.7758229048729048, 1.0345272216117218, 2.2783163600288607, 1.2764204426406927, 1.6946171666666654, 2.3053040212842704, 4.22272557284632, 0.701233347041847, 1.109186070485071, 4.126156351187143, 0.7059768175435674, 1.05144675013875, 2.4255151644993895, 3.759749094375901, 2.884095123694085, 1.7910140429292931, 0.7088553701853705, 2.0601504730519484, 1.6361900582215005, 1.8585297930125426, 2.240279404639805, 1.3449387630147631, 3.1611854712373746, 3.5263033290872996, 1.5916004296681097, 2.47516770021645, 2.025808388888889, 2.833813438877789, 3.3988242037409804, 1.5100027350149845, 2.704302325793651, 0.7105567229437226, 2.2754657141208794, 2.376519505508657, 3.5671642849206346, 1.4279942587662342, 1.8359026031746026, 3.539982491132756, 3.6879616717532473, 2.161142127878788, 1.102718215367966, 4.931318184642852, 0.8648022121212126, 1.6452847424242423, 0.5905838531746032, 3.1333306949206365, 3.72577486, 2.312094709621212, 1.4469332222222218, 2.3789189194128086, 1.6826126447655119, 1.615693321428571, 0.8864012222222227, 2.295318656331169, 2.6395035365079385, 0.8487401212121212, 0.9912008232323238, 3.456758185518927, 5.000009999999989, 1.1440684105339105, 2.2217353088023084, 4.980128985714276, 2.3451149940836937, 3.573172683845597, 2.032741487330447, 1.5268543531746033, 1.3821293167388164, 3.5004584060317443, 1.5291803228160734, 0.7984703743478745, 0.8893103585858588, 3.0175387518073595, 2.0232290256132752, 2.721156202142858, 0.9933826803751803, 2.5013840659340656, 2.2826753860028863, 0.8387387341269842, 3.526544481727994, 1.6887526966089466, 2.3022658699633696, 3.1938985799927844, 2.0207945139682533, 0.983858897907648, 4.10276763356782, 0.9323028687423691, 4.004654281197691, 4.712384829880953, 0.5950003781496279, 4.610376571576475, 2.1620063771428573, 2.6620541474791874, 1.616584140692641, 3.1699063534598726, 1.7620137023809526, 2.4009874007936514, 1.5614296349206354, 3.1827683415007226, 1.1893881850649353, 2.8749769823210136, 2.8492167624963924, 1.2516138730158726, 3.9951600286474633, 0.9264534080086583, 2.1408855584415587, 1.4588288481240983, 3.048546190823621, 1.2701879776334781, 1.824370844877345, 1.6922176168831158, 3.7744781896031725, 2.0551677402597406, 1.2549084047619046, 2.962010359118104, 1.8192082615440097, 2.0898996259199136, 2.864551546906427, 1.199909997835498, 1.558895990079365, 1.7085200591630596, 2.0594126488600297, 2.223752515151516, 3.1229585470562777, 2.738197904626486, 1.3903711690476188, 1.6902238437395938, 0.9821556544011546, 1.7395392063492054, 1.5678110840548343, 1.4893661085858592, 3.903891884657286, 0.7652610955988454, 3.6570190720634916, 1.9459007712842706, 1.270502084249085, 1.9222611876623381, 1.5541247989371738, 1.128561778138528, 2.3240402583139086, 2.595149551587302, 0.701415167277167, 4.96935929999999, 1.8156003618326122, 1.3628695689033188, 1.2576896389749144, 2.3246487114718617, 3.032961025090188, 0.7813360979853479, 2.673575939087302, 2.492443952409812, 1.4116824101731604, 0.8204785822510822, 2.6661757955627707, 2.837497017696192, 1.7453222626262628, 3.806711297651515, 1.5417810656565658, 1.581024915223665, 1.209628784493284, 2.2463236031313127, 1.136731178571428, 1.5437547225274728, 1.6892384664502165, 2.229322984848485, 0.8105594101731604, 0.5574903770673771, 1.7656704166666666, 0.9352380810300817, 1.0233044567932068, 1.3612953686868692, 1.5106119404761913, 1.714480246031746, 1.1079242041569544, 0.4893759613025863, 0.9584008668831165, 1.5990507489177488, 1.3303602579365077, 2.637701073827561, 2.068699669191919, 1.0529932485569986, 2.075528996911977, 2.0509993167124536, 1.9114090551948044, 2.4641277205230883, 1.6329611129148622, 1.7514851327561325, 1.2527755533910534, 2.1795196014862914, 2.3887395602453108, 1.9626652063492065, 1.6584958899711402, 1.938615677448107, 1.4517542422510823, 1.423972882034632, 1.5509620257936512, 1.0316077402597406, 0.6206833458208457, 2.563210014346764, 4.036840692857143, 1.4521547790404048, 1.5429050551948054, 1.8486489012409808, 1.819960878968254, 2.8792550859618156, 1.5287441659451662, 4.99958747499999, 2.498563136141637, 2.4758477225829734, 2.300109837409812, 2.6374457267343763, 1.646201158073593, 1.6806718470418465, 1.2314403549783548, 3.575098664246031, 1.4602219715007212, 2.041069861471861, 2.3539978847330443, 3.5225849147510813, 2.263871753852813, 0.6696738975468972, 1.7492239646464645, 2.2494271304989453, 1.5471526809856817, 3.4995656788109106, 0.8709778455988457, 1.0596237518037512, 1.6470290363247866, 1.5785643722943723, 1.4889073452380943, 1.511047287740037, 3.9876985973845596, 3.804366620468976, 3.818811391746031, 3.3995409223232325, 4.971372974999991, 4.519643452596568, 1.7749655418470416, 0.5448189314574315, 2.0939941702741702, 2.8917275257720068, 1.357171737734487, 2.9566514458333324, 1.4691966338383837, 3.0641169349206354, 1.8699575522255527, 1.328695608744589, 1.2577595119047615, 2.0821647982142846, 2.3040219944777443, 1.6099184931457433, 2.099037019105338, 2.245402417893218, 1.2389792204184702, 0.8393125952380952, 1.827297427849927, 3.8582383058730145, 2.022948826007327, 3.3400003270879126, 1.3613769574314576, 2.0278659726334767, 2.0032250367965374, 1.0868409112554114, 2.2601781424963927, 0.7265207011183263, 2.161170990259739, 1.264664275613276, 0.5369153859751361, 1.1210025073260077, 3.3374463233089138, 1.3525524743867245, 1.3509711267388167, 2.2612297051587302, 1.6341344415584413, 1.8449866031746038, 1.1698280833333337, 3.17302374411977, 1.9679392175602177, 1.8885865522893779, 3.4132625455230867, 0.7479135808080807, 1.8108827824675329, 2.2800871940836944, 0.9876323016594519, 1.870185189754691, 3.0250198544660885, 1.437729666305916, 2.5039744801587305, 1.1968906514041517, 2.421730585281385, 1.9055345162337658, 1.1594885476190475, 3.5535131821572876, 2.5293942790764787, 0.7712926401551228, 1.7811839797979798, 0.9915794953102456, 1.0648522026862028, 1.9547055898268406, 3.496107581323955, 1.126129185714286, 2.794325235584415, 1.7516584789932288, 5.000009999999989, 2.06503686976912, 0.8826584617604621, 2.4037197431457433, 3.1788103966233763, 0.9440889670329669, 1.1712447702020206, 0.7934398979076478, 0.5898266966089468, 2.4830758704906204, 2.0770845667388174, 3.4295079359127003, 1.5376840685425686, 2.8754717176587303, 2.2348219646464647, 2.450063161111111, 3.041995619047618, 1.7769351403318903, 1.1122320873015874, 1.3201263516483512, 1.830437228306138, 1.5703634325396834, 0.9979097976190472, 1.0580972686202683, 1.6728720478021986, 0.6117122000396827, 2.447939292929293, 0.8557517738095242, 1.682011372294373, 3.2306129523015863, 2.8338392809487725, 0.6504012294372293, 1.258421257936507, 1.7720910751443009, 1.1092757619047617, 3.0554103756349207, 4.005890366839825, 2.174948555194805, 0.8155486410533911, 2.5009330962481964, 1.0674080396825398, 0.9624021666666664, 2.640930321428572, 2.271745558549784, 1.103557882337662, 1.4716052142857148, 1.6429070357936515, 1.5919989018759022, 3.8522096397835504, 1.6472926452020207, 1.1690076161616165, 1.4794037857142857, 1.9862020119047616, 1.6339414235209242, 3.811258616897548, 1.6131277812742812, 1.0969177853535357, 0.8613184857087357, 2.3418685962898214, 4.066228993174599, 2.275968796536796, 1.1058600811688313, 3.634533041735208, 1.1139679848484847, 3.082750532573261, 2.996341192341269, 1.9157633762626265, 3.8002962243642457, 2.6320034343434338, 0.8478619821567323, 2.829248445295816, 1.4570781868686873, 1.9809274975357973, 1.1082988513708514, 2.8752633960389615, 0.7089164722222221, 2.496972161647241, 3.1474283649406147, 0.6710990351037849, 1.933841096262072, 0.8393144512987014, 2.2205331634920635, 1.308512860750361, 2.863089458373015, 1.169572444338994, 2.3762129036796527, 1.4670928694083691, 3.4139864851515154, 1.2731538008658012, 1.0322957182539678, 1.3715480873015868, 2.0702100092496383, 1.5177760406709953, 0.6059674603174602, 1.7739331933621936, 1.9004414132034628, 1.7756870479076485, 2.2095769660137083, 2.4147955252525257, 2.4353592579545453, 1.367718358225108, 2.53600237234238, 1.7242070472582973, 3.068256866857866, 1.0782350321067826, 0.8187139007936508, 2.3366241878996012, 0.7685552225541125, 3.0975621610317456, 1.4286091065079365, 1.6960990010822514, 1.0414724754689757, 1.9278272384559885, 3.5125047344841267, 1.6542121219336219, 1.1445480039682538, 4.479157693095236, 3.405512941018149, 2.1875632976190484, 0.7256200649350647, 1.6201539929942284, 3.572517610702076, 4.2023922230158695, 0.6899745202020198, 3.8195726320382404, 2.5601039637229444, 1.5732378470418467, 1.8510634668215127, 0.8618253535950157, 1.682302317063492, 2.336319262698413, 3.7632582262698424, 1.424787074603175, 0.5939550667388167, 1.3812538629148634, 2.8341747388095233, 2.1872164970707066, 0.6533570782828281, 1.4028837988400493, 2.5655909931457437, 1.1086704296536796, 2.054932142857142, 0.6460095919913422, 1.1424599852092354, 2.231833157647907, 3.412827314787157, 1.2296765904373403, 1.5926967774170273, 0.8499060501298702, 2.3554147019092015, 2.9830553593434352, 1.151066010786436, 2.1023124498557, 2.3293034391774894, 1.4644979215151517, 2.4346261666666664, 1.4861237218614716, 2.411126574199134, 1.7238512896825393, 1.6644094650072159, 1.4068521947496948, 2.0073122843795095, 1.922511231962482, 1.8197863905844158, 2.1543038319985564, 3.3287124778049737, 3.409171997770564, 1.75790086904762, 2.4349409007936504, 2.3022269419191925, 4.305221750158729, 2.1655970082700633, 2.442770774603175, 0.6185110003330004, 1.8478084130591637, 1.7443823124098135, 1.2392698838383842, 1.5208569908702407, 2.1339317313852817, 1.4944795209235207, 3.278504200137085, 2.1537149134199147, 2.383530268759019, 1.5167665952380947, 1.5727399042901544, 4.838148316666657, 2.5946441204906203, 2.334783502164502, 2.1276846581751596, 1.7988313412698416, 2.2078497958152967, 1.3711603282828284, 3.424364936825397, 3.1637949949567092, 1.506515503968255, 3.6395103872943726, 1.9237389147041843, 1.5678063253968255, 3.742780257723665, 2.6921876457819955, 1.4744610274170271, 0.8395518625541127, 2.9157350966378073, 2.8183769499783557, 3.444392168351371, 0.9669312067890439, 2.033203137085137, 1.4297609276556775, 1.4770391847041844, 1.4188744347041848, 0.6240033387445887, 1.4148350598845603, 2.932857518924964, 1.7444758650793646, 2.0872574742479726, 1.115663725552226, 1.9824127272727259, 2.627590071067821, 1.6220655665367965, 1.768096533549783, 2.4382557190115435, 0.7435137301892552, 1.4850760230880224, 1.9840318168650801, 3.9046303223412697, 1.7219473924963933, 2.0477114942099566, 3.45042816569264, 1.7558402497619048, 1.3001178809523806, 2.0045424759962263, 2.795864723665224, 3.5755714548629167, 2.154915943046675, 1.4936237788600286, 1.251932320346321, 2.9001469185569992, 3.0670094789682536, 4.306327405277777, 1.8262015768398272, 1.856167916666667, 0.8585391719391722, 1.3596857049062052, 2.6941595155122657, 1.904447585497835, 2.696215532265512, 3.359603573097458, 2.3313899628427124, 0.7333276212676215, 1.8507927106782107, 1.2104598733211236, 2.9910740721428573, 1.6928791688311693, 1.1055810445165946, 2.39331601950827, 0.7535760894660897, 1.8955941071428573, 2.098239538672439, 3.1962094899375626, 3.6222373229548213, 2.2429004374531023, 1.2945488701298695, 3.177609818744035, 1.2657045485569987, 2.1942421388888884, 1.2484452774170272, 1.6292786471861473, 1.09909074025974, 3.7298596492352103, 0.7078125775613278, 1.214279056873127, 2.3464910851370857, 2.278517145598846, 1.9789566594516597, 2.3091544880591646, 3.934849729971417, 2.28215195959596, 0.8109369762912089, 2.6032850456709964, 1.1183251847041853, 0.5170304300144299, 1.9933077932900434, 0.7198543346653343, 3.2384546249639254, 1.9144151812076817, 2.802989560317461, 2.0540346619047622, 0.896203727633478, 0.893959207070707, 1.4913748571428567, 1.3025994700577204, 2.0045901025180375, 1.4448311392496394, 0.8312928297258299, 2.0428147000865806, 0.6966795000000002, 1.917022319347319, 1.6681451835664334, 1.700585250000001, 0.8641347088744584, 1.7217323222222225, 1.17327561016761, 1.8803666748251744, 0.9171801031746035, 1.5137681080586083, 2.4754370919913424, 2.782559623015873, 2.2477747309523806, 1.4735667647907644, 2.3137692680375173, 3.3761810278174598, 0.9606204512987013, 1.4818245873015876, 1.5844281349206337, 2.8330650857539683, 1.9456181192063484, 1.1345807175047178, 1.0489661320346317, 1.6716265202020204, 1.91603625915751, 0.7564687027417025, 1.45972565007215, 2.569980794733045, 1.7718011930014423, 1.7688312950937948, 1.54779156987457, 1.9075977976190475, 1.7456785472582976, 2.088811346349205, 1.1823241471861472, 1.7641202010489516, 2.2155876468253966, 1.3044925169552664, 1.7970707839105335, 3.987428894433622, 1.420823027777778, 0.8843485555555556, 2.546210892100122, 4.053787627373738, 1.1876745522255518, 1.0596645356587853, 1.8829530988455994, 2.716532296814297, 1.019307228188478, 1.5198748134920637, 4.5487358314682504, 1.088862264430014, 3.8913967479653695, 1.1702686976911978, 1.1801616295093798, 1.969807717489178, 4.166151002029913, 4.98011797499999, 2.8985153978671314, 1.1276790411255408, 2.138261624603175, 1.213591244505494, 1.7436472514430015, 1.9065117815440125, 1.6826265652958154, 1.613975876984127, 0.7679492028527025, 1.7396818318903322, 2.505229942279942, 0.9827646323953825, 4.553090104715007, 1.5065086976911979, 2.30080770904096, 1.1964358751803759, 1.503248956959706, 2.0561082026479083, 0.6871142698912197, 1.5493238055555556, 0.5721173531746031, 2.5219181331168823, 3.8262043850613265, 3.8198268321789333, 2.7295377042679547, 0.7791362051282051, 3.5942626729731377, 0.7034876688311685, 0.6155710483405484, 1.5392227884615384, 0.8321904722222229, 1.1708238900821402, 0.6767885187590186, 1.1117776295093793, 2.4969112499999992, 2.012230922582974, 2.5183253543109667, 1.9378129437229439, 0.8517319520202018, 3.2257160193362187, 0.9130612821622822, 2.092759545815295, 0.898231483405483, 2.7706709660786455, 2.8467315361616166, 1.3349376391053394, 0.7129359411976911, 1.3310858813131317, 1.186998319264069, 1.839323266594516, 2.8696587327561325, 2.8745717724242428, 1.28299454040404, 1.7427840654900657, 0.988287330808081, 1.7846225357142862, 1.0906888261183263, 4.505394662828282, 4.699588156666663, 1.4183275582473087, 0.7391593917748918, 2.8146264959379503, 2.1868940446969707, 2.570476175296926, 1.7019950460650461, 1.722918170779221, 0.9810693017604619, 4.421636080815295, 1.100963732936508, 2.5779388849206346, 1.2763222222222226, 3.9166710063911103, 1.7522478740981242, 1.80446535064935, 1.8511112472405373, 1.1257950750360743, 1.3465432178099679, 1.8320604978354973, 3.0790849551984114, 1.7520943535353535, 0.6552132134199132, 1.2213387936507938, 1.62478856024531, 1.872048378066378, 1.2826966862914864, 1.6939983711399709, 3.8196054790548324, 1.9223654077344876, 2.1468373975468977, 0.7191756666666664, 1.9205342173881672, 1.9598335182178943, 0.9849237550505048, 0.6965487063492065, 0.9793707015207009, 1.0787845636585638, 2.8848599132936505, 2.684462528239538, 2.5949588768578633, 1.2418952261904754, 2.1219254434487733, 0.6882972395937392, 1.3785441551226543, 2.551397766178266, 3.616097707222222, 2.1876508492063484, 2.670873922103175, 4.079072332875182, 2.2593993466810955, 3.360297505238094, 1.7503062602106232, 2.389628395021644, 1.826228652458653, 1.192923847485848, 2.078333277626263, 3.3682607616161615, 2.0633754202741694, 4.5942257781746, 2.3374012632936503, 0.8959330786158284, 2.9953655615873016, 3.499994720101012, 1.9811435448412695, 0.5397168986291486, 0.9232232510822507, 1.7870037464202462, 1.2643302662337668, 1.7519429455266953, 1.3995249083694083, 1.192502921633922, 3.503979151269843, 2.8928318276090565, 1.1984258631646132, 3.2728960239826845, 1.3045021782661785, 0.7341416807081806, 1.3730364163059159, 2.2952844880952363, 2.0222492702020203, 3.12395048987679, 1.1809698888888887, 1.0155370721500723, 1.3273139595959593, 2.6516771618226227, 4.009068284650071, 3.928538814731655, 1.0933112247474746, 1.2105668878066376, 1.9590540717893203, 1.6540572191544565, 1.0984316236263738, 0.8127607174214674, 3.8545228035150942, 2.275086484126983, 3.2904111395129876, 2.124545996031747, 4.274642895634919, 1.4120312616666664, 0.9279394971139975, 0.7613945187590191, 1.6540581497114006, 1.7315215946969698, 1.2324261827922083, 0.8968190804473305, 2.0028313583638573, 1.4136464188311686, 0.719814502994228, 4.415834680619658, 2.175375035093796, 1.5384227204184706, 4.545180776915579, 3.219704708845598, 3.7152397320238095, 2.818622571139971, 1.0581065201465205, 1.5074594215007213, 2.8190893240259736, 2.7302844929237433, 0.9985925137085139, 0.9734028015873015, 2.2304230764935067, 1.8617716749639246, 4.017635949575981, 3.405229750079366, 2.267117756525974, 1.8257185116161623, 4.601969780025251, 2.6060535764790766, 0.9356127384559885, 1.2839046865079362, 1.1781864296536795, 0.7021324487734488, 2.0060212411399707, 1.0944015526695527, 1.3819620883838382, 1.567880892496393, 1.439253015873016, 4.767822746666663, 0.874045329810712, 1.7237077158369403, 2.04146638095238, 1.9463367142857138, 1.851220955862193, 3.1053576093592516, 2.856553078650794, 1.0112378612831612, 1.2705597664280162, 2.4112828055555555, 3.6295484580844146, 1.4100478332792208, 0.5963971560661562, 0.6743465461760462, 1.2048549556277053, 2.0222969444444447, 1.4640706448917749, 1.7126001075036077, 3.063334137712287, 3.4882029883161305, 2.1533614727777772, 0.8194053661616155, 3.0927814613275615, 1.8298557929181922, 1.1211619906204906, 1.396046102092352, 0.6289020215340215, 1.1269696237373739, 2.0787988142135645, 1.1405243044733049, 1.1602882128427132, 1.01148535972361, 0.9895461666666668, 1.065379261904762, 1.0119764261016764, 1.625678988095239, 1.065043983498723, 1.2007893535353533, 1.7669508120213124, 1.2468738559523815, 1.601015070346319, 1.6929216114718608, 1.0407713435730936, 0.7911133427128426, 1.5431591403318903, 0.9892403344155841, 0.5576140112942614, 0.9782031161061164, 1.869098916666666, 2.274665538600288, 4.964321372142847, 1.4036659300144307, 1.0609976981074483, 0.7943256854256856, 0.718883961149961, 1.6243024570707063, 3.320439939300144, 2.2337147936507935, 2.732094746240981, 1.0645871470196469, 1.7611114044011547, 2.8816607948412702, 2.630178993253968, 0.866731273809524, 2.153284074675325, 1.0166543112165618, 0.9057440753968256, 0.9995271984126985, 2.378877934676434, 3.358090543185425, 3.5642616892352073, 2.1806113686507933, 1.2609748228138529, 1.9737405419685874, 1.22361385975136, 1.2071237792207794, 2.5685377140476193, 4.3423756551442985, 1.3376684090909088, 1.7640478790376277, 3.3088631873520935, 3.2044188933044726, 1.6807540974025983, 2.08665416997114, 0.9311093412698412, 0.4990332126839826, 2.6105526174386733, 2.1123626929181922, 4.811078397103167, 4.312642661746031, 2.0983195123265617, 2.007922074271285, 1.3005564801587304, 4.079773542954544, 1.2023585844155846, 2.3193763535353535, 1.2739324444444442, 1.2277279971139972, 1.9602104094516586, 0.938114407287157, 1.7515037606349213, 2.2370845508658013, 4.329440654209957, 1.869518293650794, 0.9811651025918527, 2.084113572871572, 0.8448816955266956, 2.196947448412699, 3.458324339300144, 2.5011862826984133, 1.9365815562770567, 0.9337209415584421, 1.7737355801587305, 2.6113305024458877, 0.7224926304528805, 2.755507185526696, 1.175922098124098, 1.8366691194083693, 1.3040461980519478, 2.3914781252442, 4.178824488152958, 2.4286598682722835, 1.7206155288744598, 1.6426787085137082, 2.603502825396825, 1.6418117348484844, 4.833720580595231, 2.0215016984126977, 1.5274888621933633, 2.316243925353535, 1.618742778138529, 3.944448531150792, 1.4338673015873016, 3.837680602485571, 0.8461723716666664, 3.705108099960317, 3.4100284290873013, 4.117180734621211, 1.5471130891053386, 4.998479949999989, 1.686400585119047, 2.089923211904762, 1.0674549603174603, 1.2242240814185812, 4.281308505357142, 3.0809501992063497, 0.7374122117604618, 2.408797465007215, 2.2502893398268404, 2.633358688048063, 2.291673024339828, 3.1144895642424246, 0.7769274155844157, 1.4784208304473305, 0.9463992093434347, 2.205819186507937, 1.737549185122655, 1.0977461414141414, 1.9549349264069265, 1.4755146778499273, 1.0279755746753247, 1.8896027914862925, 2.0624176871933613, 1.4003414999999992, 1.019804444444444, 3.0369328974925076, 4.61008496082917, 1.5747589808802305, 3.524590053866133, 1.5221050493867248, 2.1765525501443, 2.1950194661471865, 1.0444628894444445, 1.3532146046176046, 2.0424378611111123, 3.490707675242536, 2.2299534751082257, 1.7617373870129873, 3.8246201195779213, 3.271240424552669, 1.8658519195526697, 0.771408711760462, 1.1410548605006101, 1.231475123015873, 2.4652647488095236, 1.5652999592352095, 2.5834994992785005, 1.518301163888889, 2.08861789537518, 1.417578374386724, 1.4887442261904755, 2.3350504603174604, 1.2431811796536794, 1.9418653185425683, 2.6984202133116884, 1.718540912337663, 3.440427656580087, 3.1664731257575762, 1.4024075162615168, 2.541878003896103, 1.1505572480158728, 1.6639633189033187, 1.404930420634921, 1.7142211641414136, 0.9316576468253969, 1.415365373015873, 2.6274670907647906, 3.410718768365801, 2.6520090634920632, 0.9935319044011551, 3.285248171753247, 2.9545555114574324, 1.6318803428571436, 1.297212165223665, 0.9659385341880341, 1.9899753163780665, 2.344253400952381, 1.9426737896825401, 2.796311260018038, 0.7688895155122656, 2.1888811865079365, 1.1552708015873014, 1.107007012265512, 1.7136016637806635, 4.834779680714278, 2.0676444028643584, 2.9505043274278484, 3.6358105841414137, 2.788022579758297, 0.5626131049783549, 3.3501307370227, 1.3719912741702742, 2.8507634370382395, 1.6237149339826837, 1.3072181614357867, 4.528994621410532, 1.696585061327562, 2.520665904761906, 1.8634644285714288, 0.7325292604617603, 4.039622421349203, 1.5678226255411252, 1.1185847774447775, 3.448254186969697, 1.8847514246031747, 0.9318178746253747, 1.0284534574314572, 2.075259206435787, 2.6601581965256957, 2.440262469660894, 3.8720236995815287, 3.4884935771284287, 1.3940118997546898, 2.208827437590188, 1.3769013437950934, 2.3389080540043277, 2.698236001875901, 1.1216099880952377, 3.4272860196392503, 2.877110070299423, 2.385344451346432, 0.9889812481962486, 1.3135842950937953, 1.600414308802309, 1.5079316294261296, 2.16102918040293, 0.88743641025641, 1.618144613275613, 1.9866452746975238, 1.6925197619047625, 2.3258254043179036, 2.3471876253246755, 1.9948947748917747, 2.4488895925518928, 2.9256683347041856, 1.9510157332863225, 1.2342599052669547, 2.7304881123015874, 1.79335415945166, 2.710627257797758, 1.3323709099999994, 1.7067661558164053, 2.4532588333333334, 1.7369558531746032, 1.7358849191919186, 3.265149322362916, 0.7925752445887446, 2.330096037240537, 2.9202205597546884, 1.9781556931313127, 1.8964549521589527, 3.5473826365007195, 1.859445521048118, 2.0737822945165947, 4.941957330833322, 2.024333607142857, 2.1977448808080813, 1.7251505056887557, 1.435019712481962, 2.206219257734487, 2.420188352453103, 2.5306670369408355, 0.5154186944444444, 0.9385569462481963, 3.8472566911724386, 1.1335349516594515, 1.476451389249639, 3.981879213984072, 2.3944793382251093, 1.4770097748917752, 0.9034141273448774, 2.5942302712842706, 1.7021521568181817, 2.373719399743035, 1.8447068849206352, 1.908533285353535, 2.317676652936508, 3.3986732835525606, 1.234041973665224, 1.1604504958097455, 2.2816169722222224, 4.430337120024418, 2.8918728150000006, 2.2553476169191917, 1.8678997201409695, 3.557165999054835, 2.8245153305139308, 2.854218559444444, 2.9281114430952386, 1.7802751818037519, 2.493702204761904, 1.9159877957936502, 2.5436904587678995, 0.5309824783827283, 2.1648679476911976, 1.6416666533189024, 2.029123064935065, 2.0395430299145305, 2.131303706349206, 1.1829761785714288, 1.0720886901154398, 1.3829506053391054, 2.111278844155843, 0.8438026049783551, 1.0525162161727164, 0.8588087210012212, 1.3003461063381065, 2.5263516991341985, 0.5245858001443001, 1.7664417784992776, 1.2830397118992118, 1.8389077334609838, 2.521946242247474, 3.2489200869841266, 2.565461783189034, 2.650170506940836, 1.0772644193584195, 4.302974548888887, 2.0954933892496386, 1.5141523783161284, 1.8730717564935064, 3.3002494318650797, 1.8099861782106783, 1.0748718571151072, 1.367206393356643, 1.6258054246031748, 1.6157740081585081, 1.5960207676767675, 1.5269205717893224, 1.1202872067099563, 1.7177525891053387, 0.8864328097180593, 1.6475830135420133, 1.8914453233766233, 1.6936363589466086, 1.5695216529581524, 2.8541630158261184, 1.4983129065656564, 1.723338537301587, 0.6994848714285713, 2.1220410202020203, 1.4837555299422798, 1.5911466238705736, 1.0824452058219556, 0.788488367965368, 1.9265164240259744, 2.505166923338328, 1.8745229801587306, 1.7526209706959706, 1.9993048095238097, 2.6379547301587287, 1.8749138777056271, 1.8455670393578643, 2.528285272481962, 1.868742586219337, 2.1637847142857143, 4.932089854166658, 0.7185226659451658, 3.3413532053751824, 4.029853447521645, 1.090552645937396, 0.6897478323065827, 0.9900398910533909, 0.7701075050505055, 2.5828303586913086, 1.6919532919913414, 3.165778861752691, 3.759194803437952, 1.6718545173992674, 1.1167124510212014, 4.198348564422798, 4.317450763109669, 2.1859358575036074, 2.0280194499389506, 2.0181263765678765, 0.6337375436507937, 2.803220023737373, 1.7169662997835495, 1.1019675732323233, 4.625960594419189, 0.982121646825397, 1.4117922222222221, 4.150103197857141, 4.7911862903463165, 2.2746424437229447, 2.0139329193145734, 4.928007953690465, 0.700305521284271, 1.674022580808082, 1.2343289246031746, 3.9192195921428583, 1.9114977269813522, 0.8640059187479189, 1.7264542055555558, 2.951187978174603, 1.7308013603896095, 4.195003394592077, 1.7123455589466081, 2.787953842352092, 2.5482847999999994, 1.9912364633838378, 1.2135555750360745, 1.753933055402931, 2.183069811652236, 1.4798416923076922, 1.8292273142857147, 1.619994663780664, 1.787341071262071, 1.140282563492063, 0.7927283582251082, 4.950268410952373, 1.2189616865079365, 0.9784191666666666, 0.8082207696825395, 3.375760778492065, 0.9398736757536911, 1.6976047431457422, 2.1794629069264073, 1.2273511849816847, 1.4491370876623377, 1.5171170190642687, 2.148450801226551, 1.546804455808081, 1.6287193809523817, 1.9144588174603172, 0.7515541998556998, 1.5904823524531024, 2.321393772005771, 1.8985581356709957, 4.997979966666655, 2.288447490115441, 1.1845764640637142, 3.6559856648873366, 1.845413369047619, 1.701089837878788, 1.0383619051226551, 1.7617095169552672, 2.0426610818975464, 1.9854390405483398, 1.7319175346320344, 2.196725217171718, 0.8761412896825399, 1.501430624819625, 3.2053491607936495, 3.8319600002020207, 4.701374854999996, 0.9572100638528138, 2.3777194157936505, 2.127154625970418, 1.3876338537351538, 1.9150378722943726, 0.9032486160894659, 1.398158503679653, 3.412586713336941, 3.2728534657431454, 2.1536521461050073, 1.1686970375735377, 1.706487905627705, 1.6192864686979678, 3.2532025640059943, 1.6938889668109665, 0.9899656865079366, 2.19029501984127, 1.1709986919191921, 0.7321144044289042, 1.9136793228715725, 0.7706745781440781, 2.2732009402597395, 2.913729625699856, 1.5988856782106782, 1.6900264642135645, 2.893800688510101, 1.110400832251082, 2.2898559458874463, 1.348170119047619, 1.8965067444444441, 2.299340251962482, 2.706733725158175, 2.5190363870057713, 1.7326975284992776, 1.0007563756673887, 3.5626715018376056, 4.805697366428566, 2.3414781405772, 3.1868281191089483, 1.0087900313852811, 1.1644666541774888, 1.759345958874459, 4.205777230118214, 1.9381467677777784, 1.2618669523809525, 1.4946529485209237, 1.6630048556166057, 3.217307671248197, 0.8784627976190472, 1.0639243815628818, 1.7534372777777785, 3.839402831190478, 3.327162261399713, 2.0220454596436883, 1.987028555555555, 3.946109178340548, 2.4154175134920637, 1.3444273773448774, 1.2913152976190476, 1.1443396933621934, 2.264366626984127, 2.413151772330447, 0.8372685396825398, 3.7601209229761894, 3.6761648733982693, 2.5729265158730157, 1.4872529408369402, 2.9027770025252537, 2.3339329170274166, 0.5906794883172384, 2.4268891648845594, 2.2950627579365075, 1.797703104256854, 1.087741523809524, 1.4185671736874241, 3.8291010489682544, 2.8594861286507944, 2.7776356884956708, 2.24152746019536, 0.7223879063991564, 1.9035095424575428, 1.450898821428571, 4.043081904289321, 1.2999700805916308, 2.9813573801948046, 3.2335971846098333, 2.434777086374737, 1.2233699179709179, 1.0533681746031747, 0.7956065927128426, 4.10273453073371, 1.8964136703851695, 0.8459179909812413, 1.0458149072871576, 4.125934725277777, 2.599756635281385, 1.4774279682539677, 2.1560701116161614, 2.5212115048520922, 2.662974418253968, 1.865426861305362, 2.184281425324676, 2.613118020202019, 1.312313778860029, 2.1468369578643576, 3.6203762046031738, 2.425560274375902, 1.2800652561327561, 1.4559734350649354, 2.460208341125541, 0.936177770923521, 1.8427880074314575, 3.095981627429793, 1.3775204097863252, 2.32792816940837, 0.9642592849927847, 3.4853887572313793, 0.9670210714285713, 0.9988440897990897, 4.206942414743868, 2.7384887654653682, 1.5868585869408363, 1.8192543157953156, 1.0534345595238097, 1.3058893354978358, 1.422968553073593, 4.641712187976188, 0.9865693730158731, 2.9653409874472754, 4.567787311219057, 1.9669498928571434, 1.1955903162193362, 2.450537341630592, 0.6890330735930736, 1.8461071778499272, 0.7772572676767676, 4.0437001685101, 5.000009999999989, 0.9482258308080808, 1.3908306815462317, 0.5615951724386722, 3.3281427994444455, 1.0611250750915753, 3.375671022424244, 2.1038554752164504, 2.0978526841491836, 1.8462893099134192, 2.4173371552469756, 2.695223350887446, 2.35991294936508, 2.595782462987013, 1.0683511893939395, 1.9656613953823945, 1.910915733877233, 1.7318607460317457, 1.6465654989454992, 2.0827175263708515, 1.0553723596681097, 1.7279842976190471, 1.9083445657203917, 2.6408615658730166, 2.748547100667388, 2.7080231794350107, 1.221065273809524, 0.5923275753968251, 1.1520237899045396, 1.379280100447331, 1.4780992362914864, 3.8762629145454537, 0.765710966666667, 3.408281004322346, 0.8070677652958151, 1.3581149846819849, 1.9411369037074042, 1.5713289353590851, 1.7988821356998563, 2.022491993463203, 3.0571763382173374, 1.3325070634920633, 0.8744093218661894, 2.2756519880952384, 2.372419389249639, 1.253311003968254, 2.237059456504607, 2.834788463601953, 0.9782926753246752, 1.305301013708514, 2.097916051393051, 1.1853438219322343, 2.486567821904762, 2.335651842496392, 2.5507236120490635, 2.5928135625, 1.630382055194805, 2.0022658654401146, 0.9975378780663781, 1.4999708416064492, 2.256800551825397, 1.7109845483127981, 0.7366818780663782, 1.9092850198412705, 4.81650109140692, 1.7632809051226552, 1.3852466337273839, 1.6258988134920636, 1.1202331421078922, 0.6609149155011658, 2.3275349618759016, 1.8125111324639251, 2.493747000854701, 0.610954094877345, 1.5312382960372954, 3.138032773917749, 3.5085250830375183, 1.4763354884559874, 2.5695874801587304, 2.259575694805195, 3.9956078777958157, 2.7323000964368975, 2.0560610427272725, 1.696801214285714, 0.600076747113997, 0.8755843470695972, 1.0397540952380953, 1.4936234404761901, 0.7472232287157289, 2.857973503333334, 1.6479106919191917, 0.6390230598853924, 2.8183521250901884, 1.3848732663419907, 2.368380947145909, 1.8342821789321786, 2.019288631297591, 1.5754358333333343, 3.0508212321861476, 5.000009999999989, 2.3729467070707075, 2.383115848845599, 1.7069962993872791, 3.3931930295454538, 0.9725098217893213, 1.0228437893217897, 0.8185715474603178, 3.4393655405982897, 4.261531782494172, 2.6309241865079356, 2.729669422301587, 4.929389848809516, 0.7905245066738817, 0.6192516513708517, 3.19278741327561, 1.9816074567099569, 1.7791749204406702, 3.586661585994007, 2.8395323297113997, 2.7936209254509383, 4.744721900833327, 2.800023029941725, 2.7907804920634907, 1.5767138769841267, 1.3068852356532359, 1.906254050505051, 1.7613154859307363, 2.0879139523809522, 1.5267395815295817, 1.3145360764790766, 1.1702881590909089, 3.2306639375468977, 1.8898946991341992, 1.617684492063492, 2.325304089242424, 1.0293835555555557, 0.9700418863636366, 0.6516870617604618, 0.9068135873015872, 3.8083458760750357, 0.7473382222222223, 4.447034710796981, 1.0993069047619048, 4.417936385187586, 4.648673913849202, 1.5788749907287152, 1.9108724938672441, 2.503857412698413, 3.8621282242352093, 2.4238313105266958, 1.4744575483405475, 1.4787992777777774, 2.5236104848484855, 2.1740632435064935, 3.7869201029761888, 2.538978507575757, 1.5639749498556998, 4.049055350079366, 1.9015328611111104, 1.9922596064213562, 3.0431635046608947, 1.11531727994228, 2.5887684424963924, 2.8194114230158744, 2.1421540079365076, 2.6555582453066364, 1.8535755753968257, 4.443037965598842, 3.498562677619048, 3.499603483282827, 2.41916236111111, 1.1708525822788323, 1.2326052644300147, 1.2116590984848485, 2.5371939630591633, 1.6855399365079358, 0.7453430624098124, 1.8539653103174607, 2.670254781349207, 4.547473334743863, 1.0554573954933952, 1.4065649444444452, 1.3922159729437231, 3.9658583983946603, 2.5856524218253973, 2.231111044576258, 1.0841237896825398, 1.0120684920634921, 2.633012993214286, 1.5489679647727272, 3.3628422425108244, 1.0325743761238761, 3.9991553593470415, 0.6483511189088687, 1.8101840072705067, 0.6760312124819624, 0.7649006565656564, 1.2549595566378065, 2.0332459265151512, 1.7529811127705637, 1.678624996536796, 2.2405808095238084, 3.7674372600793657, 2.2026962514430006, 1.5787332341269842, 1.2435257770562769, 1.5231059335664339, 1.6194879817571317, 1.7047516651515153, 2.2250305801587302, 1.2105626684704185, 0.7631655977355974, 1.292392028499278, 2.645543489646465, 0.7468811681096682, 1.4434811111111108, 1.3828465663780667, 4.026360847579365, 1.2901990158730154, 4.77567547956349, 1.4273970674603178, 1.8104879435786438, 1.3924542799422799, 1.2212556593129096, 1.4299333920634922, 0.8407872976190476, 1.3849941994949488, 0.8836078474025976, 1.225957884920635, 2.8678374726190476, 2.4311502220057717, 2.4716151323953817, 0.7686433430735933, 1.9437602182539677, 2.15769881917749, 2.543670631114718, 2.045219925324675, 1.3887612910618796, 2.1997141409795766, 1.470273734805195, 1.8479395674170271, 2.782347492135642, 2.8446448724603157, 3.422103679296261, 3.0665841261904774, 1.9475085042762792, 1.8541637936507933, 1.3154543301975798, 1.7647429700577195, 1.3025759935619934, 1.1699679270576644, 0.6986966904761904, 2.0344698275613275, 1.1316381144133645, 1.2373184300144298, 2.842458695670996, 1.6804768388455984, 2.8856826777056277, 2.9435369818514823, 1.8482870970418468, 3.606872597375958, 1.1336227438672437, 4.046819668091631, 2.0445444409956712, 2.806544966089467, 1.9118491308136298, 2.6200292626262622, 2.3372730844252967, 2.1851570714285713, 1.4275064613997115, 2.525896137229436, 2.605038124206349, 2.816268130418471, 0.890840304639805, 1.6945973495670996, 4.104490872341268, 0.7317992370129868, 1.0451540544733045, 1.097047417582417, 1.7823894844599852, 2.2786170995671005, 0.9529031910311911, 3.9193208490764793, 2.1710035497835496, 1.6377229343434347, 2.4001084759595965, 1.894093072538573, 2.274176135512265, 2.8939238973304473, 2.0174847748917752, 2.47482502922078, 2.2317248998556996, 3.1514892553035856, 2.46675134126984, 2.636870155372405, 2.331041250375182, 1.1691420746753247, 1.2060757940115436, 1.1781003975468978, 4.19876745270202, 2.8895470826567875, 1.426288702741703, 2.4216123857142855, 2.136903613286713, 1.1209368401875903, 1.633388511904762, 1.4046437050505052, 1.4051987991175487, 2.8519598095238097, 1.641532051587302, 1.6724376150793652, 2.1744676879509384, 0.8309691735209235, 2.153099195515873, 3.4623791021023447, 1.4706339404761906, 2.6784783463203454, 1.1245335299422798, 1.9926419525613277, 1.4087193282828274, 1.3634248528138526, 2.197117430339105, 1.0494772431457429, 3.529725080681817, 2.4887181531746028, 2.2445652777777774, 0.8339804368831172, 1.670960074564325, 1.895818351154401, 1.0904873820346321, 1.6590483107448097, 1.4763272023809524, 1.5701673293650789, 2.165372189865691, 3.0301247016522384, 2.530676987579365, 1.6200962950937952, 2.521920495436509, 1.66054053066378, 2.173985130750362, 1.1324143870851366, 2.660120908369409, 3.3071257295604384, 0.930375884920635, 3.2569583020634916, 0.8167489297646797, 2.5352461291269837, 0.5418979873737377, 1.0568546448051945, 2.203017735569985, 0.5580460466200466, 3.545480090400435, 1.6443032308802321, 1.0780120959595962, 2.389856824786325, 2.569835230555556, 1.384027344516595, 1.8788320050505056, 2.511902551892553, 2.7831735836580083, 3.0447381284776327, 1.0103838625541128, 3.319846443650793, 4.204814662954547, 1.6951724007936506, 2.171465055555556, 1.7322420234487736, 3.2037051799134195, 0.7308432168109669, 1.2011493885281388, 3.793188811789321, 2.437885057954546, 1.1818322124819627, 1.0049286406926408, 2.398158626456876, 3.3005584634740246, 3.367164545654346, 1.7242151277056275, 3.2806241276437453, 1.5026761269841267, 2.4930658313095235, 3.2428641402380953, 0.9086341205461207, 1.4289548290598293, 5.000009999999989, 0.948718453102453, 2.070099443001443, 1.1315137604617604, 4.425797933183756, 1.5593823968253966, 2.3065549332611837, 2.5095564873737373, 0.6179775954600955, 1.301113545454546, 1.4960944765512267, 2.7664975743145743, 1.0536845587190589, 2.6913197424747484, 3.631883041244588, 1.2056977233044734, 1.7490270349927854, 4.210706021735209, 2.0437477785714275, 1.694991351370851, 2.874961579365079, 2.197482048340548, 1.5255257500000006, 1.9539529987012987, 1.3619768441558435, 1.028247257936508, 1.1184934191919196, 2.7290695899134185, 0.5826255912698413, 3.565555924517705, 1.5065348966977468, 2.603416629776336, 0.9480928556998559, 2.480475085026085, 5.000009999999989, 2.5975758846764347, 2.089681301587302, 4.891855977738086, 2.7961529303968256, 0.956223765873016, 2.9042911518759023, 2.0678518351370845, 1.56021043933844, 3.957384591269839, 1.1350988416305916, 0.862237658008658, 2.8757613562950928, 1.5943343420634917, 1.7946642682872684, 1.5396845, 1.5539234436951939, 2.2415076286113886, 1.1996658637806634, 2.024957031746032, 0.8843784332611832, 4.573956423531743, 1.3804705618686868, 0.9898619989177491, 0.7861765317460317, 3.4732843875468973, 1.2374807499167502, 0.5297127763347763, 1.4510669372294374, 1.2662621230158726, 2.8672124691514034, 1.7607107500000005, 1.194871936868687, 2.5756767286435784, 2.442260353730159, 2.1387977341269844, 2.741426308008656, 1.1535887657620156, 2.8732344629742474, 1.4653608643578644, 1.9841408069985564, 3.6092084806818168, 2.647550883228994, 1.4951048243145744, 0.649521511904762, 0.6266968208180709, 0.9660660808080812, 4.642533033757908, 1.381073548340548, 0.6074752023809523, 1.7837527445887453, 3.3199403425396823, 1.40331886038961, 0.8835576150793646, 2.490208542568542, 4.032864010750361, 1.4866422622655133, 2.1190657222222224, 1.9737972012154512, 2.1537232978787877, 0.6374189566378066, 1.8487344574314575, 2.132157666727718, 0.9280192316017315, 1.042821665945166, 1.8430810818070815, 3.977278325595235, 1.6336328691919189, 2.6260090515506715, 1.926720286230158, 1.5361225263347758, 2.3011727892568534, 0.9859354657287156, 1.673524515584416, 0.6779133095238093, 2.2307617214285718, 0.7566470655483402, 1.1608206619769115, 3.6313738912881557, 1.49271098975469, 1.5916907976190477, 0.8700421922799428, 1.341227884615384, 1.5978115399877901, 1.3256670032467528, 3.236469087604617, 3.3685260592748922, 2.003968623931625, 2.6506333199855705, 1.1482193307803308, 3.203838733694084, 1.3301238593073592, 1.5234033930375181, 1.488481867243867, 1.745457822918748, 2.553879101886447, 1.3444580779220783, 2.6704474952380957, 3.0905356975000005, 2.1172344978354976, 4.18628071856782, 2.4714237590109907, 2.5630664743867246, 1.76956583005883, 3.7670486929617613, 2.751097453463204, 5.000009999999989, 1.9544160035064935, 2.072285059704185, 4.388262494379505, 1.480611376984126, 1.7893421482656238, 2.577247741071429, 2.74818879056277, 0.9197902077922079, 2.5883279963369974, 2.67570314491453, 1.2606100714285715, 2.4212064484126983, 1.7086737222222217, 3.0876573470634936, 2.5758521375180368, 0.49573945303030315, 4.397156620519478, 1.0600589642857137, 3.885959249734431, 2.958026151468253, 1.7645648452380962, 1.5558350198412692, 2.1691375804473303, 1.3049696486291484, 1.2199355833333332, 2.5844044483694093, 3.1222316276262636, 1.8576002664002655, 2.700580052092352, 1.3371356706349207, 3.5434843920743133, 1.5569333051948049, 3.507114689801587, 2.840535816522366, 4.293162584487731, 1.8517411626984128, 2.767470198412698, 1.0443615822510823, 2.3083742573412693, 1.4692867619047625, 3.308086535483406, 0.6587430666000665, 1.186945714285714, 1.9330720501442995, 1.7725554981962488, 1.7223719563492068, 3.3953981283838375, 1.9470071321428564, 0.646113420634921, 0.7292415270562769, 2.103154081277056, 0.7166342720057723, 0.8370793369641469, 2.653915962261905, 3.876199697817459, 4.887383358080803, 2.378520826118326, 2.8645710606926404, 2.946886572020203, 0.6378215306637806, 1.2850345768398277, 0.668917288095238, 0.9291795277222781, 1.2639023715451214, 2.36571869083694, 1.09627517005772, 0.5007805147352646, 2.25608154040404, 0.9774964805194807, 2.162777329004329, 2.4583258379509387, 1.9651000386002895, 3.4959330566269826, 2.0195189771645023, 2.5745109251037848, 1.4441802792207787, 2.024038654706405, 0.8297706287878789, 3.807291243499279, 4.976895094206339, 1.176970722222222, 4.989535657142846, 1.378516027777778, 2.6225823899855705, 1.551583393578644, 2.1200229156210457, 4.654168051572871, 0.9191067649206349, 3.3180785809523825, 4.182451534498553, 2.7699000915873024, 4.9424291502777695, 2.7217806434018756, 2.0584935989898994, 1.1039498986291487, 1.62890917929293, 1.9482253520923527, 2.2431639497114, 1.297875176961927, 2.2791273849206353, 2.556003451770452, 2.286484693328893, 5.000009999999989, 2.6106837998665218, 1.6116748091630597, 1.9318890137085134, 1.16033712012987, 2.2802482817460317, 1.8712302939837948, 1.1999012492784993, 1.9984553548396051, 1.9643777007814405, 2.794348581707181, 1.5132067770562767, 2.8415602881096693, 1.464080436507937, 2.696186082402597, 2.912676255483403, 3.748637352738095, 1.225041817099567, 4.147157907922075, 3.185810055467587, 1.0274863650793653, 2.970090803412697, 0.7403867817460318, 1.0220441322061276, 1.0531130934343431, 1.1572350555555555, 2.4539082949999997, 1.5858680654623154, 1.413202201298701, 2.7518667462842723, 3.625002967793595, 4.635199294246028, 2.7983939876767683, 2.4729816809523806, 3.5809390486507944, 5.000009999999989, 2.126682444660895, 1.8303491543734045, 1.2329068347763343, 1.917802348040848, 4.175966637553002, 0.9492564300144298, 1.0576848766233764, 1.9074442658730155, 1.7880915400432889, 0.63103787012987, 1.6240905963203465, 1.0285419469696966, 3.7660259331052264, 2.05826876031746, 2.3927737748917757, 2.2415839841269842, 0.820273762626263, 0.8336427330447331, 3.9025006116594505, 1.356084537157287, 1.9530491623376622, 1.9628633395526691, 1.419940484931735, 1.8784007182539677, 0.7502609015151517, 2.40208719508547, 0.936904225829726, 1.475506077777778, 1.5732510107975362, 1.6990740310245303, 3.3383645869469416, 4.022073272976189, 1.4045889684870685, 2.862556843953823, 2.2130088015873017, 1.5857194481351982, 2.153108621184371, 2.061311435281385, 1.5882253139638147, 2.9352529896969686, 2.635127729437229, 4.0822987559523805, 2.311888205738706, 1.7044357738095233, 3.335772756951659, 2.654120962784993, 2.329418861055612, 2.436344226689977, 1.9224726774891778, 1.0149480353535356, 3.3412642779367867, 1.925338557142858, 1.8769841987179492, 1.339120007936509, 3.7035251449891784, 4.912880073214279, 3.0464142626670547, 1.8200944121031741, 2.0079299729437228, 2.1145366275946276, 1.4227129031246535, 2.8734669045165937, 0.6976111746031747, 0.6719002662193363, 4.080620449999998, 2.531096473571428, 1.4623250898268392, 2.6181727474927836, 4.730628063492059, 3.4230618711724405, 2.0625609354256857, 3.6211447042658733, 3.867249291702742, 3.2058480908053064, 0.71447137987013, 2.316002132550504, 3.2607380872222227, 1.802476535714286, 1.2744796125541127, 0.8820272485569985, 0.8159780652958152, 1.9065512860750358, 1.9002350274170274, 1.0761221922799422, 3.7545884468001445, 2.093293375685426, 1.3347734197191696, 3.316620759617604, 2.018896207070707, 1.1995798109668108, 0.8249203398268395, 1.7020449722222215, 3.1659118437301585, 2.9374491169885664, 0.981202793650794, 4.253911142211399, 1.2442129170274165, 1.4313156901154407, 1.2497363888333883, 2.524473049123099, 2.1974208849206347, 2.4075232003968257, 2.0800455353535354, 1.7337289617604617, 4.482379757301584, 1.6186433494047625, 0.6273298495238098, 2.023280675241425, 1.8893008995726488, 1.3972209880952378, 3.0135413326190483, 1.5178027658730164, 4.842900321031738, 2.0195505198412693, 2.219942136356421, 2.027075226349206, 2.242221732539684, 1.3892018820346317, 1.7309729054401157, 2.901483194155844, 2.60823357135642, 1.3551852182539676, 2.163383120137085, 3.6409181919841274, 1.8832570685425685, 1.6835979365079368, 1.5124552871572872, 1.3603602168109667, 2.064888732323233, 2.404448809523811, 2.532473292081529, 1.691737933261183, 1.6069492433122434, 1.8991832820790326, 2.938679012409813, 3.9227768072985314, 1.8930268151010103, 1.5348008225274727, 1.7653470479853488, 1.0724937261904757, 0.9312518944666447, 0.8711480790043289, 2.041955502222222, 3.846178214289042, 1.4917736075036074, 1.347814652236652, 0.8091947222222221, 1.6264642367965372, 2.1539108033910526, 4.636263744285714, 1.9643159603174607, 1.550880036147186, 1.170848365079365, 3.1311864418176283, 4.8137548696825325, 3.022021621197691, 2.745677877987013, 0.49306748412698403, 1.2150218391053393, 1.289964013968254, 1.0895088481240984, 2.1976240192279946, 4.077640455198413, 1.4735411125901874, 1.5831982983405481, 1.532803656204906, 2.5698313853968244, 2.9358354452813855, 2.738325037518038, 2.646711284379508, 4.547682770421244, 0.8625161707181707, 1.2596803892496395, 3.0072816116666665, 4.204055992136752]'\n"
     ]
    }
   ],
   "source": [
    "# npy serialization\n",
    "from io import BytesIO\n",
    "\n",
    "\n",
    "# Serialise numpy ndarray as bytes\n",
    "buffer = BytesIO()\n",
    "# Assuming testX is a data frame\n",
    "np.save(buffer, testX[data.feature_names].values)\n",
    "\n",
    "response = runtime.invoke_endpoint(\n",
    "    EndpointName=predictor.endpoint, Body=buffer.getvalue(), ContentType=\"application/x-npy\"\n",
    ")\n",
    "\n",
    "print(response[\"Body\"].read())"
   ]
  },
  {
   "cell_type": "markdown",
   "id": "a3b13de5",
   "metadata": {},
   "source": [
    "### (선택 사항) 엔드포인트 삭제\n",
    "\n",
    "이 노트북을 완성할 준비가 되셨다면 아래 셀에 있는 delete_endpoint 줄을 실행하세요.  이렇게 하면 생성한 호스팅된 엔드포인트가 제거되고 방치된 인스턴스로 인한 요금이 부과되는 것을 방지할 수 있습니다."
   ]
  },
  {
   "cell_type": "code",
   "execution_count": null,
   "id": "c5398938",
   "metadata": {},
   "outputs": [],
   "source": [
    "predictor.delete_endpoint()"
   ]
  },
  {
   "cell_type": "markdown",
   "id": "9145ac7c",
   "metadata": {},
   "source": [
    "## 결론"
   ]
  },
  {
   "cell_type": "markdown",
   "id": "4543c65a",
   "metadata": {},
   "source": [
    "이 노트북에서는 Amazon SageMaker scikit-learn 컨테이너를 사용하여 사전 학습된 scikit-learn 모델을 성공적으로 배포하여 해당 모델에 대한 호스팅된 엔드포인트를 빠르게 만들었습니다.\n",
    "그런 다음 Python SDK와 `boto3`를 사용하여 `csv` 페이로드를 사용하여 엔드포인트를 호출한 다음 `npy` 페이로드를 사용하여 모델에서 예측을 가져옵니다.\n",
    "\n",
    "다음 단계로 [아마존 세이지메이커 모델 자동 확장](https://docs.aws.amazon.com/sagemaker/latest/dg/endpoint-auto-scaling.html), [모델 레지스트리로 모델 등록 및 배포](https://docs.aws.amazon.com/sagemaker/latest/dg/model-registry.html) 또는 [아마존 세이지메이커로 모델 훈련](https://docs.aws.amazon.com/sagemaker/latest/dg/how-it-works-training.html)을 시도해 볼 수 있습니다.\n",
    "\n",
    "\n"
   ]
  },
  {
   "cell_type": "markdown",
   "id": "62e9d883",
   "metadata": {},
   "source": [
    "## 노트북 CI 테스트 결과\n",
    "\n",
    "이 노트북은 여러 지역에서 테스트되었습니다. 테스트 결과는 다음과 같으며 노트북 상단에 표시된 US-WEST-2는 제외됩니다.\n",
    "\n",
    "\n",
    "![This us-east-1 badge failed to load. Check your device's internet connectivity, otherwise the service is currently unavailable](https://prod.us-west-2.tcx-beacon.docs.aws.dev/sagemaker-nb/us-east-1/advanced_functionality|scikit_learn_bring_your_own_model|scikit_learn_bring_your_own_model.ipynb)\n",
    "\n",
    "![This us-east-2 badge failed to load. Check your device's internet connectivity, otherwise the service is currently unavailable](https://prod.us-west-2.tcx-beacon.docs.aws.dev/sagemaker-nb/us-east-2/advanced_functionality|scikit_learn_bring_your_own_model|scikit_learn_bring_your_own_model.ipynb)\n",
    "\n",
    "![This us-west-1 badge failed to load. Check your device's internet connectivity, otherwise the service is currently unavailable](https://prod.us-west-2.tcx-beacon.docs.aws.dev/sagemaker-nb/us-west-1/advanced_functionality|scikit_learn_bring_your_own_model|scikit_learn_bring_your_own_model.ipynb)\n",
    "\n",
    "![This ca-central-1 badge failed to load. Check your device's internet connectivity, otherwise the service is currently unavailable](https://prod.us-west-2.tcx-beacon.docs.aws.dev/sagemaker-nb/ca-central-1/advanced_functionality|scikit_learn_bring_your_own_model|scikit_learn_bring_your_own_model.ipynb)\n",
    "\n",
    "![This sa-east-1 badge failed to load. Check your device's internet connectivity, otherwise the service is currently unavailable](https://prod.us-west-2.tcx-beacon.docs.aws.dev/sagemaker-nb/sa-east-1/advanced_functionality|scikit_learn_bring_your_own_model|scikit_learn_bring_your_own_model.ipynb)\n",
    "\n",
    "![This eu-west-1 badge failed to load. Check your device's internet connectivity, otherwise the service is currently unavailable](https://prod.us-west-2.tcx-beacon.docs.aws.dev/sagemaker-nb/eu-west-1/advanced_functionality|scikit_learn_bring_your_own_model|scikit_learn_bring_your_own_model.ipynb)\n",
    "\n",
    "![This eu-west-2 badge failed to load. Check your device's internet connectivity, otherwise the service is currently unavailable](https://prod.us-west-2.tcx-beacon.docs.aws.dev/sagemaker-nb/eu-west-2/advanced_functionality|scikit_learn_bring_your_own_model|scikit_learn_bring_your_own_model.ipynb)\n",
    "\n",
    "![This eu-west-3 badge failed to load. Check your device's internet connectivity, otherwise the service is currently unavailable](https://prod.us-west-2.tcx-beacon.docs.aws.dev/sagemaker-nb/eu-west-3/advanced_functionality|scikit_learn_bring_your_own_model|scikit_learn_bring_your_own_model.ipynb)\n",
    "\n",
    "![This eu-central-1 badge failed to load. Check your device's internet connectivity, otherwise the service is currently unavailable](https://prod.us-west-2.tcx-beacon.docs.aws.dev/sagemaker-nb/eu-central-1/advanced_functionality|scikit_learn_bring_your_own_model|scikit_learn_bring_your_own_model.ipynb)\n",
    "\n",
    "![This eu-north-1 badge failed to load. Check your device's internet connectivity, otherwise the service is currently unavailable](https://prod.us-west-2.tcx-beacon.docs.aws.dev/sagemaker-nb/eu-north-1/advanced_functionality|scikit_learn_bring_your_own_model|scikit_learn_bring_your_own_model.ipynb)\n",
    "\n",
    "![This ap-southeast-1 badge failed to load. Check your device's internet connectivity, otherwise the service is currently unavailable](https://prod.us-west-2.tcx-beacon.docs.aws.dev/sagemaker-nb/ap-southeast-1/advanced_functionality|scikit_learn_bring_your_own_model|scikit_learn_bring_your_own_model.ipynb)\n",
    "\n",
    "![This ap-southeast-2 badge failed to load. Check your device's internet connectivity, otherwise the service is currently unavailable](https://prod.us-west-2.tcx-beacon.docs.aws.dev/sagemaker-nb/ap-southeast-2/advanced_functionality|scikit_learn_bring_your_own_model|scikit_learn_bring_your_own_model.ipynb)\n",
    "\n",
    "![This ap-northeast-1 badge failed to load. Check your device's internet connectivity, otherwise the service is currently unavailable](https://prod.us-west-2.tcx-beacon.docs.aws.dev/sagemaker-nb/ap-northeast-1/advanced_functionality|scikit_learn_bring_your_own_model|scikit_learn_bring_your_own_model.ipynb)\n",
    "\n",
    "![This ap-northeast-2 badge failed to load. Check your device's internet connectivity, otherwise the service is currently unavailable](https://prod.us-west-2.tcx-beacon.docs.aws.dev/sagemaker-nb/ap-northeast-2/advanced_functionality|scikit_learn_bring_your_own_model|scikit_learn_bring_your_own_model.ipynb)\n",
    "\n",
    "![This ap-south-1 badge failed to load. Check your device's internet connectivity, otherwise the service is currently unavailable](https://prod.us-west-2.tcx-beacon.docs.aws.dev/sagemaker-nb/ap-south-1/advanced_functionality|scikit_learn_bring_your_own_model|scikit_learn_bring_your_own_model.ipynb)\n"
   ]
  }
 ],
 "metadata": {
  "anaconda-cloud": {},
  "instance_type": "ml.t3.medium",
  "kernelspec": {
   "display_name": "conda_python3",
   "language": "python",
   "name": "conda_python3"
  },
  "language_info": {
   "codemirror_mode": {
    "name": "ipython",
    "version": 3
   },
   "file_extension": ".py",
   "mimetype": "text/x-python",
   "name": "python",
   "nbconvert_exporter": "python",
   "pygments_lexer": "ipython3",
   "version": "3.10.12"
  },
  "notice": "Copyright 2017 Amazon.com, Inc. or its affiliates. All Rights Reserved.  Licensed under the Apache License, Version 2.0 (the \"License\"). You may not use this file except in compliance with the License. A copy of the License is located at http://aws.amazon.com/apache2.0/ or in the \"license\" file accompanying this file. This file is distributed on an \"AS IS\" BASIS, WITHOUT WARRANTIES OR CONDITIONS OF ANY KIND, either express or implied. See the License for the specific language governing permissions and limitations under the License."
 },
 "nbformat": 4,
 "nbformat_minor": 5
}
